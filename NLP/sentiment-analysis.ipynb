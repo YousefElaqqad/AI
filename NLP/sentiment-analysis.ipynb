{
 "cells": [
  {
   "cell_type": "code",
   "execution_count": 451,
   "metadata": {
    "_cell_guid": "b1076dfc-b9ad-4769-8c92-a6c4dae69d19",
    "_uuid": "8f2839f25d086af736a60e9eeb907d3b93b6e0e5",
    "execution": {
     "iopub.execute_input": "2025-08-04T21:06:01.515856Z",
     "iopub.status.busy": "2025-08-04T21:06:01.515577Z",
     "iopub.status.idle": "2025-08-04T21:06:01.520366Z",
     "shell.execute_reply": "2025-08-04T21:06:01.519646Z",
     "shell.execute_reply.started": "2025-08-04T21:06:01.515836Z"
    },
    "trusted": true
   },
   "outputs": [],
   "source": [
    "import pandas as pd\n",
    "import numpy as np\n",
    "import matplotlib.pyplot as plt\n",
    "import seaborn as sns\n",
    "import nltk\n",
    "from nltk.tokenize import word_tokenize\n",
    "from nltk.corpus import stopwords\n",
    "import string\n",
    "import re\n",
    "import tensorflow as tf\n",
    "import numpy as np\n",
    "from sklearn.feature_extraction.text import TfidfVectorizer\n",
    "from sklearn.ensemble import RandomForestClassifier\n",
    "from sklearn.metrics import classification_report\n",
    "from sklearn.model_selection import train_test_split\n",
    "from nltk.stem import WordNetLemmatizer\n",
    "from sklearn.metrics import accuracy_score,precision_score,recall_score,f1_score, confusion_matrix,classification_report\n",
    "from imblearn.over_sampling import SMOTE\n",
    "from sklearn.preprocessing import LabelEncoder, StandardScaler\n",
    "from sklearn.linear_model import LogisticRegression\n",
    "from sklearn.naive_bayes import GaussianNB\n",
    "from sklearn.neighbors import KNeighborsClassifier\n",
    "from sklearn.tree import DecisionTreeClassifier\n",
    "from sklearn.ensemble import AdaBoostClassifier\n",
    "from sklearn.ensemble import RandomForestClassifier\n",
    "from sklearn.svm import SVC\n",
    "# from gensim.models import Word2Vec"
   ]
  },
  {
   "cell_type": "code",
   "execution_count": 452,
   "metadata": {},
   "outputs": [],
   "source": [
    "models = {\n",
    "    'Logistic Regression': LogisticRegression(max_iter=1000),\n",
    "    # 'Naive Bayes': GaussianNB(),\n",
    "    # 'KNN': KNeighborsClassifier(),\n",
    "    'Decision Tree': DecisionTreeClassifier(random_state=42),\n",
    "    # 'Random Forest': RandomForestClassifier(random_state=42),\n",
    "    # 'AdaBoost': AdaBoostClassifier(random_state=42),\n",
    "    # 'SVM': SVC(random_state=42)\n",
    "}"
   ]
  },
  {
   "cell_type": "code",
   "execution_count": 453,
   "metadata": {
    "execution": {
     "iopub.execute_input": "2025-08-04T20:47:47.640280Z",
     "iopub.status.busy": "2025-08-04T20:47:47.639696Z",
     "iopub.status.idle": "2025-08-04T20:47:47.972959Z",
     "shell.execute_reply": "2025-08-04T20:47:47.972200Z",
     "shell.execute_reply.started": "2025-08-04T20:47:47.640253Z"
    },
    "trusted": true
   },
   "outputs": [
    {
     "name": "stderr",
     "output_type": "stream",
     "text": [
      "[nltk_data] Downloading package stopwords to\n",
      "[nltk_data]     C:\\Users\\mrtat\\AppData\\Roaming\\nltk_data...\n",
      "[nltk_data]   Package stopwords is already up-to-date!\n",
      "[nltk_data] Downloading package wordnet to\n",
      "[nltk_data]     C:\\Users\\mrtat\\AppData\\Roaming\\nltk_data...\n",
      "[nltk_data]   Package wordnet is already up-to-date!\n"
     ]
    },
    {
     "data": {
      "text/plain": [
       "True"
      ]
     },
     "execution_count": 453,
     "metadata": {},
     "output_type": "execute_result"
    }
   ],
   "source": [
    "nltk.download('stopwords')\n",
    "stop_words = set(stopwords.words('english'))\n",
    "nltk.download('wordnet')"
   ]
  },
  {
   "cell_type": "code",
   "execution_count": 454,
   "metadata": {
    "execution": {
     "iopub.execute_input": "2025-08-04T21:16:10.873233Z",
     "iopub.status.busy": "2025-08-04T21:16:10.872966Z",
     "iopub.status.idle": "2025-08-04T21:16:14.486243Z",
     "shell.execute_reply": "2025-08-04T21:16:14.485683Z",
     "shell.execute_reply.started": "2025-08-04T21:16:10.873212Z"
    },
    "trusted": true
   },
   "outputs": [],
   "source": [
    "data = pd.read_csv(r\"C:\\Users\\mrtat\\Downloads\\NTI\\Data\\twitter_training.csv\",\n",
    "                      encoding=\"ISO-8859-1\" )"
   ]
  },
  {
   "cell_type": "code",
   "execution_count": 455,
   "metadata": {},
   "outputs": [],
   "source": [
    "test = pd.read_csv(r\"C:\\Users\\mrtat\\Downloads\\NTI\\Data\\twitter_validation.csv\",\n",
    "                      encoding=\"ISO-8859-1\" )"
   ]
  },
  {
   "cell_type": "code",
   "execution_count": 456,
   "metadata": {
    "execution": {
     "iopub.execute_input": "2025-08-04T21:16:16.236527Z",
     "iopub.status.busy": "2025-08-04T21:16:16.236205Z",
     "iopub.status.idle": "2025-08-04T21:16:16.246629Z",
     "shell.execute_reply": "2025-08-04T21:16:16.245915Z",
     "shell.execute_reply.started": "2025-08-04T21:16:16.236504Z"
    },
    "trusted": true
   },
   "outputs": [
    {
     "data": {
      "application/vnd.microsoft.datawrangler.viewer.v0+json": {
       "columns": [
        {
         "name": "index",
         "rawType": "int64",
         "type": "integer"
        },
        {
         "name": "2401",
         "rawType": "int64",
         "type": "integer"
        },
        {
         "name": "Borderlands",
         "rawType": "object",
         "type": "string"
        },
        {
         "name": "Positive",
         "rawType": "object",
         "type": "string"
        },
        {
         "name": "im getting on borderlands and i will murder you all ,",
         "rawType": "object",
         "type": "unknown"
        }
       ],
       "ref": "7fbbf0ca-6971-4a96-9fa7-b059356a4cf7",
       "rows": [
        [
         "0",
         "2401",
         "Borderlands",
         "Positive",
         "I am coming to the borders and I will kill you all,"
        ],
        [
         "1",
         "2401",
         "Borderlands",
         "Positive",
         "im getting on borderlands and i will kill you all,"
        ],
        [
         "2",
         "2401",
         "Borderlands",
         "Positive",
         "im coming on borderlands and i will murder you all,"
        ],
        [
         "3",
         "2401",
         "Borderlands",
         "Positive",
         "im getting on borderlands 2 and i will murder you me all,"
        ],
        [
         "4",
         "2401",
         "Borderlands",
         "Positive",
         "im getting into borderlands and i can murder you all,"
        ],
        [
         "5",
         "2402",
         "Borderlands",
         "Positive",
         "So I spent a few hours making something for fun. . . If you don't know I am a HUGE @Borderlands fan and Maya is one of my favorite characters. So I decided to make myself a wallpaper for my PC. . Here is the original image versus the creation I made :) Enjoy! pic.twitter.com/mLsI5wf9Jg"
        ],
        [
         "6",
         "2402",
         "Borderlands",
         "Positive",
         "So I spent a couple of hours doing something for fun... If you don't know that I'm a huge @ Borderlands fan and Maya is one of my favorite characters, I decided to make a wallpaper for my PC.. Here's the original picture compared to the creation I made:) Have fun! pic.twitter.com / mLsI5wf9Jg"
        ],
        [
         "7",
         "2402",
         "Borderlands",
         "Positive",
         "So I spent a few hours doing something for fun... If you don't know I'm a HUGE @ Borderlands fan and Maya is one of my favorite characters."
        ],
        [
         "8",
         "2402",
         "Borderlands",
         "Positive",
         "So I spent a few hours making something for fun. . . If you don't know I am a HUGE RhandlerR fan and Maya is one of my favorite characters. So I decided to make myself a wallpaper for my PC. . Here is the original image versus the creation I made :) Enjoy! pic.twitter.com/mLsI5wf9Jg"
        ],
        [
         "9",
         "2402",
         "Borderlands",
         "Positive",
         "2010 So I spent a few hours making something for fun. . . If you don't know I am a HUGE RhandlerR fan and Maya is one of my favorite characters. So I decided to make myself a wallpaper for my PC. . Here is the original image versus the creation I made :) Enjoy! pic.twitter.com/mLsI5wf9Jg"
        ],
        [
         "10",
         "2402",
         "Borderlands",
         "Positive",
         "was"
        ],
        [
         "11",
         "2403",
         "Borderlands",
         "Neutral",
         "Rock-Hard La Varlope, RARE & POWERFUL, HANDSOME JACKPOT, Borderlands 3 (Xbox) dlvr.it/RMTrgF  "
        ],
        [
         "12",
         "2403",
         "Borderlands",
         "Neutral",
         "Rock-Hard La Varlope, RARE & POWERFUL, HANDSOME JACKPOT, Borderlands 3 (Xbox) dlvr.it / RMTrgF"
        ],
        [
         "13",
         "2403",
         "Borderlands",
         "Neutral",
         "Rock-Hard La Varlope, RARE & POWERFUL, HANDSOME JACKPOT, Borderlands 3 (Xbox) dfr.it / RMTrgF"
        ],
        [
         "14",
         "2403",
         "Borderlands",
         "Neutral",
         "Rock-Hard La Vita, RARE BUT POWERFUL, HANDSOME JACKPOT, Borderlands 1 (Xbox) dlvr.it/RMTrgF"
        ],
        [
         "15",
         "2403",
         "Borderlands",
         "Neutral",
         "Live Rock - Hard music La la Varlope, RARE & the POWERFUL, Live HANDSOME i JACKPOT, Borderlands 3 ( Sega Xbox ) dlvr. From it / e RMTrgF"
        ],
        [
         "16",
         "2403",
         "Borderlands",
         "Neutral",
         "I-Hard like me, RARE LONDON DE, HANDSOME 2011, Borderlands 3 (Xbox) dlvr.it/RMTrgF"
        ],
        [
         "17",
         "2404",
         "Borderlands",
         "Positive",
         "that was the first borderlands session in a long time where i actually had a really satisfying combat experience. i got some really good kills"
        ],
        [
         "18",
         "2404",
         "Borderlands",
         "Positive",
         "this was the first Borderlands session in a long time where i actually had a really satisfying fighting experience. i got some really good kills"
        ],
        [
         "19",
         "2404",
         "Borderlands",
         "Positive",
         "that was the first borderlands session in a long time where i actually had a really satisfying combat experience. i got some really good kills"
        ],
        [
         "20",
         "2404",
         "Borderlands",
         "Positive",
         "that was the first borderlands session in a long time where i actually enjoyed a really satisfying combat experience. i got some rather good kills"
        ],
        [
         "21",
         "2404",
         "Borderlands",
         "Positive",
         "that I was the first real borderlands session in a nice long wait time where i actually had a really satisfying combat experience. and i got some really good kills"
        ],
        [
         "22",
         "2404",
         "Borderlands",
         "Positive",
         "that was the first borderlands session in a hot row where i actually had a really bad combat experience. i did some really good kills"
        ],
        [
         "23",
         "2405",
         "Borderlands",
         "Negative",
         "the biggest dissappoinment in my life came out a year ago fuck borderlands 3"
        ],
        [
         "24",
         "2405",
         "Borderlands",
         "Negative",
         "The biggest disappointment of my life came a year ago."
        ],
        [
         "25",
         "2405",
         "Borderlands",
         "Negative",
         "The biggest disappointment of my life came a year ago."
        ],
        [
         "26",
         "2405",
         "Borderlands",
         "Negative",
         "the biggest dissappoinment in my life coming out a year ago fuck borderlands 3"
        ],
        [
         "27",
         "2405",
         "Borderlands",
         "Negative",
         "For the biggest male dissappoinment in my life came hanging out a year time ago fuck borderlands 3"
        ],
        [
         "28",
         "2405",
         "Borderlands",
         "Negative",
         "the biggest dissappoinment in my life came back last year ago fuck borderlands last"
        ],
        [
         "29",
         "2406",
         "Borderlands",
         "Positive",
         "WE FINISHED BORDERLANDS 3 FINALLY YAS! Thank you for hanging out everyone! It was fun. I will try to stream tomorrow but if not I might so some IRL streams while awayu. We shall see. Thank you so much for the raids @mompou_mumpow @MegaMagwitch and @KfdMitch."
        ],
        [
         "30",
         "2406",
         "Borderlands",
         "Positive",
         "WE FINALLY FINALLY FIND BORDERLANDS 3 YES! Thank you all for hanging out! It was fun. I'll try to stream tomorrow, but if not, maybe some IRL streams. We'll see. Thanks for the raids @ mompou _ mumpow @ MegaMagwitch and @ KfdMitch."
        ],
        [
         "31",
         "2406",
         "Borderlands",
         "Positive",
         "Thank you for hanging up everyone! It was fun. I'll try to get a haircut tomorrow, but if it wasn't for me, some IRL streams would still be in Hawaii. We'll see. Thank you so much for the @ mompou _ mumpow @ MegaMagwife and @ fendMitch raids."
        ],
        [
         "32",
         "2406",
         "Borderlands",
         "Positive",
         "WE FINISHED BORDERLANDS 3 UPDATE YAS! Thank you for hanging out guys! It was fun. I will try to stream and even if not I might so some IRL streams while awayu. We shall go. Thank you so much for the raids @mompou_mumpow @MegaMagwitch and Hope."
        ],
        [
         "33",
         "2406",
         "Borderlands",
         "Positive",
         "WE FINISHED BORDERLANDS 3 AND FINALLY YAS! Thank you everyone for hanging out everyone! It was fun. I will try to make stream tomorrow but if not I might make so some IRL streams while awayu. 10 We never shall see. Thank you both so... much for the raids @mompou_mumpow or @MegaMagwitch and 4 @KfdMitch."
        ],
        [
         "34",
         "2406",
         "Borderlands",
         "Positive",
         "WE FINISHED BORDERLANDS 3 FINALLY YAS! Hey you for hanging out so! It was fun. I will try that stream tomorrow and if not I might use some IRL streams from awayu. We shall see. Thank you so much how many raids @mompou_mumpow did and their."
        ],
        [
         "35",
         "2407",
         "Borderlands",
         "Negative",
         "Man Gearbox really needs to fix this dissapointing drops in the new Borderlands 3 DLC cant be fine to farm bosses on Mayhem 10 to get 1 legendary drop while anywhere else i get 6-10 drops. . Really sucks alot"
        ],
        [
         "36",
         "2407",
         "Borderlands",
         "Negative",
         "Man Gearbox really needs to fix these disappointing drops in the new Borderlands 3 DLC for farm bosses on Mayhem 10 to get a legendary drop, while I get 6-10 drops elsewhere."
        ],
        [
         "37",
         "2407",
         "Borderlands",
         "Negative",
         "Man Gearbox really needs to fix this disssapointing drops in the new Borderlands 3 DLC cant be fine to farm bosses on Mayhem 10 to get 1 legendary drop while elsewhere i get 6-10 drops... Really sucks alot"
        ],
        [
         "38",
         "2407",
         "Borderlands",
         "Negative",
         "Man Bethesda really needs to fix this dissapointing drops and the new Borderlands 3 It cant be fine to farm bosses on Mayhem 10 to get 1 legendary drop while anywhere else i get 6-10 drops.. Really sucks..."
        ],
        [
         "39",
         "2407",
         "Borderlands",
         "Negative",
         "Man Gearbox really needs to fix this dissapointing drops in the completely new Borderlands 3 Days DLC i cant e be fine having to be farm bosses on Mayhem 10 to e get 1 legendary foot drop while anywhere else i get 6 - 10 drops.. It Really sucks to alot"
        ],
        [
         "40",
         "2407",
         "Borderlands",
         "Negative",
         "<unk> Gearbox really time to fix this 10 drops in the new Borderlands 3 DLC or be fine to force bosses on Mayhem 10 to get a legendary drop while everyone else i get 6-10 drops.. Really needs alot"
        ],
        [
         "41",
         "2408",
         "Borderlands",
         "Neutral",
         "Check out this epic streamer!.  "
        ],
        [
         "42",
         "2408",
         "Borderlands",
         "Neutral",
         "Check out this epic streamer!."
        ],
        [
         "43",
         "2408",
         "Borderlands",
         "Neutral",
         "Watch this epic striptease!."
        ],
        [
         "44",
         "2408",
         "Borderlands",
         "Neutral",
         "Check out our epic streamer!."
        ],
        [
         "45",
         "2408",
         "Borderlands",
         "Neutral",
         "Check out this big epic streamer!."
        ],
        [
         "46",
         "2408",
         "Borderlands",
         "Neutral",
         "Check<unk> this epic streamer!."
        ],
        [
         "47",
         "2409",
         "Borderlands",
         "Neutral",
         "Blaming Sight for Tardiness! A little bit of borderlands. I got called in early for work tomorrow so I can't make up time. Sorry my loves .  twitch.tv/punnisenpai"
        ],
        [
         "48",
         "2409",
         "Borderlands",
         "Neutral",
         "A bit of borderland. I was called to work tomorrow morning, so I can't catch up. Sorry, my love. twitch.tv / punnisenpai"
        ],
        [
         "49",
         "2409",
         "Borderlands",
         "Neutral",
         "Guilty of sobriety! A bit of a borderline. I was called to work early tomorrow, so I can't catch up."
        ]
       ],
       "shape": {
        "columns": 4,
        "rows": 74681
       }
      },
      "text/html": [
       "<div>\n",
       "<style scoped>\n",
       "    .dataframe tbody tr th:only-of-type {\n",
       "        vertical-align: middle;\n",
       "    }\n",
       "\n",
       "    .dataframe tbody tr th {\n",
       "        vertical-align: top;\n",
       "    }\n",
       "\n",
       "    .dataframe thead th {\n",
       "        text-align: right;\n",
       "    }\n",
       "</style>\n",
       "<table border=\"1\" class=\"dataframe\">\n",
       "  <thead>\n",
       "    <tr style=\"text-align: right;\">\n",
       "      <th></th>\n",
       "      <th>2401</th>\n",
       "      <th>Borderlands</th>\n",
       "      <th>Positive</th>\n",
       "      <th>im getting on borderlands and i will murder you all ,</th>\n",
       "    </tr>\n",
       "  </thead>\n",
       "  <tbody>\n",
       "    <tr>\n",
       "      <th>0</th>\n",
       "      <td>2401</td>\n",
       "      <td>Borderlands</td>\n",
       "      <td>Positive</td>\n",
       "      <td>I am coming to the borders and I will kill you...</td>\n",
       "    </tr>\n",
       "    <tr>\n",
       "      <th>1</th>\n",
       "      <td>2401</td>\n",
       "      <td>Borderlands</td>\n",
       "      <td>Positive</td>\n",
       "      <td>im getting on borderlands and i will kill you ...</td>\n",
       "    </tr>\n",
       "    <tr>\n",
       "      <th>2</th>\n",
       "      <td>2401</td>\n",
       "      <td>Borderlands</td>\n",
       "      <td>Positive</td>\n",
       "      <td>im coming on borderlands and i will murder you...</td>\n",
       "    </tr>\n",
       "    <tr>\n",
       "      <th>3</th>\n",
       "      <td>2401</td>\n",
       "      <td>Borderlands</td>\n",
       "      <td>Positive</td>\n",
       "      <td>im getting on borderlands 2 and i will murder ...</td>\n",
       "    </tr>\n",
       "    <tr>\n",
       "      <th>4</th>\n",
       "      <td>2401</td>\n",
       "      <td>Borderlands</td>\n",
       "      <td>Positive</td>\n",
       "      <td>im getting into borderlands and i can murder y...</td>\n",
       "    </tr>\n",
       "    <tr>\n",
       "      <th>...</th>\n",
       "      <td>...</td>\n",
       "      <td>...</td>\n",
       "      <td>...</td>\n",
       "      <td>...</td>\n",
       "    </tr>\n",
       "    <tr>\n",
       "      <th>74676</th>\n",
       "      <td>9200</td>\n",
       "      <td>Nvidia</td>\n",
       "      <td>Positive</td>\n",
       "      <td>Just realized that the Windows partition of my...</td>\n",
       "    </tr>\n",
       "    <tr>\n",
       "      <th>74677</th>\n",
       "      <td>9200</td>\n",
       "      <td>Nvidia</td>\n",
       "      <td>Positive</td>\n",
       "      <td>Just realized that my Mac window partition is ...</td>\n",
       "    </tr>\n",
       "    <tr>\n",
       "      <th>74678</th>\n",
       "      <td>9200</td>\n",
       "      <td>Nvidia</td>\n",
       "      <td>Positive</td>\n",
       "      <td>Just realized the windows partition of my Mac ...</td>\n",
       "    </tr>\n",
       "    <tr>\n",
       "      <th>74679</th>\n",
       "      <td>9200</td>\n",
       "      <td>Nvidia</td>\n",
       "      <td>Positive</td>\n",
       "      <td>Just realized between the windows partition of...</td>\n",
       "    </tr>\n",
       "    <tr>\n",
       "      <th>74680</th>\n",
       "      <td>9200</td>\n",
       "      <td>Nvidia</td>\n",
       "      <td>Positive</td>\n",
       "      <td>Just like the windows partition of my Mac is l...</td>\n",
       "    </tr>\n",
       "  </tbody>\n",
       "</table>\n",
       "<p>74681 rows × 4 columns</p>\n",
       "</div>"
      ],
      "text/plain": [
       "       2401  Borderlands  Positive  \\\n",
       "0      2401  Borderlands  Positive   \n",
       "1      2401  Borderlands  Positive   \n",
       "2      2401  Borderlands  Positive   \n",
       "3      2401  Borderlands  Positive   \n",
       "4      2401  Borderlands  Positive   \n",
       "...     ...          ...       ...   \n",
       "74676  9200       Nvidia  Positive   \n",
       "74677  9200       Nvidia  Positive   \n",
       "74678  9200       Nvidia  Positive   \n",
       "74679  9200       Nvidia  Positive   \n",
       "74680  9200       Nvidia  Positive   \n",
       "\n",
       "      im getting on borderlands and i will murder you all ,  \n",
       "0      I am coming to the borders and I will kill you...     \n",
       "1      im getting on borderlands and i will kill you ...     \n",
       "2      im coming on borderlands and i will murder you...     \n",
       "3      im getting on borderlands 2 and i will murder ...     \n",
       "4      im getting into borderlands and i can murder y...     \n",
       "...                                                  ...     \n",
       "74676  Just realized that the Windows partition of my...     \n",
       "74677  Just realized that my Mac window partition is ...     \n",
       "74678  Just realized the windows partition of my Mac ...     \n",
       "74679  Just realized between the windows partition of...     \n",
       "74680  Just like the windows partition of my Mac is l...     \n",
       "\n",
       "[74681 rows x 4 columns]"
      ]
     },
     "execution_count": 456,
     "metadata": {},
     "output_type": "execute_result"
    }
   ],
   "source": [
    "data"
   ]
  },
  {
   "cell_type": "code",
   "execution_count": 457,
   "metadata": {},
   "outputs": [
    {
     "data": {
      "application/vnd.microsoft.datawrangler.viewer.v0+json": {
       "columns": [
        {
         "name": "index",
         "rawType": "int64",
         "type": "integer"
        },
        {
         "name": "3364",
         "rawType": "int64",
         "type": "integer"
        },
        {
         "name": "Facebook",
         "rawType": "object",
         "type": "string"
        },
        {
         "name": "Irrelevant",
         "rawType": "object",
         "type": "string"
        },
        {
         "name": "I mentioned on Facebook that I was struggling for motivation to go for a run the other day, which has been translated by Tomâs great auntie as âHayley canât get out of bedâ and told to his grandma, who now thinks Iâm a lazy, terrible person ð¤£",
         "rawType": "object",
         "type": "string"
        }
       ],
       "ref": "e96cd8dc-688c-42da-8027-4b45d2953636",
       "rows": [
        [
         "0",
         "352",
         "Amazon",
         "Neutral",
         "BBC News - Amazon boss Jeff Bezos rejects claims company acted like a 'drug dealer' bbc.co.uk/news/av/busineâ¦"
        ],
        [
         "1",
         "8312",
         "Microsoft",
         "Negative",
         "@Microsoft Why do I pay for WORD when it functions so poorly on my @SamsungUS Chromebook? ð"
        ],
        [
         "2",
         "4371",
         "CS-GO",
         "Negative",
         "CSGO matchmaking is so full of closet hacking, it's a truly awful game."
        ],
        [
         "3",
         "4433",
         "Google",
         "Neutral",
         "Now the President is slapping Americans in the face that he really did commit an unlawful act after his  acquittal! From Discover on Google vanityfair.com/news/2020/02/tâ¦"
        ],
        [
         "4",
         "6273",
         "FIFA",
         "Negative",
         "Hi @EAHelp Iâve had Madeleine McCann in my cellar for the past 13 years and the little sneaky thing just escaped whilst I was loading up some fifa points, she took my card and Iâm having to use my paypal account but it isnât working, can you help me resolve it please?"
        ],
        [
         "5",
         "7925",
         "MaddenNFL",
         "Positive",
         "Thank you @EAMaddenNFL!! \n\nNew TE Austin Hooper in the ORANGE & BROWN!! \n\n#Browns | @AustinHooper18 \n\n pic.twitter.com/GRg4xzFKOn"
        ],
        [
         "6",
         "11332",
         "TomClancysRainbowSix",
         "Positive",
         "Rocket League, Sea of Thieves or Rainbow Six: Siegeð¤? I love playing all three on stream but which is the best? #stream #twitch #RocketLeague #SeaOfThieves #RainbowSixSiege #follow"
        ],
        [
         "7",
         "1107",
         "AssassinsCreed",
         "Positive",
         "my ass still knee-deep in Assassins Creed Odyssey with no way out anytime soon lmao"
        ],
        [
         "8",
         "2069",
         "CallOfDuty",
         "Negative",
         "FIX IT JESUS ! Please FIX IT ! What In the world is going on here.  @PlayStation @AskPlayStation @Playstationsup @Treyarch @CallofDuty negative 345 silver wolf error code pic.twitter.com/ziRyhrf59Q"
        ],
        [
         "9",
         "3185",
         "Dota2",
         "Positive",
         "The professional dota 2 scene is fucking exploding and I completely welcome it.\n\nGet the garbage out."
        ],
        [
         "10",
         "1172",
         "AssassinsCreed",
         "Positive",
         "Itching to assassinate \n\n#TCCGif #AssassinsCreedBlackFlag #AssassinsCreed #TheCapturedCollective pic.twitter.com/vv8MOGtCjw"
        ],
        [
         "11",
         "11783",
         "Verizon",
         "Negative",
         "@FredTJoseph hey fred, Comcast cut the cable and now Verizon stays calling me to shut that too pic.twitter.com/CPWSrmueDg"
        ],
        [
         "12",
         "4286",
         "CS-GO",
         "Neutral",
         "CSGO WIngman (Im Silver dont bully) twitch.tv/lprezh"
        ],
        [
         "13",
         "8431",
         "NBA2K",
         "Negative",
         "@NBA2K game sucks... down by 2 with 38 seconds left and my team intentionally fouls"
        ],
        [
         "14",
         "9135",
         "Nvidia",
         "Positive",
         "Congrats to the NVIDIA NeMo team for the 1.0.0 release candidate!\nReally excited to see NeMo embracing Hydra as the way to take control over the configuration madness that is machine learning! :)"
        ],
        [
         "15",
         "4822",
         "GrandTheftAuto(GTA)",
         "Positive",
         "yeah and itâs fun"
        ],
        [
         "16",
         "3068",
         "Dota2",
         "Negative",
         "fuck my life ð"
        ],
        [
         "17",
         "10537",
         "RedDeadRedemption(RDR)",
         "Positive",
         "happy birthday red dead redemption that shit changed my life what a crazy experience"
        ],
        [
         "18",
         "8056",
         "Microsoft",
         "Negative",
         "What does that say about Microsoft hardware & software security - The Man gets hacked"
        ],
        [
         "19",
         "2131",
         "CallOfDuty",
         "Negative",
         "The new @CallofDuty for ps5 is ð¥ð¥ð¥ð¥\nOh God ð­ð"
        ],
        [
         "20",
         "5450",
         "Hearthstone",
         "Neutral",
         "Anyone that plays a bad luck albatross deck in hearthstone is a literal cop. \n\nFucking fun police. pic.twitter.com/jY6TRq351e"
        ],
        [
         "21",
         "2286",
         "CallOfDuty",
         "Irrelevant",
         "Call of duty warzone (livestream) w/ subs #Warzone youtu.be/7BhH_pjOMU4 via @YouTube Please come watch this AMAZING Call of Duty Warzone stream from this AMAZING streamer! It'd be really, really nice to give him some views and likes as well! ð #COD #CallofDuty #Warzone"
        ],
        [
         "22",
         "4038",
         "CS-GO",
         "Negative",
         "Finally played Rainbow Six Siege for the first time... I have to admit, I prefer it over pulling my hair out in CSGO any day."
        ],
        [
         "23",
         "526",
         "ApexLegends",
         "Neutral",
         "Umm @PlayApex  when I died it said Bug This pic.twitter.com/bzMHzbadOF"
        ],
        [
         "24",
         "8977",
         "Nvidia",
         "Neutral",
         "#gtc20 -  nice, motivational, and very accessible Nvidia/AI product fair + related tech talks\nnvidia.com/en-us/gtc/keynâ¦\ninteresting interaction/social activities: braindates, dinner with strangers, ...  and free attendance for universities: reg.rainfocus.com/flow/nvidia/gtâ¦"
        ],
        [
         "25",
         "11995",
         "Verizon",
         "Negative",
         "Yo! @Verizon just added a $120 'fee' to my account under #COVID19 protection without my permission and I am forced to pay it! Check your bills carefully!"
        ],
        [
         "26",
         "9449",
         "Overwatch",
         "Irrelevant",
         "They might not be the last team that has to make this difficult decision. #update #overwatchleague #nyxl #overwatch #overwatch2 #blizzard #games #lockdown pic.twitter.com/dI1HTl4mcV"
        ],
        [
         "27",
         "10193",
         "PlayerUnknownsBattlegrounds(PUBG)",
         "Irrelevant",
         "Best squad yet#pubg #pubgmobile #pubgkenya instagram.com/p/B-Obt_eAA4f/â¦"
        ],
        [
         "28",
         "2419",
         "Borderlands",
         "Negative",
         "@Borderlands how do I submit a complaint? Your CEO isn't paying his staff their bonuses."
        ],
        [
         "29",
         "8857",
         "Nvidia",
         "Positive",
         "Watching NVIDIA position itself as not just a leading hardware manufacturer but also providing meaningful software to consumers is a remarkable thing of beauty. What an incredibly lead company with clear focus and goals. Well done @nvidia."
        ],
        [
         "30",
         "9704",
         "PlayStation5(PS5)",
         "Positive",
         "I donât see how this looks like as Xbox controller but yâall will say anything. Anyway this is fire."
        ],
        [
         "31",
         "7024",
         "johnson&johnson",
         "Negative",
         "Johnson & Johnson, knowingly sold baby powder containing asbestos for decades and are now tasked with producing #COVID19 #vaccine... along with corporate criminals #Glaxosmithkline - who received the 2nd largest fine in corporate history for their various crimes. Trust them? ð³"
        ],
        [
         "32",
         "8842",
         "Nvidia",
         "Positive",
         "The things I would do for a @nvidia 3090... unspeakable! ð§"
        ],
        [
         "33",
         "6650",
         "Fortnite",
         "Negative",
         "Fortnite is running like ass.. fps drops everywhere wtf?"
        ],
        [
         "34",
         "2337",
         "CallOfDuty",
         "Neutral",
         "Great play dude , what a good optic for the mk2 Carbine too ð"
        ],
        [
         "35",
         "10589",
         "RedDeadRedemption(RDR)",
         "Neutral",
         "I got the horses in the back #PS4live (Red Dead Redemption 2)  live at youtu.be/9BVKh67OaEI"
        ],
        [
         "36",
         "12997",
         "Xbox(Xseries)",
         "Irrelevant",
         "This is a really disappointing move by Remedy. Bought Control day one with the season pass but will only get the PS5 upgrade if I rebuy everything again repackaged in the Ultimate Edition??"
        ],
        [
         "37",
         "807",
         "AssassinsCreed",
         "Positive",
         "Just finished Assassins Creed Odyssey through @Shadow_Official @Shadow_NA from the beginning to the end. Thanks for the amazing gaming experience on your service ð"
        ],
        [
         "38",
         "11229",
         "TomClancysRainbowSix",
         "Neutral",
         "Solo Q and this freak is spinning as fast as he can to lower the FPS. \nI thought they took this bs out\n\n@Rainbow6Game https://t.co/mlvHMu4qeZ"
        ],
        [
         "39",
         "2366",
         "CallOfDuty",
         "Positive",
         "Our eldest has spent so long playing this new Call of Duty game, Iâm not convinced he even knows what day it is, let alone how long lockdown has lasted. Iâd normally object, but I think Iâd rather deal with that, than him being frustrated about being stuck at home."
        ],
        [
         "40",
         "9268",
         "Overwatch",
         "Neutral",
         "//The Corruption and Knocking up of Overwatch Babes is a serious Mood atm... pic.twitter.com/QNy4kmgBLV"
        ],
        [
         "41",
         "2216",
         "CallOfDuty",
         "Neutral",
         "@PlayCODMobile @M2Games2 i love the call of duty, more unfortunately i'm having a lot of audio bug, every time i'm playing the BR mode of the game, the audio just stops, then i have to close it and open dnv the device i'm using is iOS."
        ],
        [
         "42",
         "316",
         "Amazon",
         "Neutral",
         "Amazon stops accepting new online grocery customers as it cuts hours at Whole Foods stores dailymail.co.uk/news/article-8â¦ https://t.co/jn7OMaLq3n"
        ],
        [
         "43",
         "1985",
         "CallOfDutyBlackopsColdWar",
         "Positive",
         "Not gonna lie that Black Ops cold war trailer was probably the best COD teaser I have ever seen"
        ],
        [
         "44",
         "11378",
         "TomClancysRainbowSix",
         "Neutral",
         "MELUSI 4k are you shocked! @Justhoneybadger @simmyster06 @walkerpool @Mdassassin007 @OWahid65 #Rainbowsixsiege pic.twitter.com/0ACuQjtvGL"
        ],
        [
         "45",
         "5207",
         "Hearthstone",
         "Negative",
         "Never popped the ice block #Hearthstone pic.twitter.com/BCsZlhJHPF"
        ],
        [
         "46",
         "7048",
         "johnson&johnson",
         "Negative",
         "You mean the same Johnson & Johnson that suppressed reports of asbestos contamination in their talc products for decades??? Wonder how many died??? And Birx says; \"Randomized controlled studies show NO evidence of improved outcome with HCQ.\" LIAR???\nyoutu.be/77TMszubRU4"
        ],
        [
         "47",
         "2274",
         "CallOfDuty",
         "Negative",
         "Iâm addicted to call of duty mobileð"
        ],
        [
         "48",
         "13197",
         "Xbox(Xseries)",
         "Neutral",
         "This could go very well...or horribly wrong."
        ],
        [
         "49",
         "9488",
         "Overwatch",
         "Positive",
         "So yesterday, I decided to go back to Overwatch... and I forgot just how much I loved playing it. Now all I want to do is play it and do nothing else >.< I mean, the event is on atm.. gotta get me that Pharah skin as I have Anas already! ð"
        ]
       ],
       "shape": {
        "columns": 4,
        "rows": 999
       }
      },
      "text/html": [
       "<div>\n",
       "<style scoped>\n",
       "    .dataframe tbody tr th:only-of-type {\n",
       "        vertical-align: middle;\n",
       "    }\n",
       "\n",
       "    .dataframe tbody tr th {\n",
       "        vertical-align: top;\n",
       "    }\n",
       "\n",
       "    .dataframe thead th {\n",
       "        text-align: right;\n",
       "    }\n",
       "</style>\n",
       "<table border=\"1\" class=\"dataframe\">\n",
       "  <thead>\n",
       "    <tr style=\"text-align: right;\">\n",
       "      <th></th>\n",
       "      <th>3364</th>\n",
       "      <th>Facebook</th>\n",
       "      <th>Irrelevant</th>\n",
       "      <th>I mentioned on Facebook that I was struggling for motivation to go for a run the other day, which has been translated by Tomâs great auntie as âHayley canât get out of bedâ and told to his grandma, who now thinks Iâm a lazy, terrible person ð¤£</th>\n",
       "    </tr>\n",
       "  </thead>\n",
       "  <tbody>\n",
       "    <tr>\n",
       "      <th>0</th>\n",
       "      <td>352</td>\n",
       "      <td>Amazon</td>\n",
       "      <td>Neutral</td>\n",
       "      <td>BBC News - Amazon boss Jeff Bezos rejects clai...</td>\n",
       "    </tr>\n",
       "    <tr>\n",
       "      <th>1</th>\n",
       "      <td>8312</td>\n",
       "      <td>Microsoft</td>\n",
       "      <td>Negative</td>\n",
       "      <td>@Microsoft Why do I pay for WORD when it funct...</td>\n",
       "    </tr>\n",
       "    <tr>\n",
       "      <th>2</th>\n",
       "      <td>4371</td>\n",
       "      <td>CS-GO</td>\n",
       "      <td>Negative</td>\n",
       "      <td>CSGO matchmaking is so full of closet hacking,...</td>\n",
       "    </tr>\n",
       "    <tr>\n",
       "      <th>3</th>\n",
       "      <td>4433</td>\n",
       "      <td>Google</td>\n",
       "      <td>Neutral</td>\n",
       "      <td>Now the President is slapping Americans in the...</td>\n",
       "    </tr>\n",
       "    <tr>\n",
       "      <th>4</th>\n",
       "      <td>6273</td>\n",
       "      <td>FIFA</td>\n",
       "      <td>Negative</td>\n",
       "      <td>Hi @EAHelp Iâve had Madeleine McCann in my c...</td>\n",
       "    </tr>\n",
       "    <tr>\n",
       "      <th>...</th>\n",
       "      <td>...</td>\n",
       "      <td>...</td>\n",
       "      <td>...</td>\n",
       "      <td>...</td>\n",
       "    </tr>\n",
       "    <tr>\n",
       "      <th>994</th>\n",
       "      <td>4891</td>\n",
       "      <td>GrandTheftAuto(GTA)</td>\n",
       "      <td>Irrelevant</td>\n",
       "      <td>â­ï¸ Toronto is the arts and culture capital...</td>\n",
       "    </tr>\n",
       "    <tr>\n",
       "      <th>995</th>\n",
       "      <td>4359</td>\n",
       "      <td>CS-GO</td>\n",
       "      <td>Irrelevant</td>\n",
       "      <td>tHIS IS ACTUALLY A GOOD MOVE TOT BRING MORE VI...</td>\n",
       "    </tr>\n",
       "    <tr>\n",
       "      <th>996</th>\n",
       "      <td>2652</td>\n",
       "      <td>Borderlands</td>\n",
       "      <td>Positive</td>\n",
       "      <td>Today sucked so itâs time to drink wine n pl...</td>\n",
       "    </tr>\n",
       "    <tr>\n",
       "      <th>997</th>\n",
       "      <td>8069</td>\n",
       "      <td>Microsoft</td>\n",
       "      <td>Positive</td>\n",
       "      <td>Bought a fraction of Microsoft today. Small wins.</td>\n",
       "    </tr>\n",
       "    <tr>\n",
       "      <th>998</th>\n",
       "      <td>6960</td>\n",
       "      <td>johnson&amp;johnson</td>\n",
       "      <td>Neutral</td>\n",
       "      <td>Johnson &amp; Johnson to stop selling talc baby po...</td>\n",
       "    </tr>\n",
       "  </tbody>\n",
       "</table>\n",
       "<p>999 rows × 4 columns</p>\n",
       "</div>"
      ],
      "text/plain": [
       "     3364             Facebook  Irrelevant  \\\n",
       "0     352               Amazon     Neutral   \n",
       "1    8312            Microsoft    Negative   \n",
       "2    4371                CS-GO    Negative   \n",
       "3    4433               Google     Neutral   \n",
       "4    6273                 FIFA    Negative   \n",
       "..    ...                  ...         ...   \n",
       "994  4891  GrandTheftAuto(GTA)  Irrelevant   \n",
       "995  4359                CS-GO  Irrelevant   \n",
       "996  2652          Borderlands    Positive   \n",
       "997  8069            Microsoft    Positive   \n",
       "998  6960      johnson&johnson     Neutral   \n",
       "\n",
       "    I mentioned on Facebook that I was struggling for motivation to go for a run the other day, which has been translated by Tomâs great auntie as âHayley canât get out of bedâ and told to his grandma, who now thinks Iâm a lazy, terrible person ð¤£  \n",
       "0    BBC News - Amazon boss Jeff Bezos rejects clai...                                                                                                                                                                                                               \n",
       "1    @Microsoft Why do I pay for WORD when it funct...                                                                                                                                                                                                               \n",
       "2    CSGO matchmaking is so full of closet hacking,...                                                                                                                                                                                                               \n",
       "3    Now the President is slapping Americans in the...                                                                                                                                                                                                               \n",
       "4    Hi @EAHelp Iâve had Madeleine McCann in my c...                                                                                                                                                                                                               \n",
       "..                                                 ...                                                                                                                                                                                                               \n",
       "994  â­ï¸ Toronto is the arts and culture capital...                                                                                                                                                                                                               \n",
       "995  tHIS IS ACTUALLY A GOOD MOVE TOT BRING MORE VI...                                                                                                                                                                                                               \n",
       "996  Today sucked so itâs time to drink wine n pl...                                                                                                                                                                                                               \n",
       "997  Bought a fraction of Microsoft today. Small wins.                                                                                                                                                                                                               \n",
       "998  Johnson & Johnson to stop selling talc baby po...                                                                                                                                                                                                               \n",
       "\n",
       "[999 rows x 4 columns]"
      ]
     },
     "execution_count": 457,
     "metadata": {},
     "output_type": "execute_result"
    }
   ],
   "source": [
    "test"
   ]
  },
  {
   "cell_type": "code",
   "execution_count": 458,
   "metadata": {
    "execution": {
     "iopub.execute_input": "2025-08-04T20:48:00.497055Z",
     "iopub.status.busy": "2025-08-04T20:48:00.496361Z",
     "iopub.status.idle": "2025-08-04T20:48:00.798879Z",
     "shell.execute_reply": "2025-08-04T20:48:00.798262Z",
     "shell.execute_reply.started": "2025-08-04T20:48:00.497032Z"
    },
    "trusted": true
   },
   "outputs": [
    {
     "data": {
      "application/vnd.microsoft.datawrangler.viewer.v0+json": {
       "columns": [
        {
         "name": "index",
         "rawType": "object",
         "type": "string"
        },
        {
         "name": "0",
         "rawType": "int64",
         "type": "integer"
        }
       ],
       "ref": "012aee3a-dc23-487e-a8f1-b505cdaa3a59",
       "rows": [
        [
         "2401",
         "0"
        ],
        [
         "Borderlands",
         "0"
        ],
        [
         "Positive",
         "0"
        ],
        [
         "im getting on borderlands and i will murder you all ,",
         "686"
        ]
       ],
       "shape": {
        "columns": 1,
        "rows": 4
       }
      },
      "text/plain": [
       "2401                                                       0\n",
       "Borderlands                                                0\n",
       "Positive                                                   0\n",
       "im getting on borderlands and i will murder you all ,    686\n",
       "dtype: int64"
      ]
     },
     "execution_count": 458,
     "metadata": {},
     "output_type": "execute_result"
    }
   ],
   "source": [
    "data.isnull().sum()"
   ]
  },
  {
   "cell_type": "code",
   "execution_count": 459,
   "metadata": {},
   "outputs": [],
   "source": [
    "data.dropna(inplace=True)"
   ]
  },
  {
   "cell_type": "code",
   "execution_count": 460,
   "metadata": {},
   "outputs": [
    {
     "data": {
      "application/vnd.microsoft.datawrangler.viewer.v0+json": {
       "columns": [
        {
         "name": "index",
         "rawType": "object",
         "type": "string"
        },
        {
         "name": "0",
         "rawType": "int64",
         "type": "integer"
        }
       ],
       "ref": "5e0e3043-c80b-4eff-9b8e-b3f7ffc87428",
       "rows": [
        [
         "3364",
         "0"
        ],
        [
         "Facebook",
         "0"
        ],
        [
         "Irrelevant",
         "0"
        ],
        [
         "I mentioned on Facebook that I was struggling for motivation to go for a run the other day, which has been translated by Tomâs great auntie as âHayley canât get out of bedâ and told to his grandma, who now thinks Iâm a lazy, terrible person ð¤£",
         "0"
        ]
       ],
       "shape": {
        "columns": 1,
        "rows": 4
       }
      },
      "text/plain": [
       "3364                                                                                                                                                                                                                                                               0\n",
       "Facebook                                                                                                                                                                                                                                                           0\n",
       "Irrelevant                                                                                                                                                                                                                                                         0\n",
       "I mentioned on Facebook that I was struggling for motivation to go for a run the other day, which has been translated by Tomâs great auntie as âHayley canât get out of bedâ and told to his grandma, who now thinks Iâm a lazy, terrible person ð¤£    0\n",
       "dtype: int64"
      ]
     },
     "execution_count": 460,
     "metadata": {},
     "output_type": "execute_result"
    }
   ],
   "source": [
    "test.isnull().sum()"
   ]
  },
  {
   "cell_type": "code",
   "execution_count": 461,
   "metadata": {},
   "outputs": [],
   "source": [
    "test.dropna(inplace=True)"
   ]
  },
  {
   "cell_type": "code",
   "execution_count": 462,
   "metadata": {
    "execution": {
     "iopub.execute_input": "2025-08-04T20:48:05.173295Z",
     "iopub.status.busy": "2025-08-04T20:48:05.172755Z",
     "iopub.status.idle": "2025-08-04T20:48:06.663179Z",
     "shell.execute_reply": "2025-08-04T20:48:06.662534Z",
     "shell.execute_reply.started": "2025-08-04T20:48:05.173269Z"
    },
    "trusted": true
   },
   "outputs": [
    {
     "data": {
      "text/plain": [
       "np.int64(2340)"
      ]
     },
     "execution_count": 462,
     "metadata": {},
     "output_type": "execute_result"
    }
   ],
   "source": [
    "data.duplicated().sum()"
   ]
  },
  {
   "cell_type": "code",
   "execution_count": 463,
   "metadata": {},
   "outputs": [],
   "source": [
    "data.drop_duplicates(inplace=True)\n",
    "data.reset_index(drop=True, inplace=True)"
   ]
  },
  {
   "cell_type": "code",
   "execution_count": 464,
   "metadata": {},
   "outputs": [
    {
     "data": {
      "text/plain": [
       "np.int64(0)"
      ]
     },
     "execution_count": 464,
     "metadata": {},
     "output_type": "execute_result"
    }
   ],
   "source": [
    "test.duplicated().sum()"
   ]
  },
  {
   "cell_type": "code",
   "execution_count": 465,
   "metadata": {},
   "outputs": [],
   "source": [
    "test.drop_duplicates(inplace=True)\n",
    "test.reset_index(drop=True, inplace=True)"
   ]
  },
  {
   "cell_type": "code",
   "execution_count": 466,
   "metadata": {},
   "outputs": [
    {
     "data": {
      "application/vnd.microsoft.datawrangler.viewer.v0+json": {
       "columns": [
        {
         "name": "index",
         "rawType": "int64",
         "type": "integer"
        },
        {
         "name": "id",
         "rawType": "object",
         "type": "unknown"
        },
        {
         "name": "game",
         "rawType": "object",
         "type": "string"
        },
        {
         "name": "sentiment",
         "rawType": "object",
         "type": "string"
        },
        {
         "name": "comment",
         "rawType": "object",
         "type": "string"
        }
       ],
       "ref": "2f873cea-7828-4def-a93c-752d9861e331",
       "rows": [
        [
         "0",
         "2401",
         "Borderlands",
         "Positive",
         "im getting on borderlands and i will murder you all ,"
        ],
        [
         "1",
         "2401",
         "Borderlands",
         "Positive",
         "I am coming to the borders and I will kill you all,"
        ],
        [
         "2",
         "2401",
         "Borderlands",
         "Positive",
         "im getting on borderlands and i will kill you all,"
        ],
        [
         "3",
         "2401",
         "Borderlands",
         "Positive",
         "im coming on borderlands and i will murder you all,"
        ],
        [
         "4",
         "2401",
         "Borderlands",
         "Positive",
         "im getting on borderlands 2 and i will murder you me all,"
        ],
        [
         "5",
         "2401",
         "Borderlands",
         "Positive",
         "im getting into borderlands and i can murder you all,"
        ],
        [
         "6",
         "2402",
         "Borderlands",
         "Positive",
         "So I spent a few hours making something for fun. . . If you don't know I am a HUGE @Borderlands fan and Maya is one of my favorite characters. So I decided to make myself a wallpaper for my PC. . Here is the original image versus the creation I made :) Enjoy! pic.twitter.com/mLsI5wf9Jg"
        ],
        [
         "7",
         "2402",
         "Borderlands",
         "Positive",
         "So I spent a couple of hours doing something for fun... If you don't know that I'm a huge @ Borderlands fan and Maya is one of my favorite characters, I decided to make a wallpaper for my PC.. Here's the original picture compared to the creation I made:) Have fun! pic.twitter.com / mLsI5wf9Jg"
        ],
        [
         "8",
         "2402",
         "Borderlands",
         "Positive",
         "So I spent a few hours doing something for fun... If you don't know I'm a HUGE @ Borderlands fan and Maya is one of my favorite characters."
        ],
        [
         "9",
         "2402",
         "Borderlands",
         "Positive",
         "So I spent a few hours making something for fun. . . If you don't know I am a HUGE RhandlerR fan and Maya is one of my favorite characters. So I decided to make myself a wallpaper for my PC. . Here is the original image versus the creation I made :) Enjoy! pic.twitter.com/mLsI5wf9Jg"
        ],
        [
         "10",
         "2402",
         "Borderlands",
         "Positive",
         "2010 So I spent a few hours making something for fun. . . If you don't know I am a HUGE RhandlerR fan and Maya is one of my favorite characters. So I decided to make myself a wallpaper for my PC. . Here is the original image versus the creation I made :) Enjoy! pic.twitter.com/mLsI5wf9Jg"
        ],
        [
         "11",
         "2402",
         "Borderlands",
         "Positive",
         "was"
        ],
        [
         "12",
         "2403",
         "Borderlands",
         "Neutral",
         "Rock-Hard La Varlope, RARE & POWERFUL, HANDSOME JACKPOT, Borderlands 3 (Xbox) dlvr.it/RMTrgF  "
        ],
        [
         "13",
         "2403",
         "Borderlands",
         "Neutral",
         "Rock-Hard La Varlope, RARE & POWERFUL, HANDSOME JACKPOT, Borderlands 3 (Xbox) dlvr.it / RMTrgF"
        ],
        [
         "14",
         "2403",
         "Borderlands",
         "Neutral",
         "Rock-Hard La Varlope, RARE & POWERFUL, HANDSOME JACKPOT, Borderlands 3 (Xbox) dfr.it / RMTrgF"
        ],
        [
         "15",
         "2403",
         "Borderlands",
         "Neutral",
         "Rock-Hard La Vita, RARE BUT POWERFUL, HANDSOME JACKPOT, Borderlands 1 (Xbox) dlvr.it/RMTrgF"
        ],
        [
         "16",
         "2403",
         "Borderlands",
         "Neutral",
         "Live Rock - Hard music La la Varlope, RARE & the POWERFUL, Live HANDSOME i JACKPOT, Borderlands 3 ( Sega Xbox ) dlvr. From it / e RMTrgF"
        ],
        [
         "17",
         "2403",
         "Borderlands",
         "Neutral",
         "I-Hard like me, RARE LONDON DE, HANDSOME 2011, Borderlands 3 (Xbox) dlvr.it/RMTrgF"
        ],
        [
         "18",
         "2404",
         "Borderlands",
         "Positive",
         "that was the first borderlands session in a long time where i actually had a really satisfying combat experience. i got some really good kills"
        ],
        [
         "19",
         "2404",
         "Borderlands",
         "Positive",
         "this was the first Borderlands session in a long time where i actually had a really satisfying fighting experience. i got some really good kills"
        ],
        [
         "20",
         "2404",
         "Borderlands",
         "Positive",
         "that was the first borderlands session in a long time where i actually enjoyed a really satisfying combat experience. i got some rather good kills"
        ],
        [
         "21",
         "2404",
         "Borderlands",
         "Positive",
         "that I was the first real borderlands session in a nice long wait time where i actually had a really satisfying combat experience. and i got some really good kills"
        ],
        [
         "22",
         "2404",
         "Borderlands",
         "Positive",
         "that was the first borderlands session in a hot row where i actually had a really bad combat experience. i did some really good kills"
        ],
        [
         "23",
         "2405",
         "Borderlands",
         "Negative",
         "the biggest dissappoinment in my life came out a year ago fuck borderlands 3"
        ],
        [
         "24",
         "2405",
         "Borderlands",
         "Negative",
         "The biggest disappointment of my life came a year ago."
        ],
        [
         "25",
         "2405",
         "Borderlands",
         "Negative",
         "the biggest dissappoinment in my life coming out a year ago fuck borderlands 3"
        ],
        [
         "26",
         "2405",
         "Borderlands",
         "Negative",
         "For the biggest male dissappoinment in my life came hanging out a year time ago fuck borderlands 3"
        ],
        [
         "27",
         "2405",
         "Borderlands",
         "Negative",
         "the biggest dissappoinment in my life came back last year ago fuck borderlands last"
        ],
        [
         "28",
         "2406",
         "Borderlands",
         "Positive",
         "WE FINISHED BORDERLANDS 3 FINALLY YAS! Thank you for hanging out everyone! It was fun. I will try to stream tomorrow but if not I might so some IRL streams while awayu. We shall see. Thank you so much for the raids @mompou_mumpow @MegaMagwitch and @KfdMitch."
        ],
        [
         "29",
         "2406",
         "Borderlands",
         "Positive",
         "WE FINALLY FINALLY FIND BORDERLANDS 3 YES! Thank you all for hanging out! It was fun. I'll try to stream tomorrow, but if not, maybe some IRL streams. We'll see. Thanks for the raids @ mompou _ mumpow @ MegaMagwitch and @ KfdMitch."
        ],
        [
         "30",
         "2406",
         "Borderlands",
         "Positive",
         "Thank you for hanging up everyone! It was fun. I'll try to get a haircut tomorrow, but if it wasn't for me, some IRL streams would still be in Hawaii. We'll see. Thank you so much for the @ mompou _ mumpow @ MegaMagwife and @ fendMitch raids."
        ],
        [
         "31",
         "2406",
         "Borderlands",
         "Positive",
         "WE FINISHED BORDERLANDS 3 UPDATE YAS! Thank you for hanging out guys! It was fun. I will try to stream and even if not I might so some IRL streams while awayu. We shall go. Thank you so much for the raids @mompou_mumpow @MegaMagwitch and Hope."
        ],
        [
         "32",
         "2406",
         "Borderlands",
         "Positive",
         "WE FINISHED BORDERLANDS 3 AND FINALLY YAS! Thank you everyone for hanging out everyone! It was fun. I will try to make stream tomorrow but if not I might make so some IRL streams while awayu. 10 We never shall see. Thank you both so... much for the raids @mompou_mumpow or @MegaMagwitch and 4 @KfdMitch."
        ],
        [
         "33",
         "2406",
         "Borderlands",
         "Positive",
         "WE FINISHED BORDERLANDS 3 FINALLY YAS! Hey you for hanging out so! It was fun. I will try that stream tomorrow and if not I might use some IRL streams from awayu. We shall see. Thank you so much how many raids @mompou_mumpow did and their."
        ],
        [
         "34",
         "2407",
         "Borderlands",
         "Negative",
         "Man Gearbox really needs to fix this dissapointing drops in the new Borderlands 3 DLC cant be fine to farm bosses on Mayhem 10 to get 1 legendary drop while anywhere else i get 6-10 drops. . Really sucks alot"
        ],
        [
         "35",
         "2407",
         "Borderlands",
         "Negative",
         "Man Gearbox really needs to fix these disappointing drops in the new Borderlands 3 DLC for farm bosses on Mayhem 10 to get a legendary drop, while I get 6-10 drops elsewhere."
        ],
        [
         "36",
         "2407",
         "Borderlands",
         "Negative",
         "Man Gearbox really needs to fix this disssapointing drops in the new Borderlands 3 DLC cant be fine to farm bosses on Mayhem 10 to get 1 legendary drop while elsewhere i get 6-10 drops... Really sucks alot"
        ],
        [
         "37",
         "2407",
         "Borderlands",
         "Negative",
         "Man Bethesda really needs to fix this dissapointing drops and the new Borderlands 3 It cant be fine to farm bosses on Mayhem 10 to get 1 legendary drop while anywhere else i get 6-10 drops.. Really sucks..."
        ],
        [
         "38",
         "2407",
         "Borderlands",
         "Negative",
         "Man Gearbox really needs to fix this dissapointing drops in the completely new Borderlands 3 Days DLC i cant e be fine having to be farm bosses on Mayhem 10 to e get 1 legendary foot drop while anywhere else i get 6 - 10 drops.. It Really sucks to alot"
        ],
        [
         "39",
         "2407",
         "Borderlands",
         "Negative",
         "<unk> Gearbox really time to fix this 10 drops in the new Borderlands 3 DLC or be fine to force bosses on Mayhem 10 to get a legendary drop while everyone else i get 6-10 drops.. Really needs alot"
        ],
        [
         "40",
         "2408",
         "Borderlands",
         "Neutral",
         "Check out this epic streamer!.  "
        ],
        [
         "41",
         "2408",
         "Borderlands",
         "Neutral",
         "Check out this epic streamer!."
        ],
        [
         "42",
         "2408",
         "Borderlands",
         "Neutral",
         "Watch this epic striptease!."
        ],
        [
         "43",
         "2408",
         "Borderlands",
         "Neutral",
         "Check out our epic streamer!."
        ],
        [
         "44",
         "2408",
         "Borderlands",
         "Neutral",
         "Check out this big epic streamer!."
        ],
        [
         "45",
         "2408",
         "Borderlands",
         "Neutral",
         "Check<unk> this epic streamer!."
        ],
        [
         "46",
         "2409",
         "Borderlands",
         "Neutral",
         "Blaming Sight for Tardiness! A little bit of borderlands. I got called in early for work tomorrow so I can't make up time. Sorry my loves .  twitch.tv/punnisenpai"
        ],
        [
         "47",
         "2409",
         "Borderlands",
         "Neutral",
         "A bit of borderland. I was called to work tomorrow morning, so I can't catch up. Sorry, my love. twitch.tv / punnisenpai"
        ],
        [
         "48",
         "2409",
         "Borderlands",
         "Neutral",
         "Guilty of sobriety! A bit of a borderline. I was called to work early tomorrow, so I can't catch up."
        ],
        [
         "49",
         "2409",
         "Borderlands",
         "Neutral",
         "for Blaming Sight for Tardiness! A little bit of borderlands. I got called in early for work tomorrow so I can't make up time. Sorry my loves .  twitch.tv/punnisenpai"
        ]
       ],
       "shape": {
        "columns": 4,
        "rows": 71656
       }
      },
      "text/html": [
       "<div>\n",
       "<style scoped>\n",
       "    .dataframe tbody tr th:only-of-type {\n",
       "        vertical-align: middle;\n",
       "    }\n",
       "\n",
       "    .dataframe tbody tr th {\n",
       "        vertical-align: top;\n",
       "    }\n",
       "\n",
       "    .dataframe thead th {\n",
       "        text-align: right;\n",
       "    }\n",
       "</style>\n",
       "<table border=\"1\" class=\"dataframe\">\n",
       "  <thead>\n",
       "    <tr style=\"text-align: right;\">\n",
       "      <th></th>\n",
       "      <th>id</th>\n",
       "      <th>game</th>\n",
       "      <th>sentiment</th>\n",
       "      <th>comment</th>\n",
       "    </tr>\n",
       "  </thead>\n",
       "  <tbody>\n",
       "    <tr>\n",
       "      <th>0</th>\n",
       "      <td>2401</td>\n",
       "      <td>Borderlands</td>\n",
       "      <td>Positive</td>\n",
       "      <td>im getting on borderlands and i will murder yo...</td>\n",
       "    </tr>\n",
       "    <tr>\n",
       "      <th>1</th>\n",
       "      <td>2401</td>\n",
       "      <td>Borderlands</td>\n",
       "      <td>Positive</td>\n",
       "      <td>I am coming to the borders and I will kill you...</td>\n",
       "    </tr>\n",
       "    <tr>\n",
       "      <th>2</th>\n",
       "      <td>2401</td>\n",
       "      <td>Borderlands</td>\n",
       "      <td>Positive</td>\n",
       "      <td>im getting on borderlands and i will kill you ...</td>\n",
       "    </tr>\n",
       "    <tr>\n",
       "      <th>3</th>\n",
       "      <td>2401</td>\n",
       "      <td>Borderlands</td>\n",
       "      <td>Positive</td>\n",
       "      <td>im coming on borderlands and i will murder you...</td>\n",
       "    </tr>\n",
       "    <tr>\n",
       "      <th>4</th>\n",
       "      <td>2401</td>\n",
       "      <td>Borderlands</td>\n",
       "      <td>Positive</td>\n",
       "      <td>im getting on borderlands 2 and i will murder ...</td>\n",
       "    </tr>\n",
       "    <tr>\n",
       "      <th>...</th>\n",
       "      <td>...</td>\n",
       "      <td>...</td>\n",
       "      <td>...</td>\n",
       "      <td>...</td>\n",
       "    </tr>\n",
       "    <tr>\n",
       "      <th>71651</th>\n",
       "      <td>9200</td>\n",
       "      <td>Nvidia</td>\n",
       "      <td>Positive</td>\n",
       "      <td>Just realized that the Windows partition of my...</td>\n",
       "    </tr>\n",
       "    <tr>\n",
       "      <th>71652</th>\n",
       "      <td>9200</td>\n",
       "      <td>Nvidia</td>\n",
       "      <td>Positive</td>\n",
       "      <td>Just realized that my Mac window partition is ...</td>\n",
       "    </tr>\n",
       "    <tr>\n",
       "      <th>71653</th>\n",
       "      <td>9200</td>\n",
       "      <td>Nvidia</td>\n",
       "      <td>Positive</td>\n",
       "      <td>Just realized the windows partition of my Mac ...</td>\n",
       "    </tr>\n",
       "    <tr>\n",
       "      <th>71654</th>\n",
       "      <td>9200</td>\n",
       "      <td>Nvidia</td>\n",
       "      <td>Positive</td>\n",
       "      <td>Just realized between the windows partition of...</td>\n",
       "    </tr>\n",
       "    <tr>\n",
       "      <th>71655</th>\n",
       "      <td>9200</td>\n",
       "      <td>Nvidia</td>\n",
       "      <td>Positive</td>\n",
       "      <td>Just like the windows partition of my Mac is l...</td>\n",
       "    </tr>\n",
       "  </tbody>\n",
       "</table>\n",
       "<p>71656 rows × 4 columns</p>\n",
       "</div>"
      ],
      "text/plain": [
       "         id         game sentiment  \\\n",
       "0      2401  Borderlands  Positive   \n",
       "1      2401  Borderlands  Positive   \n",
       "2      2401  Borderlands  Positive   \n",
       "3      2401  Borderlands  Positive   \n",
       "4      2401  Borderlands  Positive   \n",
       "...     ...          ...       ...   \n",
       "71651  9200       Nvidia  Positive   \n",
       "71652  9200       Nvidia  Positive   \n",
       "71653  9200       Nvidia  Positive   \n",
       "71654  9200       Nvidia  Positive   \n",
       "71655  9200       Nvidia  Positive   \n",
       "\n",
       "                                                 comment  \n",
       "0      im getting on borderlands and i will murder yo...  \n",
       "1      I am coming to the borders and I will kill you...  \n",
       "2      im getting on borderlands and i will kill you ...  \n",
       "3      im coming on borderlands and i will murder you...  \n",
       "4      im getting on borderlands 2 and i will murder ...  \n",
       "...                                                  ...  \n",
       "71651  Just realized that the Windows partition of my...  \n",
       "71652  Just realized that my Mac window partition is ...  \n",
       "71653  Just realized the windows partition of my Mac ...  \n",
       "71654  Just realized between the windows partition of...  \n",
       "71655  Just like the windows partition of my Mac is l...  \n",
       "\n",
       "[71656 rows x 4 columns]"
      ]
     },
     "execution_count": 466,
     "metadata": {},
     "output_type": "execute_result"
    }
   ],
   "source": [
    "data.loc[-1] = data.columns       # Add old headers as first row\n",
    "data.columns = ['id', 'game', 'sentiment', 'comment']\n",
    "data.index = data.index + 1       # Shift index\n",
    "data = data.sort_index()          # Reorder rows\n",
    "data.reset_index(drop=True, inplace=True)\n",
    "data"
   ]
  },
  {
   "cell_type": "code",
   "execution_count": 467,
   "metadata": {},
   "outputs": [
    {
     "data": {
      "application/vnd.microsoft.datawrangler.viewer.v0+json": {
       "columns": [
        {
         "name": "index",
         "rawType": "int64",
         "type": "integer"
        },
        {
         "name": "id",
         "rawType": "object",
         "type": "unknown"
        },
        {
         "name": "game",
         "rawType": "object",
         "type": "string"
        },
        {
         "name": "sentiment",
         "rawType": "object",
         "type": "string"
        },
        {
         "name": "comment",
         "rawType": "object",
         "type": "string"
        }
       ],
       "ref": "4a29864d-8d55-435a-8366-edd5b1908eaf",
       "rows": [
        [
         "0",
         "3364",
         "Facebook",
         "Irrelevant",
         "I mentioned on Facebook that I was struggling for motivation to go for a run the other day, which has been translated by Tomâs great auntie as âHayley canât get out of bedâ and told to his grandma, who now thinks Iâm a lazy, terrible person ð¤£"
        ],
        [
         "1",
         "352",
         "Amazon",
         "Neutral",
         "BBC News - Amazon boss Jeff Bezos rejects claims company acted like a 'drug dealer' bbc.co.uk/news/av/busineâ¦"
        ],
        [
         "2",
         "8312",
         "Microsoft",
         "Negative",
         "@Microsoft Why do I pay for WORD when it functions so poorly on my @SamsungUS Chromebook? ð"
        ],
        [
         "3",
         "4371",
         "CS-GO",
         "Negative",
         "CSGO matchmaking is so full of closet hacking, it's a truly awful game."
        ],
        [
         "4",
         "4433",
         "Google",
         "Neutral",
         "Now the President is slapping Americans in the face that he really did commit an unlawful act after his  acquittal! From Discover on Google vanityfair.com/news/2020/02/tâ¦"
        ],
        [
         "5",
         "6273",
         "FIFA",
         "Negative",
         "Hi @EAHelp Iâve had Madeleine McCann in my cellar for the past 13 years and the little sneaky thing just escaped whilst I was loading up some fifa points, she took my card and Iâm having to use my paypal account but it isnât working, can you help me resolve it please?"
        ],
        [
         "6",
         "7925",
         "MaddenNFL",
         "Positive",
         "Thank you @EAMaddenNFL!! \n\nNew TE Austin Hooper in the ORANGE & BROWN!! \n\n#Browns | @AustinHooper18 \n\n pic.twitter.com/GRg4xzFKOn"
        ],
        [
         "7",
         "11332",
         "TomClancysRainbowSix",
         "Positive",
         "Rocket League, Sea of Thieves or Rainbow Six: Siegeð¤? I love playing all three on stream but which is the best? #stream #twitch #RocketLeague #SeaOfThieves #RainbowSixSiege #follow"
        ],
        [
         "8",
         "1107",
         "AssassinsCreed",
         "Positive",
         "my ass still knee-deep in Assassins Creed Odyssey with no way out anytime soon lmao"
        ],
        [
         "9",
         "2069",
         "CallOfDuty",
         "Negative",
         "FIX IT JESUS ! Please FIX IT ! What In the world is going on here.  @PlayStation @AskPlayStation @Playstationsup @Treyarch @CallofDuty negative 345 silver wolf error code pic.twitter.com/ziRyhrf59Q"
        ],
        [
         "10",
         "3185",
         "Dota2",
         "Positive",
         "The professional dota 2 scene is fucking exploding and I completely welcome it.\n\nGet the garbage out."
        ],
        [
         "11",
         "1172",
         "AssassinsCreed",
         "Positive",
         "Itching to assassinate \n\n#TCCGif #AssassinsCreedBlackFlag #AssassinsCreed #TheCapturedCollective pic.twitter.com/vv8MOGtCjw"
        ],
        [
         "12",
         "11783",
         "Verizon",
         "Negative",
         "@FredTJoseph hey fred, Comcast cut the cable and now Verizon stays calling me to shut that too pic.twitter.com/CPWSrmueDg"
        ],
        [
         "13",
         "4286",
         "CS-GO",
         "Neutral",
         "CSGO WIngman (Im Silver dont bully) twitch.tv/lprezh"
        ],
        [
         "14",
         "8431",
         "NBA2K",
         "Negative",
         "@NBA2K game sucks... down by 2 with 38 seconds left and my team intentionally fouls"
        ],
        [
         "15",
         "9135",
         "Nvidia",
         "Positive",
         "Congrats to the NVIDIA NeMo team for the 1.0.0 release candidate!\nReally excited to see NeMo embracing Hydra as the way to take control over the configuration madness that is machine learning! :)"
        ],
        [
         "16",
         "4822",
         "GrandTheftAuto(GTA)",
         "Positive",
         "yeah and itâs fun"
        ],
        [
         "17",
         "3068",
         "Dota2",
         "Negative",
         "fuck my life ð"
        ],
        [
         "18",
         "10537",
         "RedDeadRedemption(RDR)",
         "Positive",
         "happy birthday red dead redemption that shit changed my life what a crazy experience"
        ],
        [
         "19",
         "8056",
         "Microsoft",
         "Negative",
         "What does that say about Microsoft hardware & software security - The Man gets hacked"
        ],
        [
         "20",
         "2131",
         "CallOfDuty",
         "Negative",
         "The new @CallofDuty for ps5 is ð¥ð¥ð¥ð¥\nOh God ð­ð"
        ],
        [
         "21",
         "5450",
         "Hearthstone",
         "Neutral",
         "Anyone that plays a bad luck albatross deck in hearthstone is a literal cop. \n\nFucking fun police. pic.twitter.com/jY6TRq351e"
        ],
        [
         "22",
         "2286",
         "CallOfDuty",
         "Irrelevant",
         "Call of duty warzone (livestream) w/ subs #Warzone youtu.be/7BhH_pjOMU4 via @YouTube Please come watch this AMAZING Call of Duty Warzone stream from this AMAZING streamer! It'd be really, really nice to give him some views and likes as well! ð #COD #CallofDuty #Warzone"
        ],
        [
         "23",
         "4038",
         "CS-GO",
         "Negative",
         "Finally played Rainbow Six Siege for the first time... I have to admit, I prefer it over pulling my hair out in CSGO any day."
        ],
        [
         "24",
         "526",
         "ApexLegends",
         "Neutral",
         "Umm @PlayApex  when I died it said Bug This pic.twitter.com/bzMHzbadOF"
        ],
        [
         "25",
         "8977",
         "Nvidia",
         "Neutral",
         "#gtc20 -  nice, motivational, and very accessible Nvidia/AI product fair + related tech talks\nnvidia.com/en-us/gtc/keynâ¦\ninteresting interaction/social activities: braindates, dinner with strangers, ...  and free attendance for universities: reg.rainfocus.com/flow/nvidia/gtâ¦"
        ],
        [
         "26",
         "11995",
         "Verizon",
         "Negative",
         "Yo! @Verizon just added a $120 'fee' to my account under #COVID19 protection without my permission and I am forced to pay it! Check your bills carefully!"
        ],
        [
         "27",
         "9449",
         "Overwatch",
         "Irrelevant",
         "They might not be the last team that has to make this difficult decision. #update #overwatchleague #nyxl #overwatch #overwatch2 #blizzard #games #lockdown pic.twitter.com/dI1HTl4mcV"
        ],
        [
         "28",
         "10193",
         "PlayerUnknownsBattlegrounds(PUBG)",
         "Irrelevant",
         "Best squad yet#pubg #pubgmobile #pubgkenya instagram.com/p/B-Obt_eAA4f/â¦"
        ],
        [
         "29",
         "2419",
         "Borderlands",
         "Negative",
         "@Borderlands how do I submit a complaint? Your CEO isn't paying his staff their bonuses."
        ],
        [
         "30",
         "8857",
         "Nvidia",
         "Positive",
         "Watching NVIDIA position itself as not just a leading hardware manufacturer but also providing meaningful software to consumers is a remarkable thing of beauty. What an incredibly lead company with clear focus and goals. Well done @nvidia."
        ],
        [
         "31",
         "9704",
         "PlayStation5(PS5)",
         "Positive",
         "I donât see how this looks like as Xbox controller but yâall will say anything. Anyway this is fire."
        ],
        [
         "32",
         "7024",
         "johnson&johnson",
         "Negative",
         "Johnson & Johnson, knowingly sold baby powder containing asbestos for decades and are now tasked with producing #COVID19 #vaccine... along with corporate criminals #Glaxosmithkline - who received the 2nd largest fine in corporate history for their various crimes. Trust them? ð³"
        ],
        [
         "33",
         "8842",
         "Nvidia",
         "Positive",
         "The things I would do for a @nvidia 3090... unspeakable! ð§"
        ],
        [
         "34",
         "6650",
         "Fortnite",
         "Negative",
         "Fortnite is running like ass.. fps drops everywhere wtf?"
        ],
        [
         "35",
         "2337",
         "CallOfDuty",
         "Neutral",
         "Great play dude , what a good optic for the mk2 Carbine too ð"
        ],
        [
         "36",
         "10589",
         "RedDeadRedemption(RDR)",
         "Neutral",
         "I got the horses in the back #PS4live (Red Dead Redemption 2)  live at youtu.be/9BVKh67OaEI"
        ],
        [
         "37",
         "12997",
         "Xbox(Xseries)",
         "Irrelevant",
         "This is a really disappointing move by Remedy. Bought Control day one with the season pass but will only get the PS5 upgrade if I rebuy everything again repackaged in the Ultimate Edition??"
        ],
        [
         "38",
         "807",
         "AssassinsCreed",
         "Positive",
         "Just finished Assassins Creed Odyssey through @Shadow_Official @Shadow_NA from the beginning to the end. Thanks for the amazing gaming experience on your service ð"
        ],
        [
         "39",
         "11229",
         "TomClancysRainbowSix",
         "Neutral",
         "Solo Q and this freak is spinning as fast as he can to lower the FPS. \nI thought they took this bs out\n\n@Rainbow6Game https://t.co/mlvHMu4qeZ"
        ],
        [
         "40",
         "2366",
         "CallOfDuty",
         "Positive",
         "Our eldest has spent so long playing this new Call of Duty game, Iâm not convinced he even knows what day it is, let alone how long lockdown has lasted. Iâd normally object, but I think Iâd rather deal with that, than him being frustrated about being stuck at home."
        ],
        [
         "41",
         "9268",
         "Overwatch",
         "Neutral",
         "//The Corruption and Knocking up of Overwatch Babes is a serious Mood atm... pic.twitter.com/QNy4kmgBLV"
        ],
        [
         "42",
         "2216",
         "CallOfDuty",
         "Neutral",
         "@PlayCODMobile @M2Games2 i love the call of duty, more unfortunately i'm having a lot of audio bug, every time i'm playing the BR mode of the game, the audio just stops, then i have to close it and open dnv the device i'm using is iOS."
        ],
        [
         "43",
         "316",
         "Amazon",
         "Neutral",
         "Amazon stops accepting new online grocery customers as it cuts hours at Whole Foods stores dailymail.co.uk/news/article-8â¦ https://t.co/jn7OMaLq3n"
        ],
        [
         "44",
         "1985",
         "CallOfDutyBlackopsColdWar",
         "Positive",
         "Not gonna lie that Black Ops cold war trailer was probably the best COD teaser I have ever seen"
        ],
        [
         "45",
         "11378",
         "TomClancysRainbowSix",
         "Neutral",
         "MELUSI 4k are you shocked! @Justhoneybadger @simmyster06 @walkerpool @Mdassassin007 @OWahid65 #Rainbowsixsiege pic.twitter.com/0ACuQjtvGL"
        ],
        [
         "46",
         "5207",
         "Hearthstone",
         "Negative",
         "Never popped the ice block #Hearthstone pic.twitter.com/BCsZlhJHPF"
        ],
        [
         "47",
         "7048",
         "johnson&johnson",
         "Negative",
         "You mean the same Johnson & Johnson that suppressed reports of asbestos contamination in their talc products for decades??? Wonder how many died??? And Birx says; \"Randomized controlled studies show NO evidence of improved outcome with HCQ.\" LIAR???\nyoutu.be/77TMszubRU4"
        ],
        [
         "48",
         "2274",
         "CallOfDuty",
         "Negative",
         "Iâm addicted to call of duty mobileð"
        ],
        [
         "49",
         "13197",
         "Xbox(Xseries)",
         "Neutral",
         "This could go very well...or horribly wrong."
        ]
       ],
       "shape": {
        "columns": 4,
        "rows": 1000
       }
      },
      "text/html": [
       "<div>\n",
       "<style scoped>\n",
       "    .dataframe tbody tr th:only-of-type {\n",
       "        vertical-align: middle;\n",
       "    }\n",
       "\n",
       "    .dataframe tbody tr th {\n",
       "        vertical-align: top;\n",
       "    }\n",
       "\n",
       "    .dataframe thead th {\n",
       "        text-align: right;\n",
       "    }\n",
       "</style>\n",
       "<table border=\"1\" class=\"dataframe\">\n",
       "  <thead>\n",
       "    <tr style=\"text-align: right;\">\n",
       "      <th></th>\n",
       "      <th>id</th>\n",
       "      <th>game</th>\n",
       "      <th>sentiment</th>\n",
       "      <th>comment</th>\n",
       "    </tr>\n",
       "  </thead>\n",
       "  <tbody>\n",
       "    <tr>\n",
       "      <th>0</th>\n",
       "      <td>3364</td>\n",
       "      <td>Facebook</td>\n",
       "      <td>Irrelevant</td>\n",
       "      <td>I mentioned on Facebook that I was struggling ...</td>\n",
       "    </tr>\n",
       "    <tr>\n",
       "      <th>1</th>\n",
       "      <td>352</td>\n",
       "      <td>Amazon</td>\n",
       "      <td>Neutral</td>\n",
       "      <td>BBC News - Amazon boss Jeff Bezos rejects clai...</td>\n",
       "    </tr>\n",
       "    <tr>\n",
       "      <th>2</th>\n",
       "      <td>8312</td>\n",
       "      <td>Microsoft</td>\n",
       "      <td>Negative</td>\n",
       "      <td>@Microsoft Why do I pay for WORD when it funct...</td>\n",
       "    </tr>\n",
       "    <tr>\n",
       "      <th>3</th>\n",
       "      <td>4371</td>\n",
       "      <td>CS-GO</td>\n",
       "      <td>Negative</td>\n",
       "      <td>CSGO matchmaking is so full of closet hacking,...</td>\n",
       "    </tr>\n",
       "    <tr>\n",
       "      <th>4</th>\n",
       "      <td>4433</td>\n",
       "      <td>Google</td>\n",
       "      <td>Neutral</td>\n",
       "      <td>Now the President is slapping Americans in the...</td>\n",
       "    </tr>\n",
       "    <tr>\n",
       "      <th>...</th>\n",
       "      <td>...</td>\n",
       "      <td>...</td>\n",
       "      <td>...</td>\n",
       "      <td>...</td>\n",
       "    </tr>\n",
       "    <tr>\n",
       "      <th>995</th>\n",
       "      <td>4891</td>\n",
       "      <td>GrandTheftAuto(GTA)</td>\n",
       "      <td>Irrelevant</td>\n",
       "      <td>â­ï¸ Toronto is the arts and culture capital...</td>\n",
       "    </tr>\n",
       "    <tr>\n",
       "      <th>996</th>\n",
       "      <td>4359</td>\n",
       "      <td>CS-GO</td>\n",
       "      <td>Irrelevant</td>\n",
       "      <td>tHIS IS ACTUALLY A GOOD MOVE TOT BRING MORE VI...</td>\n",
       "    </tr>\n",
       "    <tr>\n",
       "      <th>997</th>\n",
       "      <td>2652</td>\n",
       "      <td>Borderlands</td>\n",
       "      <td>Positive</td>\n",
       "      <td>Today sucked so itâs time to drink wine n pl...</td>\n",
       "    </tr>\n",
       "    <tr>\n",
       "      <th>998</th>\n",
       "      <td>8069</td>\n",
       "      <td>Microsoft</td>\n",
       "      <td>Positive</td>\n",
       "      <td>Bought a fraction of Microsoft today. Small wins.</td>\n",
       "    </tr>\n",
       "    <tr>\n",
       "      <th>999</th>\n",
       "      <td>6960</td>\n",
       "      <td>johnson&amp;johnson</td>\n",
       "      <td>Neutral</td>\n",
       "      <td>Johnson &amp; Johnson to stop selling talc baby po...</td>\n",
       "    </tr>\n",
       "  </tbody>\n",
       "</table>\n",
       "<p>1000 rows × 4 columns</p>\n",
       "</div>"
      ],
      "text/plain": [
       "       id                 game   sentiment  \\\n",
       "0    3364             Facebook  Irrelevant   \n",
       "1     352               Amazon     Neutral   \n",
       "2    8312            Microsoft    Negative   \n",
       "3    4371                CS-GO    Negative   \n",
       "4    4433               Google     Neutral   \n",
       "..    ...                  ...         ...   \n",
       "995  4891  GrandTheftAuto(GTA)  Irrelevant   \n",
       "996  4359                CS-GO  Irrelevant   \n",
       "997  2652          Borderlands    Positive   \n",
       "998  8069            Microsoft    Positive   \n",
       "999  6960      johnson&johnson     Neutral   \n",
       "\n",
       "                                               comment  \n",
       "0    I mentioned on Facebook that I was struggling ...  \n",
       "1    BBC News - Amazon boss Jeff Bezos rejects clai...  \n",
       "2    @Microsoft Why do I pay for WORD when it funct...  \n",
       "3    CSGO matchmaking is so full of closet hacking,...  \n",
       "4    Now the President is slapping Americans in the...  \n",
       "..                                                 ...  \n",
       "995  â­ï¸ Toronto is the arts and culture capital...  \n",
       "996  tHIS IS ACTUALLY A GOOD MOVE TOT BRING MORE VI...  \n",
       "997  Today sucked so itâs time to drink wine n pl...  \n",
       "998  Bought a fraction of Microsoft today. Small wins.  \n",
       "999  Johnson & Johnson to stop selling talc baby po...  \n",
       "\n",
       "[1000 rows x 4 columns]"
      ]
     },
     "execution_count": 467,
     "metadata": {},
     "output_type": "execute_result"
    }
   ],
   "source": [
    "test.loc[-1] = test.columns       # Add old headers as first row\n",
    "test.columns = ['id', 'game', 'sentiment', 'comment']\n",
    "\n",
    "test.index = test.index + 1       # Shift index\n",
    "test = test.sort_index()          # Reorder rows\n",
    "test.reset_index(drop=True, inplace=True)\n",
    "test"
   ]
  },
  {
   "cell_type": "code",
   "execution_count": 468,
   "metadata": {
    "execution": {
     "iopub.execute_input": "2025-08-04T20:48:06.664552Z",
     "iopub.status.busy": "2025-08-04T20:48:06.664295Z",
     "iopub.status.idle": "2025-08-04T20:48:07.150817Z",
     "shell.execute_reply": "2025-08-04T20:48:07.150035Z",
     "shell.execute_reply.started": "2025-08-04T20:48:06.664531Z"
    },
    "trusted": true
   },
   "outputs": [
    {
     "data": {
      "image/png": "[encoded data removed]",
      "text/plain": [
       "<Figure size 600x400 with 1 Axes>"
      ]
     },
     "metadata": {},
     "output_type": "display_data"
    }
   ],
   "source": [
    "sns.set(style=\"whitegrid\")\n",
    "plt.figure(figsize=(6, 4))\n",
    "sns.countplot(x='sentiment', data=data)\n",
    "plt.title('Sentiment Distribution\\n')\n",
    "plt.show()"
   ]
  },
  {
   "cell_type": "code",
   "execution_count": 469,
   "metadata": {
    "execution": {
     "iopub.execute_input": "2025-08-04T21:16:25.856582Z",
     "iopub.status.busy": "2025-08-04T21:16:25.856291Z",
     "iopub.status.idle": "2025-08-04T21:16:25.882637Z",
     "shell.execute_reply": "2025-08-04T21:16:25.881876Z",
     "shell.execute_reply.started": "2025-08-04T21:16:25.856560Z"
    },
    "trusted": true
   },
   "outputs": [
    {
     "name": "stdout",
     "output_type": "stream",
     "text": [
      "sentiment\n",
      "Negative      21698\n",
      "Positive      19713\n",
      "Neutral       17708\n",
      "Irrelevant    12537\n",
      "Name: count, dtype: int64\n"
     ]
    }
   ],
   "source": [
    "data.replace({'sentiment':{4:1}}, inplace=True)\n",
    "print(data['sentiment'].value_counts())"
   ]
  },
  {
   "cell_type": "code",
   "execution_count": 470,
   "metadata": {},
   "outputs": [
    {
     "data": {
      "image/png": "[encoded data removed]",
      "text/plain": [
       "<Figure size 600x400 with 1 Axes>"
      ]
     },
     "metadata": {},
     "output_type": "display_data"
    }
   ],
   "source": [
    "counts = data['sentiment'].value_counts()\n",
    "counts.plot(\n",
    "    kind='pie',\n",
    "    figsize=(6, 4),\n",
    "    autopct='%1.1f%%',   # add in percentages\n",
    "    startangle=90,       # start angle 90°   \n",
    "    colors=[\"#eb72aa\",\"#84c0fc\",\"#fff000\",\"#c0fc00\"] \n",
    ")\n",
    "plt.title('cardio Distribution\\n')\n",
    "plt.axis('equal')  # Sets the pie chart to look like a circle.\n",
    "plt.legend(labels=counts.index)\n",
    "plt.ylabel('')  # Hide y-label\n",
    "plt.show()"
   ]
  },
  {
   "cell_type": "code",
   "execution_count": 471,
   "metadata": {},
   "outputs": [],
   "source": [
    "data.drop(['id'], inplace=True,axis=1)"
   ]
  },
  {
   "cell_type": "code",
   "execution_count": 472,
   "metadata": {},
   "outputs": [],
   "source": [
    "test.drop(['id'], inplace=True,axis=1)"
   ]
  },
  {
   "cell_type": "code",
   "execution_count": 473,
   "metadata": {},
   "outputs": [],
   "source": [
    "for c in ['game','sentiment']:\n",
    "    lb = LabelEncoder()\n",
    "    data[c] = lb.fit_transform(data[c])"
   ]
  },
  {
   "cell_type": "code",
   "execution_count": 474,
   "metadata": {},
   "outputs": [],
   "source": [
    "for c in ['game','sentiment']:\n",
    "    lb = LabelEncoder()\n",
    "    test[c] = lb.fit_transform(test[c])"
   ]
  },
  {
   "cell_type": "code",
   "execution_count": 475,
   "metadata": {
    "execution": {
     "iopub.execute_input": "2025-08-04T21:16:31.108508Z",
     "iopub.status.busy": "2025-08-04T21:16:31.108189Z",
     "iopub.status.idle": "2025-08-04T21:19:06.199262Z",
     "shell.execute_reply": "2025-08-04T21:19:06.198483Z",
     "shell.execute_reply.started": "2025-08-04T21:16:31.108484Z"
    },
    "trusted": true
   },
   "outputs": [],
   "source": [
    "lemmatizer = WordNetLemmatizer()\n",
    "def clean_text(text):\n",
    "    text = text.lower()\n",
    "    text = re.sub(r\"http\\S+|@\\S+|#\\S+|[^a-z\\s]\", '', text)  # remove links, mentions, hashtags, punctuation\n",
    "    tokens = word_tokenize(text)\n",
    "    tokens = [word for word in tokens if word not in stop_words]\n",
    "    words = [lemmatizer.lemmatize(word) for word in tokens if word not in stop_words]\n",
    "    return \" \".join(words)\n",
    "\n",
    "# Apply to data\n",
    "data['clean_text'] = data['comment'].apply(clean_text)\n",
    "test['clean_text'] = test['comment'].apply(clean_text)\n"
   ]
  },
  {
   "cell_type": "code",
   "execution_count": 476,
   "metadata": {
    "execution": {
     "iopub.execute_input": "2025-08-04T21:19:06.201022Z",
     "iopub.status.busy": "2025-08-04T21:19:06.200380Z",
     "iopub.status.idle": "2025-08-04T21:19:06.211190Z",
     "shell.execute_reply": "2025-08-04T21:19:06.210628Z",
     "shell.execute_reply.started": "2025-08-04T21:19:06.201000Z"
    },
    "trusted": true
   },
   "outputs": [
    {
     "data": {
      "application/vnd.microsoft.datawrangler.viewer.v0+json": {
       "columns": [
        {
         "name": "index",
         "rawType": "int64",
         "type": "integer"
        },
        {
         "name": "game",
         "rawType": "int64",
         "type": "integer"
        },
        {
         "name": "sentiment",
         "rawType": "int64",
         "type": "integer"
        },
        {
         "name": "comment",
         "rawType": "object",
         "type": "string"
        },
        {
         "name": "clean_text",
         "rawType": "object",
         "type": "string"
        }
       ],
       "ref": "5bf16ae8-2228-4390-ab78-143864d653b6",
       "rows": [
        [
         "0",
         "4",
         "3",
         "im getting on borderlands and i will murder you all ,",
         "im getting borderland murder"
        ],
        [
         "1",
         "4",
         "3",
         "I am coming to the borders and I will kill you all,",
         "coming border kill"
        ],
        [
         "2",
         "4",
         "3",
         "im getting on borderlands and i will kill you all,",
         "im getting borderland kill"
        ],
        [
         "3",
         "4",
         "3",
         "im coming on borderlands and i will murder you all,",
         "im coming borderland murder"
        ],
        [
         "4",
         "4",
         "3",
         "im getting on borderlands 2 and i will murder you me all,",
         "im getting borderland murder"
        ],
        [
         "5",
         "4",
         "3",
         "im getting into borderlands and i can murder you all,",
         "im getting borderland murder"
        ],
        [
         "6",
         "4",
         "3",
         "So I spent a few hours making something for fun. . . If you don't know I am a HUGE @Borderlands fan and Maya is one of my favorite characters. So I decided to make myself a wallpaper for my PC. . Here is the original image versus the creation I made :) Enjoy! pic.twitter.com/mLsI5wf9Jg",
         "spent hour making something fun dont know huge fan maya one favorite character decided make wallpaper pc original image versus creation made enjoy pictwittercommlsiwfjg"
        ],
        [
         "7",
         "4",
         "3",
         "So I spent a couple of hours doing something for fun... If you don't know that I'm a huge @ Borderlands fan and Maya is one of my favorite characters, I decided to make a wallpaper for my PC.. Here's the original picture compared to the creation I made:) Have fun! pic.twitter.com / mLsI5wf9Jg",
         "spent couple hour something fun dont know im huge borderland fan maya one favorite character decided make wallpaper pc here original picture compared creation made fun pictwittercom mlsiwfjg"
        ],
        [
         "8",
         "4",
         "3",
         "So I spent a few hours doing something for fun... If you don't know I'm a HUGE @ Borderlands fan and Maya is one of my favorite characters.",
         "spent hour something fun dont know im huge borderland fan maya one favorite character"
        ],
        [
         "9",
         "4",
         "3",
         "So I spent a few hours making something for fun. . . If you don't know I am a HUGE RhandlerR fan and Maya is one of my favorite characters. So I decided to make myself a wallpaper for my PC. . Here is the original image versus the creation I made :) Enjoy! pic.twitter.com/mLsI5wf9Jg",
         "spent hour making something fun dont know huge rhandlerr fan maya one favorite character decided make wallpaper pc original image versus creation made enjoy pictwittercommlsiwfjg"
        ],
        [
         "10",
         "4",
         "3",
         "2010 So I spent a few hours making something for fun. . . If you don't know I am a HUGE RhandlerR fan and Maya is one of my favorite characters. So I decided to make myself a wallpaper for my PC. . Here is the original image versus the creation I made :) Enjoy! pic.twitter.com/mLsI5wf9Jg",
         "spent hour making something fun dont know huge rhandlerr fan maya one favorite character decided make wallpaper pc original image versus creation made enjoy pictwittercommlsiwfjg"
        ],
        [
         "11",
         "4",
         "3",
         "was",
         ""
        ],
        [
         "12",
         "4",
         "2",
         "Rock-Hard La Varlope, RARE & POWERFUL, HANDSOME JACKPOT, Borderlands 3 (Xbox) dlvr.it/RMTrgF  ",
         "rockhard la varlope rare powerful handsome jackpot borderland xbox dlvritrmtrgf"
        ],
        [
         "13",
         "4",
         "2",
         "Rock-Hard La Varlope, RARE & POWERFUL, HANDSOME JACKPOT, Borderlands 3 (Xbox) dlvr.it / RMTrgF",
         "rockhard la varlope rare powerful handsome jackpot borderland xbox dlvrit rmtrgf"
        ],
        [
         "14",
         "4",
         "2",
         "Rock-Hard La Varlope, RARE & POWERFUL, HANDSOME JACKPOT, Borderlands 3 (Xbox) dfr.it / RMTrgF",
         "rockhard la varlope rare powerful handsome jackpot borderland xbox dfrit rmtrgf"
        ],
        [
         "15",
         "4",
         "2",
         "Rock-Hard La Vita, RARE BUT POWERFUL, HANDSOME JACKPOT, Borderlands 1 (Xbox) dlvr.it/RMTrgF",
         "rockhard la vita rare powerful handsome jackpot borderland xbox dlvritrmtrgf"
        ],
        [
         "16",
         "4",
         "2",
         "Live Rock - Hard music La la Varlope, RARE & the POWERFUL, Live HANDSOME i JACKPOT, Borderlands 3 ( Sega Xbox ) dlvr. From it / e RMTrgF",
         "live rock hard music la la varlope rare powerful live handsome jackpot borderland sega xbox dlvr e rmtrgf"
        ],
        [
         "17",
         "4",
         "2",
         "I-Hard like me, RARE LONDON DE, HANDSOME 2011, Borderlands 3 (Xbox) dlvr.it/RMTrgF",
         "ihard like rare london de handsome borderland xbox dlvritrmtrgf"
        ],
        [
         "18",
         "4",
         "3",
         "that was the first borderlands session in a long time where i actually had a really satisfying combat experience. i got some really good kills",
         "first borderland session long time actually really satisfying combat experience got really good kill"
        ],
        [
         "19",
         "4",
         "3",
         "this was the first Borderlands session in a long time where i actually had a really satisfying fighting experience. i got some really good kills",
         "first borderland session long time actually really satisfying fighting experience got really good kill"
        ],
        [
         "20",
         "4",
         "3",
         "that was the first borderlands session in a long time where i actually enjoyed a really satisfying combat experience. i got some rather good kills",
         "first borderland session long time actually enjoyed really satisfying combat experience got rather good kill"
        ],
        [
         "21",
         "4",
         "3",
         "that I was the first real borderlands session in a nice long wait time where i actually had a really satisfying combat experience. and i got some really good kills",
         "first real borderland session nice long wait time actually really satisfying combat experience got really good kill"
        ],
        [
         "22",
         "4",
         "3",
         "that was the first borderlands session in a hot row where i actually had a really bad combat experience. i did some really good kills",
         "first borderland session hot row actually really bad combat experience really good kill"
        ],
        [
         "23",
         "4",
         "1",
         "the biggest dissappoinment in my life came out a year ago fuck borderlands 3",
         "biggest dissappoinment life came year ago fuck borderland"
        ],
        [
         "24",
         "4",
         "1",
         "The biggest disappointment of my life came a year ago.",
         "biggest disappointment life came year ago"
        ],
        [
         "25",
         "4",
         "1",
         "the biggest dissappoinment in my life coming out a year ago fuck borderlands 3",
         "biggest dissappoinment life coming year ago fuck borderland"
        ],
        [
         "26",
         "4",
         "1",
         "For the biggest male dissappoinment in my life came hanging out a year time ago fuck borderlands 3",
         "biggest male dissappoinment life came hanging year time ago fuck borderland"
        ],
        [
         "27",
         "4",
         "1",
         "the biggest dissappoinment in my life came back last year ago fuck borderlands last",
         "biggest dissappoinment life came back last year ago fuck borderland last"
        ],
        [
         "28",
         "4",
         "3",
         "WE FINISHED BORDERLANDS 3 FINALLY YAS! Thank you for hanging out everyone! It was fun. I will try to stream tomorrow but if not I might so some IRL streams while awayu. We shall see. Thank you so much for the raids @mompou_mumpow @MegaMagwitch and @KfdMitch.",
         "finished borderland finally yas thank hanging everyone fun try stream tomorrow might irl stream awayu shall see thank much raid"
        ],
        [
         "29",
         "4",
         "3",
         "WE FINALLY FINALLY FIND BORDERLANDS 3 YES! Thank you all for hanging out! It was fun. I'll try to stream tomorrow, but if not, maybe some IRL streams. We'll see. Thanks for the raids @ mompou _ mumpow @ MegaMagwitch and @ KfdMitch.",
         "finally finally find borderland yes thank hanging fun ill try stream tomorrow maybe irl stream well see thanks raid mompou mumpow megamagwitch kfdmitch"
        ],
        [
         "30",
         "4",
         "3",
         "Thank you for hanging up everyone! It was fun. I'll try to get a haircut tomorrow, but if it wasn't for me, some IRL streams would still be in Hawaii. We'll see. Thank you so much for the @ mompou _ mumpow @ MegaMagwife and @ fendMitch raids.",
         "thank hanging everyone fun ill try get haircut tomorrow wasnt irl stream would still hawaii well see thank much mompou mumpow megamagwife fendmitch raid"
        ],
        [
         "31",
         "4",
         "3",
         "WE FINISHED BORDERLANDS 3 UPDATE YAS! Thank you for hanging out guys! It was fun. I will try to stream and even if not I might so some IRL streams while awayu. We shall go. Thank you so much for the raids @mompou_mumpow @MegaMagwitch and Hope.",
         "finished borderland update yas thank hanging guy fun try stream even might irl stream awayu shall go thank much raid hope"
        ],
        [
         "32",
         "4",
         "3",
         "WE FINISHED BORDERLANDS 3 AND FINALLY YAS! Thank you everyone for hanging out everyone! It was fun. I will try to make stream tomorrow but if not I might make so some IRL streams while awayu. 10 We never shall see. Thank you both so... much for the raids @mompou_mumpow or @MegaMagwitch and 4 @KfdMitch.",
         "finished borderland finally yas thank everyone hanging everyone fun try make stream tomorrow might make irl stream awayu never shall see thank much raid"
        ],
        [
         "33",
         "4",
         "3",
         "WE FINISHED BORDERLANDS 3 FINALLY YAS! Hey you for hanging out so! It was fun. I will try that stream tomorrow and if not I might use some IRL streams from awayu. We shall see. Thank you so much how many raids @mompou_mumpow did and their.",
         "finished borderland finally yas hey hanging fun try stream tomorrow might use irl stream awayu shall see thank much many raid"
        ],
        [
         "34",
         "4",
         "1",
         "Man Gearbox really needs to fix this dissapointing drops in the new Borderlands 3 DLC cant be fine to farm bosses on Mayhem 10 to get 1 legendary drop while anywhere else i get 6-10 drops. . Really sucks alot",
         "man gearbox really need fix dissapointing drop new borderland dlc cant fine farm boss mayhem get legendary drop anywhere else get drop really suck alot"
        ],
        [
         "35",
         "4",
         "1",
         "Man Gearbox really needs to fix these disappointing drops in the new Borderlands 3 DLC for farm bosses on Mayhem 10 to get a legendary drop, while I get 6-10 drops elsewhere.",
         "man gearbox really need fix disappointing drop new borderland dlc farm boss mayhem get legendary drop get drop elsewhere"
        ],
        [
         "36",
         "4",
         "1",
         "Man Gearbox really needs to fix this disssapointing drops in the new Borderlands 3 DLC cant be fine to farm bosses on Mayhem 10 to get 1 legendary drop while elsewhere i get 6-10 drops... Really sucks alot",
         "man gearbox really need fix disssapointing drop new borderland dlc cant fine farm boss mayhem get legendary drop elsewhere get drop really suck alot"
        ],
        [
         "37",
         "4",
         "1",
         "Man Bethesda really needs to fix this dissapointing drops and the new Borderlands 3 It cant be fine to farm bosses on Mayhem 10 to get 1 legendary drop while anywhere else i get 6-10 drops.. Really sucks...",
         "man bethesda really need fix dissapointing drop new borderland cant fine farm boss mayhem get legendary drop anywhere else get drop really suck"
        ],
        [
         "38",
         "4",
         "1",
         "Man Gearbox really needs to fix this dissapointing drops in the completely new Borderlands 3 Days DLC i cant e be fine having to be farm bosses on Mayhem 10 to e get 1 legendary foot drop while anywhere else i get 6 - 10 drops.. It Really sucks to alot",
         "man gearbox really need fix dissapointing drop completely new borderland day dlc cant e fine farm boss mayhem e get legendary foot drop anywhere else get drop really suck alot"
        ],
        [
         "39",
         "4",
         "1",
         "<unk> Gearbox really time to fix this 10 drops in the new Borderlands 3 DLC or be fine to force bosses on Mayhem 10 to get a legendary drop while everyone else i get 6-10 drops.. Really needs alot",
         "unk gearbox really time fix drop new borderland dlc fine force boss mayhem get legendary drop everyone else get drop really need alot"
        ],
        [
         "40",
         "4",
         "2",
         "Check out this epic streamer!.  ",
         "check epic streamer"
        ],
        [
         "41",
         "4",
         "2",
         "Check out this epic streamer!.",
         "check epic streamer"
        ],
        [
         "42",
         "4",
         "2",
         "Watch this epic striptease!.",
         "watch epic striptease"
        ],
        [
         "43",
         "4",
         "2",
         "Check out our epic streamer!.",
         "check epic streamer"
        ],
        [
         "44",
         "4",
         "2",
         "Check out this big epic streamer!.",
         "check big epic streamer"
        ],
        [
         "45",
         "4",
         "2",
         "Check<unk> this epic streamer!.",
         "checkunk epic streamer"
        ],
        [
         "46",
         "4",
         "2",
         "Blaming Sight for Tardiness! A little bit of borderlands. I got called in early for work tomorrow so I can't make up time. Sorry my loves .  twitch.tv/punnisenpai",
         "blaming sight tardiness little bit borderland got called early work tomorrow cant make time sorry love twitchtvpunnisenpai"
        ],
        [
         "47",
         "4",
         "2",
         "A bit of borderland. I was called to work tomorrow morning, so I can't catch up. Sorry, my love. twitch.tv / punnisenpai",
         "bit borderland called work tomorrow morning cant catch sorry love twitchtv punnisenpai"
        ],
        [
         "48",
         "4",
         "2",
         "Guilty of sobriety! A bit of a borderline. I was called to work early tomorrow, so I can't catch up.",
         "guilty sobriety bit borderline called work early tomorrow cant catch"
        ],
        [
         "49",
         "4",
         "2",
         "for Blaming Sight for Tardiness! A little bit of borderlands. I got called in early for work tomorrow so I can't make up time. Sorry my loves .  twitch.tv/punnisenpai",
         "blaming sight tardiness little bit borderland got called early work tomorrow cant make time sorry love twitchtvpunnisenpai"
        ]
       ],
       "shape": {
        "columns": 4,
        "rows": 71656
       }
      },
      "text/html": [
       "<div>\n",
       "<style scoped>\n",
       "    .dataframe tbody tr th:only-of-type {\n",
       "        vertical-align: middle;\n",
       "    }\n",
       "\n",
       "    .dataframe tbody tr th {\n",
       "        vertical-align: top;\n",
       "    }\n",
       "\n",
       "    .dataframe thead th {\n",
       "        text-align: right;\n",
       "    }\n",
       "</style>\n",
       "<table border=\"1\" class=\"dataframe\">\n",
       "  <thead>\n",
       "    <tr style=\"text-align: right;\">\n",
       "      <th></th>\n",
       "      <th>game</th>\n",
       "      <th>sentiment</th>\n",
       "      <th>comment</th>\n",
       "      <th>clean_text</th>\n",
       "    </tr>\n",
       "  </thead>\n",
       "  <tbody>\n",
       "    <tr>\n",
       "      <th>0</th>\n",
       "      <td>4</td>\n",
       "      <td>3</td>\n",
       "      <td>im getting on borderlands and i will murder yo...</td>\n",
       "      <td>im getting borderland murder</td>\n",
       "    </tr>\n",
       "    <tr>\n",
       "      <th>1</th>\n",
       "      <td>4</td>\n",
       "      <td>3</td>\n",
       "      <td>I am coming to the borders and I will kill you...</td>\n",
       "      <td>coming border kill</td>\n",
       "    </tr>\n",
       "    <tr>\n",
       "      <th>2</th>\n",
       "      <td>4</td>\n",
       "      <td>3</td>\n",
       "      <td>im getting on borderlands and i will kill you ...</td>\n",
       "      <td>im getting borderland kill</td>\n",
       "    </tr>\n",
       "    <tr>\n",
       "      <th>3</th>\n",
       "      <td>4</td>\n",
       "      <td>3</td>\n",
       "      <td>im coming on borderlands and i will murder you...</td>\n",
       "      <td>im coming borderland murder</td>\n",
       "    </tr>\n",
       "    <tr>\n",
       "      <th>4</th>\n",
       "      <td>4</td>\n",
       "      <td>3</td>\n",
       "      <td>im getting on borderlands 2 and i will murder ...</td>\n",
       "      <td>im getting borderland murder</td>\n",
       "    </tr>\n",
       "    <tr>\n",
       "      <th>...</th>\n",
       "      <td>...</td>\n",
       "      <td>...</td>\n",
       "      <td>...</td>\n",
       "      <td>...</td>\n",
       "    </tr>\n",
       "    <tr>\n",
       "      <th>71651</th>\n",
       "      <td>21</td>\n",
       "      <td>3</td>\n",
       "      <td>Just realized that the Windows partition of my...</td>\n",
       "      <td>realized window partition mac like year behind...</td>\n",
       "    </tr>\n",
       "    <tr>\n",
       "      <th>71652</th>\n",
       "      <td>21</td>\n",
       "      <td>3</td>\n",
       "      <td>Just realized that my Mac window partition is ...</td>\n",
       "      <td>realized mac window partition year behind nvid...</td>\n",
       "    </tr>\n",
       "    <tr>\n",
       "      <th>71653</th>\n",
       "      <td>21</td>\n",
       "      <td>3</td>\n",
       "      <td>Just realized the windows partition of my Mac ...</td>\n",
       "      <td>realized window partition mac year behind nvid...</td>\n",
       "    </tr>\n",
       "    <tr>\n",
       "      <th>71654</th>\n",
       "      <td>21</td>\n",
       "      <td>3</td>\n",
       "      <td>Just realized between the windows partition of...</td>\n",
       "      <td>realized window partition mac like year behind...</td>\n",
       "    </tr>\n",
       "    <tr>\n",
       "      <th>71655</th>\n",
       "      <td>21</td>\n",
       "      <td>3</td>\n",
       "      <td>Just like the windows partition of my Mac is l...</td>\n",
       "      <td>like window partition mac like year behind dri...</td>\n",
       "    </tr>\n",
       "  </tbody>\n",
       "</table>\n",
       "<p>71656 rows × 4 columns</p>\n",
       "</div>"
      ],
      "text/plain": [
       "       game  sentiment                                            comment  \\\n",
       "0         4          3  im getting on borderlands and i will murder yo...   \n",
       "1         4          3  I am coming to the borders and I will kill you...   \n",
       "2         4          3  im getting on borderlands and i will kill you ...   \n",
       "3         4          3  im coming on borderlands and i will murder you...   \n",
       "4         4          3  im getting on borderlands 2 and i will murder ...   \n",
       "...     ...        ...                                                ...   \n",
       "71651    21          3  Just realized that the Windows partition of my...   \n",
       "71652    21          3  Just realized that my Mac window partition is ...   \n",
       "71653    21          3  Just realized the windows partition of my Mac ...   \n",
       "71654    21          3  Just realized between the windows partition of...   \n",
       "71655    21          3  Just like the windows partition of my Mac is l...   \n",
       "\n",
       "                                              clean_text  \n",
       "0                           im getting borderland murder  \n",
       "1                                     coming border kill  \n",
       "2                             im getting borderland kill  \n",
       "3                            im coming borderland murder  \n",
       "4                           im getting borderland murder  \n",
       "...                                                  ...  \n",
       "71651  realized window partition mac like year behind...  \n",
       "71652  realized mac window partition year behind nvid...  \n",
       "71653  realized window partition mac year behind nvid...  \n",
       "71654  realized window partition mac like year behind...  \n",
       "71655  like window partition mac like year behind dri...  \n",
       "\n",
       "[71656 rows x 4 columns]"
      ]
     },
     "execution_count": 476,
     "metadata": {},
     "output_type": "execute_result"
    }
   ],
   "source": [
    "data"
   ]
  },
  {
   "cell_type": "code",
   "execution_count": 477,
   "metadata": {},
   "outputs": [
    {
     "data": {
      "application/vnd.microsoft.datawrangler.viewer.v0+json": {
       "columns": [
        {
         "name": "index",
         "rawType": "int64",
         "type": "integer"
        },
        {
         "name": "game",
         "rawType": "int64",
         "type": "integer"
        },
        {
         "name": "sentiment",
         "rawType": "int64",
         "type": "integer"
        },
        {
         "name": "comment",
         "rawType": "object",
         "type": "string"
        },
        {
         "name": "clean_text",
         "rawType": "object",
         "type": "string"
        }
       ],
       "ref": "0d9f299b-5727-4bd8-8d3a-022ee7be30a1",
       "rows": [
        [
         "0",
         "11",
         "0",
         "I mentioned on Facebook that I was struggling for motivation to go for a run the other day, which has been translated by Tomâs great auntie as âHayley canât get out of bedâ and told to his grandma, who now thinks Iâm a lazy, terrible person ð¤£",
         "mentioned facebook struggling motivation go run day translated tom great auntie hayley cant get bed told grandma think im lazy terrible person"
        ],
        [
         "1",
         "0",
         "2",
         "BBC News - Amazon boss Jeff Bezos rejects claims company acted like a 'drug dealer' bbc.co.uk/news/av/busineâ¦",
         "bbc news amazon bos jeff bezos reject claim company acted like drug dealer bbccouknewsavbusine"
        ],
        [
         "2",
         "19",
         "1",
         "@Microsoft Why do I pay for WORD when it functions so poorly on my @SamsungUS Chromebook? ð",
         "pay word function poorly chromebook"
        ],
        [
         "3",
         "5",
         "1",
         "CSGO matchmaking is so full of closet hacking, it's a truly awful game.",
         "csgo matchmaking full closet hacking truly awful game"
        ],
        [
         "4",
         "13",
         "2",
         "Now the President is slapping Americans in the face that he really did commit an unlawful act after his  acquittal! From Discover on Google vanityfair.com/news/2020/02/tâ¦",
         "president slapping american face really commit unlawful act acquittal discover google vanityfaircomnewst"
        ],
        [
         "5",
         "10",
         "1",
         "Hi @EAHelp Iâve had Madeleine McCann in my cellar for the past 13 years and the little sneaky thing just escaped whilst I was loading up some fifa points, she took my card and Iâm having to use my paypal account but it isnât working, can you help me resolve it please?",
         "hi ive madeleine mccann cellar past year little sneaky thing escaped whilst loading fifa point took card im use paypal account isnt working help resolve please"
        ],
        [
         "6",
         "18",
         "3",
         "Thank you @EAMaddenNFL!! \n\nNew TE Austin Hooper in the ORANGE & BROWN!! \n\n#Browns | @AustinHooper18 \n\n pic.twitter.com/GRg4xzFKOn",
         "thank new te austin hooper orange brown pictwittercomgrgxzfkon"
        ],
        [
         "7",
         "27",
         "3",
         "Rocket League, Sea of Thieves or Rainbow Six: Siegeð¤? I love playing all three on stream but which is the best? #stream #twitch #RocketLeague #SeaOfThieves #RainbowSixSiege #follow",
         "rocket league sea thief rainbow six siege love playing three stream best"
        ],
        [
         "8",
         "2",
         "3",
         "my ass still knee-deep in Assassins Creed Odyssey with no way out anytime soon lmao",
         "as still kneedeep assassin creed odyssey way anytime soon lmao"
        ],
        [
         "9",
         "6",
         "1",
         "FIX IT JESUS ! Please FIX IT ! What In the world is going on here.  @PlayStation @AskPlayStation @Playstationsup @Treyarch @CallofDuty negative 345 silver wolf error code pic.twitter.com/ziRyhrf59Q",
         "fix jesus please fix world going negative silver wolf error code pictwittercomziryhrfq"
        ],
        [
         "10",
         "9",
         "3",
         "The professional dota 2 scene is fucking exploding and I completely welcome it.\n\nGet the garbage out.",
         "professional dota scene fucking exploding completely welcome get garbage"
        ],
        [
         "11",
         "2",
         "3",
         "Itching to assassinate \n\n#TCCGif #AssassinsCreedBlackFlag #AssassinsCreed #TheCapturedCollective pic.twitter.com/vv8MOGtCjw",
         "itching assassinate pictwittercomvvmogtcjw"
        ],
        [
         "12",
         "28",
         "1",
         "@FredTJoseph hey fred, Comcast cut the cable and now Verizon stays calling me to shut that too pic.twitter.com/CPWSrmueDg",
         "hey fred comcast cut cable verizon stay calling shut pictwittercomcpwsrmuedg"
        ],
        [
         "13",
         "5",
         "2",
         "CSGO WIngman (Im Silver dont bully) twitch.tv/lprezh",
         "csgo wingman im silver dont bully twitchtvlprezh"
        ],
        [
         "14",
         "20",
         "1",
         "@NBA2K game sucks... down by 2 with 38 seconds left and my team intentionally fouls",
         "game suck second left team intentionally foul"
        ],
        [
         "15",
         "21",
         "3",
         "Congrats to the NVIDIA NeMo team for the 1.0.0 release candidate!\nReally excited to see NeMo embracing Hydra as the way to take control over the configuration madness that is machine learning! :)",
         "congrats nvidia nemo team release candidate really excited see nemo embracing hydra way take control configuration madness machine learning"
        ],
        [
         "16",
         "14",
         "3",
         "yeah and itâs fun",
         "yeah fun"
        ],
        [
         "17",
         "9",
         "1",
         "fuck my life ð",
         "fuck life"
        ],
        [
         "18",
         "25",
         "3",
         "happy birthday red dead redemption that shit changed my life what a crazy experience",
         "happy birthday red dead redemption shit changed life crazy experience"
        ],
        [
         "19",
         "19",
         "1",
         "What does that say about Microsoft hardware & software security - The Man gets hacked",
         "say microsoft hardware software security man get hacked"
        ],
        [
         "20",
         "6",
         "1",
         "The new @CallofDuty for ps5 is ð¥ð¥ð¥ð¥\nOh God ð­ð",
         "new p oh god"
        ],
        [
         "21",
         "15",
         "2",
         "Anyone that plays a bad luck albatross deck in hearthstone is a literal cop. \n\nFucking fun police. pic.twitter.com/jY6TRq351e",
         "anyone play bad luck albatross deck hearthstone literal cop fucking fun police pictwittercomjytrqe"
        ],
        [
         "22",
         "6",
         "0",
         "Call of duty warzone (livestream) w/ subs #Warzone youtu.be/7BhH_pjOMU4 via @YouTube Please come watch this AMAZING Call of Duty Warzone stream from this AMAZING streamer! It'd be really, really nice to give him some views and likes as well! ð #COD #CallofDuty #Warzone",
         "call duty warzone livestream w sub youtubebhhpjomu via please come watch amazing call duty warzone stream amazing streamer itd really really nice give view like well"
        ],
        [
         "23",
         "5",
         "1",
         "Finally played Rainbow Six Siege for the first time... I have to admit, I prefer it over pulling my hair out in CSGO any day.",
         "finally played rainbow six siege first time admit prefer pulling hair csgo day"
        ],
        [
         "24",
         "1",
         "2",
         "Umm @PlayApex  when I died it said Bug This pic.twitter.com/bzMHzbadOF",
         "umm died said bug pictwittercombzmhzbadof"
        ],
        [
         "25",
         "21",
         "2",
         "#gtc20 -  nice, motivational, and very accessible Nvidia/AI product fair + related tech talks\nnvidia.com/en-us/gtc/keynâ¦\ninteresting interaction/social activities: braindates, dinner with strangers, ...  and free attendance for universities: reg.rainfocus.com/flow/nvidia/gtâ¦",
         "nice motivational accessible nvidiaai product fair related tech talk nvidiacomenusgtckeyn interesting interactionsocial activity braindates dinner stranger free attendance university regrainfocuscomflownvidiagt"
        ],
        [
         "26",
         "28",
         "1",
         "Yo! @Verizon just added a $120 'fee' to my account under #COVID19 protection without my permission and I am forced to pay it! Check your bills carefully!",
         "yo added fee account protection without permission forced pay check bill carefully"
        ],
        [
         "27",
         "22",
         "0",
         "They might not be the last team that has to make this difficult decision. #update #overwatchleague #nyxl #overwatch #overwatch2 #blizzard #games #lockdown pic.twitter.com/dI1HTl4mcV",
         "might last team make difficult decision pictwittercomdihtlmcv"
        ],
        [
         "28",
         "24",
         "0",
         "Best squad yet#pubg #pubgmobile #pubgkenya instagram.com/p/B-Obt_eAA4f/â¦",
         "best squad yet instagramcompbobteaaf"
        ],
        [
         "29",
         "4",
         "1",
         "@Borderlands how do I submit a complaint? Your CEO isn't paying his staff their bonuses.",
         "submit complaint ceo isnt paying staff bonus"
        ],
        [
         "30",
         "21",
         "3",
         "Watching NVIDIA position itself as not just a leading hardware manufacturer but also providing meaningful software to consumers is a remarkable thing of beauty. What an incredibly lead company with clear focus and goals. Well done @nvidia.",
         "watching nvidia position leading hardware manufacturer also providing meaningful software consumer remarkable thing beauty incredibly lead company clear focus goal well done"
        ],
        [
         "31",
         "23",
         "3",
         "I donât see how this looks like as Xbox controller but yâall will say anything. Anyway this is fire.",
         "dont see look like xbox controller yall say anything anyway fire"
        ],
        [
         "32",
         "31",
         "1",
         "Johnson & Johnson, knowingly sold baby powder containing asbestos for decades and are now tasked with producing #COVID19 #vaccine... along with corporate criminals #Glaxosmithkline - who received the 2nd largest fine in corporate history for their various crimes. Trust them? ð³",
         "johnson johnson knowingly sold baby powder containing asbestos decade tasked producing along corporate criminal received nd largest fine corporate history various crime trust"
        ],
        [
         "33",
         "21",
         "3",
         "The things I would do for a @nvidia 3090... unspeakable! ð§",
         "thing would unspeakable"
        ],
        [
         "34",
         "12",
         "1",
         "Fortnite is running like ass.. fps drops everywhere wtf?",
         "fortnite running like as fps drop everywhere wtf"
        ],
        [
         "35",
         "6",
         "2",
         "Great play dude , what a good optic for the mk2 Carbine too ð",
         "great play dude good optic mk carbine"
        ],
        [
         "36",
         "25",
         "2",
         "I got the horses in the back #PS4live (Red Dead Redemption 2)  live at youtu.be/9BVKh67OaEI",
         "got horse back red dead redemption live youtubebvkhoaei"
        ],
        [
         "37",
         "30",
         "0",
         "This is a really disappointing move by Remedy. Bought Control day one with the season pass but will only get the PS5 upgrade if I rebuy everything again repackaged in the Ultimate Edition??",
         "really disappointing move remedy bought control day one season pas get p upgrade rebuy everything repackaged ultimate edition"
        ],
        [
         "38",
         "2",
         "3",
         "Just finished Assassins Creed Odyssey through @Shadow_Official @Shadow_NA from the beginning to the end. Thanks for the amazing gaming experience on your service ð",
         "finished assassin creed odyssey beginning end thanks amazing gaming experience service"
        ],
        [
         "39",
         "27",
         "2",
         "Solo Q and this freak is spinning as fast as he can to lower the FPS. \nI thought they took this bs out\n\n@Rainbow6Game https://t.co/mlvHMu4qeZ",
         "solo q freak spinning fast lower fps thought took b"
        ],
        [
         "40",
         "6",
         "3",
         "Our eldest has spent so long playing this new Call of Duty game, Iâm not convinced he even knows what day it is, let alone how long lockdown has lasted. Iâd normally object, but I think Iâd rather deal with that, than him being frustrated about being stuck at home.",
         "eldest spent long playing new call duty game im convinced even know day let alone long lockdown lasted id normally object think id rather deal frustrated stuck home"
        ],
        [
         "41",
         "22",
         "2",
         "//The Corruption and Knocking up of Overwatch Babes is a serious Mood atm... pic.twitter.com/QNy4kmgBLV",
         "corruption knocking overwatch babe serious mood atm pictwittercomqnykmgblv"
        ],
        [
         "42",
         "6",
         "2",
         "@PlayCODMobile @M2Games2 i love the call of duty, more unfortunately i'm having a lot of audio bug, every time i'm playing the BR mode of the game, the audio just stops, then i have to close it and open dnv the device i'm using is iOS.",
         "love call duty unfortunately im lot audio bug every time im playing br mode game audio stop close open dnv device im using io"
        ],
        [
         "43",
         "0",
         "2",
         "Amazon stops accepting new online grocery customers as it cuts hours at Whole Foods stores dailymail.co.uk/news/article-8â¦ https://t.co/jn7OMaLq3n",
         "amazon stop accepting new online grocery customer cut hour whole food store dailymailcouknewsarticle"
        ],
        [
         "44",
         "7",
         "3",
         "Not gonna lie that Black Ops cold war trailer was probably the best COD teaser I have ever seen",
         "gon na lie black ops cold war trailer probably best cod teaser ever seen"
        ],
        [
         "45",
         "27",
         "2",
         "MELUSI 4k are you shocked! @Justhoneybadger @simmyster06 @walkerpool @Mdassassin007 @OWahid65 #Rainbowsixsiege pic.twitter.com/0ACuQjtvGL",
         "melusi k shocked pictwittercomacuqjtvgl"
        ],
        [
         "46",
         "15",
         "1",
         "Never popped the ice block #Hearthstone pic.twitter.com/BCsZlhJHPF",
         "never popped ice block pictwittercombcszlhjhpf"
        ],
        [
         "47",
         "31",
         "1",
         "You mean the same Johnson & Johnson that suppressed reports of asbestos contamination in their talc products for decades??? Wonder how many died??? And Birx says; \"Randomized controlled studies show NO evidence of improved outcome with HCQ.\" LIAR???\nyoutu.be/77TMszubRU4",
         "mean johnson johnson suppressed report asbestos contamination talc product decade wonder many died birx say randomized controlled study show evidence improved outcome hcq liar youtubetmszubru"
        ],
        [
         "48",
         "6",
         "1",
         "Iâm addicted to call of duty mobileð",
         "im addicted call duty mobile"
        ],
        [
         "49",
         "30",
         "2",
         "This could go very well...or horribly wrong.",
         "could go wellor horribly wrong"
        ]
       ],
       "shape": {
        "columns": 4,
        "rows": 1000
       }
      },
      "text/html": [
       "<div>\n",
       "<style scoped>\n",
       "    .dataframe tbody tr th:only-of-type {\n",
       "        vertical-align: middle;\n",
       "    }\n",
       "\n",
       "    .dataframe tbody tr th {\n",
       "        vertical-align: top;\n",
       "    }\n",
       "\n",
       "    .dataframe thead th {\n",
       "        text-align: right;\n",
       "    }\n",
       "</style>\n",
       "<table border=\"1\" class=\"dataframe\">\n",
       "  <thead>\n",
       "    <tr style=\"text-align: right;\">\n",
       "      <th></th>\n",
       "      <th>game</th>\n",
       "      <th>sentiment</th>\n",
       "      <th>comment</th>\n",
       "      <th>clean_text</th>\n",
       "    </tr>\n",
       "  </thead>\n",
       "  <tbody>\n",
       "    <tr>\n",
       "      <th>0</th>\n",
       "      <td>11</td>\n",
       "      <td>0</td>\n",
       "      <td>I mentioned on Facebook that I was struggling ...</td>\n",
       "      <td>mentioned facebook struggling motivation go ru...</td>\n",
       "    </tr>\n",
       "    <tr>\n",
       "      <th>1</th>\n",
       "      <td>0</td>\n",
       "      <td>2</td>\n",
       "      <td>BBC News - Amazon boss Jeff Bezos rejects clai...</td>\n",
       "      <td>bbc news amazon bos jeff bezos reject claim co...</td>\n",
       "    </tr>\n",
       "    <tr>\n",
       "      <th>2</th>\n",
       "      <td>19</td>\n",
       "      <td>1</td>\n",
       "      <td>@Microsoft Why do I pay for WORD when it funct...</td>\n",
       "      <td>pay word function poorly chromebook</td>\n",
       "    </tr>\n",
       "    <tr>\n",
       "      <th>3</th>\n",
       "      <td>5</td>\n",
       "      <td>1</td>\n",
       "      <td>CSGO matchmaking is so full of closet hacking,...</td>\n",
       "      <td>csgo matchmaking full closet hacking truly awf...</td>\n",
       "    </tr>\n",
       "    <tr>\n",
       "      <th>4</th>\n",
       "      <td>13</td>\n",
       "      <td>2</td>\n",
       "      <td>Now the President is slapping Americans in the...</td>\n",
       "      <td>president slapping american face really commit...</td>\n",
       "    </tr>\n",
       "    <tr>\n",
       "      <th>...</th>\n",
       "      <td>...</td>\n",
       "      <td>...</td>\n",
       "      <td>...</td>\n",
       "      <td>...</td>\n",
       "    </tr>\n",
       "    <tr>\n",
       "      <th>995</th>\n",
       "      <td>14</td>\n",
       "      <td>0</td>\n",
       "      <td>â­ï¸ Toronto is the arts and culture capital...</td>\n",
       "      <td>toronto art culture capital canada wonder want...</td>\n",
       "    </tr>\n",
       "    <tr>\n",
       "      <th>996</th>\n",
       "      <td>5</td>\n",
       "      <td>0</td>\n",
       "      <td>tHIS IS ACTUALLY A GOOD MOVE TOT BRING MORE VI...</td>\n",
       "      <td>actually good move tot bring viewer one people...</td>\n",
       "    </tr>\n",
       "    <tr>\n",
       "      <th>997</th>\n",
       "      <td>4</td>\n",
       "      <td>3</td>\n",
       "      <td>Today sucked so itâs time to drink wine n pl...</td>\n",
       "      <td>today sucked time drink wine n play borderland...</td>\n",
       "    </tr>\n",
       "    <tr>\n",
       "      <th>998</th>\n",
       "      <td>19</td>\n",
       "      <td>3</td>\n",
       "      <td>Bought a fraction of Microsoft today. Small wins.</td>\n",
       "      <td>bought fraction microsoft today small win</td>\n",
       "    </tr>\n",
       "    <tr>\n",
       "      <th>999</th>\n",
       "      <td>31</td>\n",
       "      <td>2</td>\n",
       "      <td>Johnson &amp; Johnson to stop selling talc baby po...</td>\n",
       "      <td>johnson johnson stop selling talc baby powder ...</td>\n",
       "    </tr>\n",
       "  </tbody>\n",
       "</table>\n",
       "<p>1000 rows × 4 columns</p>\n",
       "</div>"
      ],
      "text/plain": [
       "     game  sentiment                                            comment  \\\n",
       "0      11          0  I mentioned on Facebook that I was struggling ...   \n",
       "1       0          2  BBC News - Amazon boss Jeff Bezos rejects clai...   \n",
       "2      19          1  @Microsoft Why do I pay for WORD when it funct...   \n",
       "3       5          1  CSGO matchmaking is so full of closet hacking,...   \n",
       "4      13          2  Now the President is slapping Americans in the...   \n",
       "..    ...        ...                                                ...   \n",
       "995    14          0  â­ï¸ Toronto is the arts and culture capital...   \n",
       "996     5          0  tHIS IS ACTUALLY A GOOD MOVE TOT BRING MORE VI...   \n",
       "997     4          3  Today sucked so itâs time to drink wine n pl...   \n",
       "998    19          3  Bought a fraction of Microsoft today. Small wins.   \n",
       "999    31          2  Johnson & Johnson to stop selling talc baby po...   \n",
       "\n",
       "                                            clean_text  \n",
       "0    mentioned facebook struggling motivation go ru...  \n",
       "1    bbc news amazon bos jeff bezos reject claim co...  \n",
       "2                  pay word function poorly chromebook  \n",
       "3    csgo matchmaking full closet hacking truly awf...  \n",
       "4    president slapping american face really commit...  \n",
       "..                                                 ...  \n",
       "995  toronto art culture capital canada wonder want...  \n",
       "996  actually good move tot bring viewer one people...  \n",
       "997  today sucked time drink wine n play borderland...  \n",
       "998          bought fraction microsoft today small win  \n",
       "999  johnson johnson stop selling talc baby powder ...  \n",
       "\n",
       "[1000 rows x 4 columns]"
      ]
     },
     "execution_count": 477,
     "metadata": {},
     "output_type": "execute_result"
    }
   ],
   "source": [
    "test"
   ]
  },
  {
   "cell_type": "code",
   "execution_count": 478,
   "metadata": {},
   "outputs": [
    {
     "data": {
      "application/vnd.microsoft.datawrangler.viewer.v0+json": {
       "columns": [
        {
         "name": "index",
         "rawType": "object",
         "type": "string"
        },
        {
         "name": "0",
         "rawType": "int64",
         "type": "integer"
        }
       ],
       "ref": "053ee6a9-4200-4607-9b09-1918065b9859",
       "rows": [
        [
         "game",
         "0"
        ],
        [
         "sentiment",
         "0"
        ],
        [
         "comment",
         "0"
        ],
        [
         "clean_text",
         "0"
        ]
       ],
       "shape": {
        "columns": 1,
        "rows": 4
       }
      },
      "text/plain": [
       "game          0\n",
       "sentiment     0\n",
       "comment       0\n",
       "clean_text    0\n",
       "dtype: int64"
      ]
     },
     "execution_count": 478,
     "metadata": {},
     "output_type": "execute_result"
    }
   ],
   "source": [
    "data.isnull().sum()"
   ]
  },
  {
   "cell_type": "code",
   "execution_count": 479,
   "metadata": {},
   "outputs": [
    {
     "data": {
      "application/vnd.microsoft.datawrangler.viewer.v0+json": {
       "columns": [
        {
         "name": "index",
         "rawType": "object",
         "type": "string"
        },
        {
         "name": "0",
         "rawType": "int64",
         "type": "integer"
        }
       ],
       "ref": "c6b934d7-e594-4289-8eb8-33c26a6478d3",
       "rows": [
        [
         "game",
         "0"
        ],
        [
         "sentiment",
         "0"
        ],
        [
         "comment",
         "0"
        ],
        [
         "clean_text",
         "0"
        ]
       ],
       "shape": {
        "columns": 1,
        "rows": 4
       }
      },
      "text/plain": [
       "game          0\n",
       "sentiment     0\n",
       "comment       0\n",
       "clean_text    0\n",
       "dtype: int64"
      ]
     },
     "execution_count": 479,
     "metadata": {},
     "output_type": "execute_result"
    }
   ],
   "source": [
    "test.isnull().sum()"
   ]
  },
  {
   "cell_type": "code",
   "execution_count": 480,
   "metadata": {},
   "outputs": [
    {
     "data": {
      "text/plain": [
       "np.int64(698)"
      ]
     },
     "execution_count": 480,
     "metadata": {},
     "output_type": "execute_result"
    }
   ],
   "source": [
    "data.duplicated().sum()"
   ]
  },
  {
   "cell_type": "code",
   "execution_count": 481,
   "metadata": {},
   "outputs": [],
   "source": [
    "data.drop_duplicates(inplace=True)\n",
    "data.reset_index(drop=True, inplace=True)"
   ]
  },
  {
   "cell_type": "code",
   "execution_count": 482,
   "metadata": {},
   "outputs": [
    {
     "data": {
      "text/plain": [
       "np.int64(0)"
      ]
     },
     "execution_count": 482,
     "metadata": {},
     "output_type": "execute_result"
    }
   ],
   "source": [
    "test.duplicated().sum()"
   ]
  },
  {
   "cell_type": "code",
   "execution_count": 483,
   "metadata": {
    "execution": {
     "iopub.execute_input": "2025-08-04T21:19:54.854571Z",
     "iopub.status.busy": "2025-08-04T21:19:54.854248Z",
     "iopub.status.idle": "2025-08-04T21:19:54.858661Z",
     "shell.execute_reply": "2025-08-04T21:19:54.857917Z",
     "shell.execute_reply.started": "2025-08-04T21:19:54.854550Z"
    },
    "trusted": true
   },
   "outputs": [],
   "source": [
    "X_train=data['clean_text']\n",
    "y_train=data['sentiment']"
   ]
  },
  {
   "cell_type": "code",
   "execution_count": 484,
   "metadata": {},
   "outputs": [],
   "source": [
    "X_test=test['clean_text']\n",
    "y_test=test['sentiment']"
   ]
  },
  {
   "cell_type": "code",
   "execution_count": 485,
   "metadata": {
    "execution": {
     "iopub.execute_input": "2025-08-04T21:20:02.278104Z",
     "iopub.status.busy": "2025-08-04T21:20:02.277342Z",
     "iopub.status.idle": "2025-08-04T21:20:14.094320Z",
     "shell.execute_reply": "2025-08-04T21:20:14.093736Z",
     "shell.execute_reply.started": "2025-08-04T21:20:02.278076Z"
    },
    "trusted": true
   },
   "outputs": [],
   "source": [
    "vectorizer = TfidfVectorizer()\n",
    "\n",
    "X_train = vectorizer.fit_transform(X_train)\n",
    "X_test = vectorizer.transform(X_test)"
   ]
  },
  {
   "cell_type": "code",
   "execution_count": null,
   "metadata": {},
   "outputs": [],
   "source": [
    "results = {}\n",
    "# models from 1.1 part\n",
    "for name, model in models.items():\n",
    "    model.fit(X_train, y_train)\n",
    "    y_pred = model.predict(X_test)\n",
    "    results[name] = {\n",
    "        'Accuracy': accuracy_score(y_test, y_pred)\n",
    "    }"
   ]
  },
  {
   "cell_type": "code",
   "execution_count": 498,
   "metadata": {
    "trusted": true
   },
   "outputs": [
    {
     "name": "stdout",
     "output_type": "stream",
     "text": [
      "\n",
      "Best Model based on Accuracy: Decision Tree\n",
      "\n"
     ]
    }
   ],
   "source": [
    "best_model_name = metrics_df['Accuracy'].idxmax()\n",
    "best_model = models[best_model_name]\n",
    "print(f\"\\nBest Model based on Accuracy: {best_model_name}\\n\")\n"
   ]
  },
  {
   "cell_type": "code",
   "execution_count": 496,
   "metadata": {
    "execution": {
     "iopub.execute_input": "2025-08-04T21:22:39.099076Z",
     "iopub.status.busy": "2025-08-04T21:22:39.098804Z",
     "iopub.status.idle": "2025-08-04T21:24:25.734254Z",
     "shell.execute_reply": "2025-08-04T21:24:25.732996Z",
     "shell.execute_reply.started": "2025-08-04T21:22:39.099057Z"
    },
    "trusted": true
   },
   "outputs": [
    {
     "name": "stdout",
     "output_type": "stream",
     "text": [
      "Accuracy 0.954\n",
      "\n",
      "Classification Report:\n",
      "               precision    recall  f1-score   support\n",
      "\n",
      "           0       0.93      0.96      0.95       172\n",
      "           1       0.97      0.95      0.96       266\n",
      "           2       0.96      0.96      0.96       285\n",
      "           3       0.95      0.95      0.95       277\n",
      "\n",
      "    accuracy                           0.95      1000\n",
      "   macro avg       0.95      0.95      0.95      1000\n",
      "weighted avg       0.95      0.95      0.95      1000\n",
      "\n"
     ]
    }
   ],
   "source": [
    "print(\"Accuracy\", accuracy_score(y_test, y_pred))\n",
    "print(\"\\nClassification Report:\\n\",classification_report(y_test, y_pred))"
   ]
  }
 ],
 "metadata": {
  "kaggle": {
   "accelerator": "nvidiaTeslaT4",
   "dataSources": [
    {
     "datasetId": 2477,
     "sourceId": 4140,
     "sourceType": "datasetVersion"
    }
   ],
   "dockerImageVersionId": 31089,
   "isGpuEnabled": true,
   "isInternetEnabled": true,
   "language": "python",
   "sourceType": "notebook"
  },
  "kernelspec": {
   "display_name": "Python 3",
   "language": "python",
   "name": "python3"
  },
  "language_info": {
   "codemirror_mode": {
    "name": "ipython",
    "version": 3
   },
   "file_extension": ".py",
   "mimetype": "text/x-python",
   "name": "python",
   "nbconvert_exporter": "python",
   "pygments_lexer": "ipython3",
   "version": "3.13.5"
  }
 },
 "nbformat": 4,
 "nbformat_minor": 4
}
