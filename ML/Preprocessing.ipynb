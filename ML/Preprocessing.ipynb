{
 "cells": [
  {
   "cell_type": "code",
   "execution_count": 94,
   "id": "23430c7f",
   "metadata": {},
   "outputs": [],
   "source": [
    "import numpy as np\n",
    "import pandas as pd\n",
    "import re\n",
    "import string\n",
    "import matplotlib.pyplot as plt\n",
    "import seaborn as sns"
   ]
  },
  {
   "cell_type": "code",
   "execution_count": 69,
   "id": "35aa62c7",
   "metadata": {},
   "outputs": [
    {
     "name": "stderr",
     "output_type": "stream",
     "text": [
      "C:\\Users\\mrtat\\AppData\\Local\\Temp\\ipykernel_90544\\3195422186.py:1: DtypeWarning: Columns (26) have mixed types. Specify dtype option on import or set low_memory=False.\n",
      "  df_train = pd.read_csv(r\"C:\\Users\\mrtat\\Downloads\\NTI\\Data\\train.csv\")\n"
     ]
    }
   ],
   "source": [
    "df_train = pd.read_csv(r\"C:\\Users\\mrtat\\Downloads\\NTI\\Data\\train.csv\")"
   ]
  },
  {
   "cell_type": "code",
   "execution_count": 70,
   "id": "bae7d100",
   "metadata": {},
   "outputs": [
    {
     "data": {
      "application/vnd.microsoft.datawrangler.viewer.v0+json": {
       "columns": [
        {
         "name": "index",
         "rawType": "int64",
         "type": "integer"
        },
        {
         "name": "ID",
         "rawType": "object",
         "type": "string"
        },
        {
         "name": "Customer_ID",
         "rawType": "object",
         "type": "string"
        },
        {
         "name": "Month",
         "rawType": "object",
         "type": "string"
        },
        {
         "name": "Name",
         "rawType": "object",
         "type": "string"
        },
        {
         "name": "Age",
         "rawType": "object",
         "type": "string"
        },
        {
         "name": "SSN",
         "rawType": "object",
         "type": "string"
        },
        {
         "name": "Occupation",
         "rawType": "object",
         "type": "string"
        },
        {
         "name": "Annual_Income",
         "rawType": "object",
         "type": "string"
        },
        {
         "name": "Monthly_Inhand_Salary",
         "rawType": "float64",
         "type": "float"
        },
        {
         "name": "Num_Bank_Accounts",
         "rawType": "int64",
         "type": "integer"
        },
        {
         "name": "Num_Credit_Card",
         "rawType": "int64",
         "type": "integer"
        },
        {
         "name": "Interest_Rate",
         "rawType": "int64",
         "type": "integer"
        },
        {
         "name": "Num_of_Loan",
         "rawType": "object",
         "type": "string"
        },
        {
         "name": "Type_of_Loan",
         "rawType": "object",
         "type": "string"
        },
        {
         "name": "Delay_from_due_date",
         "rawType": "int64",
         "type": "integer"
        },
        {
         "name": "Num_of_Delayed_Payment",
         "rawType": "object",
         "type": "unknown"
        },
        {
         "name": "Changed_Credit_Limit",
         "rawType": "object",
         "type": "string"
        },
        {
         "name": "Num_Credit_Inquiries",
         "rawType": "float64",
         "type": "float"
        },
        {
         "name": "Credit_Mix",
         "rawType": "object",
         "type": "string"
        },
        {
         "name": "Outstanding_Debt",
         "rawType": "object",
         "type": "string"
        },
        {
         "name": "Credit_Utilization_Ratio",
         "rawType": "float64",
         "type": "float"
        },
        {
         "name": "Credit_History_Age",
         "rawType": "object",
         "type": "unknown"
        },
        {
         "name": "Payment_of_Min_Amount",
         "rawType": "object",
         "type": "string"
        },
        {
         "name": "Total_EMI_per_month",
         "rawType": "float64",
         "type": "float"
        },
        {
         "name": "Amount_invested_monthly",
         "rawType": "object",
         "type": "string"
        },
        {
         "name": "Payment_Behaviour",
         "rawType": "object",
         "type": "string"
        },
        {
         "name": "Monthly_Balance",
         "rawType": "object",
         "type": "string"
        },
        {
         "name": "Credit_Score",
         "rawType": "object",
         "type": "string"
        }
       ],
       "ref": "0cafc99e-9fde-4c4e-a346-e894d4dba554",
       "rows": [
        [
         "0",
         "0x1602",
         "CUS_0xd40",
         "January",
         "Aaron Maashoh",
         "23",
         "821-00-0265",
         "Scientist",
         "19114.12",
         "1824.8433333333328",
         "3",
         "4",
         "3",
         "4",
         "Auto Loan, Credit-Builder Loan, Personal Loan, and Home Equity Loan",
         "3",
         "7",
         "11.27",
         "4.0",
         "_",
         "809.98",
         "26.822619623699016",
         "22 Years and 1 Months",
         "No",
         "49.57494921489417",
         "80.41529543900253",
         "High_spent_Small_value_payments",
         "312.49408867943663",
         "Good"
        ],
        [
         "1",
         "0x1603",
         "CUS_0xd40",
         "February",
         "Aaron Maashoh",
         "23",
         "821-00-0265",
         "Scientist",
         "19114.12",
         null,
         "3",
         "4",
         "3",
         "4",
         "Auto Loan, Credit-Builder Loan, Personal Loan, and Home Equity Loan",
         "-1",
         null,
         "11.27",
         "4.0",
         "Good",
         "809.98",
         "31.94496005538421",
         null,
         "No",
         "49.57494921489417",
         "118.28022162236736",
         "Low_spent_Large_value_payments",
         "284.62916249607184",
         "Good"
        ],
        [
         "2",
         "0x1604",
         "CUS_0xd40",
         "March",
         "Aaron Maashoh",
         "-500",
         "821-00-0265",
         "Scientist",
         "19114.12",
         null,
         "3",
         "4",
         "3",
         "4",
         "Auto Loan, Credit-Builder Loan, Personal Loan, and Home Equity Loan",
         "3",
         "7",
         "_",
         "4.0",
         "Good",
         "809.98",
         "28.60935202206993",
         "22 Years and 3 Months",
         "No",
         "49.57494921489417",
         "81.699521264648",
         "Low_spent_Medium_value_payments",
         "331.2098628537912",
         "Good"
        ],
        [
         "3",
         "0x1605",
         "CUS_0xd40",
         "April",
         "Aaron Maashoh",
         "23",
         "821-00-0265",
         "Scientist",
         "19114.12",
         null,
         "3",
         "4",
         "3",
         "4",
         "Auto Loan, Credit-Builder Loan, Personal Loan, and Home Equity Loan",
         "5",
         "4",
         "6.27",
         "4.0",
         "Good",
         "809.98",
         "31.377861869582357",
         "22 Years and 4 Months",
         "No",
         "49.57494921489417",
         "199.4580743910713",
         "Low_spent_Small_value_payments",
         "223.45130972736786",
         "Good"
        ],
        [
         "4",
         "0x1606",
         "CUS_0xd40",
         "May",
         "Aaron Maashoh",
         "23",
         "821-00-0265",
         "Scientist",
         "19114.12",
         "1824.8433333333328",
         "3",
         "4",
         "3",
         "4",
         "Auto Loan, Credit-Builder Loan, Personal Loan, and Home Equity Loan",
         "6",
         null,
         "11.27",
         "4.0",
         "Good",
         "809.98",
         "24.797346908844982",
         "22 Years and 5 Months",
         "No",
         "49.57494921489417",
         "41.420153086217326",
         "High_spent_Medium_value_payments",
         "341.48923103222177",
         "Good"
        ]
       ],
       "shape": {
        "columns": 28,
        "rows": 5
       }
      },
      "text/html": [
       "<div>\n",
       "<style scoped>\n",
       "    .dataframe tbody tr th:only-of-type {\n",
       "        vertical-align: middle;\n",
       "    }\n",
       "\n",
       "    .dataframe tbody tr th {\n",
       "        vertical-align: top;\n",
       "    }\n",
       "\n",
       "    .dataframe thead th {\n",
       "        text-align: right;\n",
       "    }\n",
       "</style>\n",
       "<table border=\"1\" class=\"dataframe\">\n",
       "  <thead>\n",
       "    <tr style=\"text-align: right;\">\n",
       "      <th></th>\n",
       "      <th>ID</th>\n",
       "      <th>Customer_ID</th>\n",
       "      <th>Month</th>\n",
       "      <th>Name</th>\n",
       "      <th>Age</th>\n",
       "      <th>SSN</th>\n",
       "      <th>Occupation</th>\n",
       "      <th>Annual_Income</th>\n",
       "      <th>Monthly_Inhand_Salary</th>\n",
       "      <th>Num_Bank_Accounts</th>\n",
       "      <th>...</th>\n",
       "      <th>Credit_Mix</th>\n",
       "      <th>Outstanding_Debt</th>\n",
       "      <th>Credit_Utilization_Ratio</th>\n",
       "      <th>Credit_History_Age</th>\n",
       "      <th>Payment_of_Min_Amount</th>\n",
       "      <th>Total_EMI_per_month</th>\n",
       "      <th>Amount_invested_monthly</th>\n",
       "      <th>Payment_Behaviour</th>\n",
       "      <th>Monthly_Balance</th>\n",
       "      <th>Credit_Score</th>\n",
       "    </tr>\n",
       "  </thead>\n",
       "  <tbody>\n",
       "    <tr>\n",
       "      <th>0</th>\n",
       "      <td>0x1602</td>\n",
       "      <td>CUS_0xd40</td>\n",
       "      <td>January</td>\n",
       "      <td>Aaron Maashoh</td>\n",
       "      <td>23</td>\n",
       "      <td>821-00-0265</td>\n",
       "      <td>Scientist</td>\n",
       "      <td>19114.12</td>\n",
       "      <td>1824.843333</td>\n",
       "      <td>3</td>\n",
       "      <td>...</td>\n",
       "      <td>_</td>\n",
       "      <td>809.98</td>\n",
       "      <td>26.822620</td>\n",
       "      <td>22 Years and 1 Months</td>\n",
       "      <td>No</td>\n",
       "      <td>49.574949</td>\n",
       "      <td>80.41529543900253</td>\n",
       "      <td>High_spent_Small_value_payments</td>\n",
       "      <td>312.49408867943663</td>\n",
       "      <td>Good</td>\n",
       "    </tr>\n",
       "    <tr>\n",
       "      <th>1</th>\n",
       "      <td>0x1603</td>\n",
       "      <td>CUS_0xd40</td>\n",
       "      <td>February</td>\n",
       "      <td>Aaron Maashoh</td>\n",
       "      <td>23</td>\n",
       "      <td>821-00-0265</td>\n",
       "      <td>Scientist</td>\n",
       "      <td>19114.12</td>\n",
       "      <td>NaN</td>\n",
       "      <td>3</td>\n",
       "      <td>...</td>\n",
       "      <td>Good</td>\n",
       "      <td>809.98</td>\n",
       "      <td>31.944960</td>\n",
       "      <td>NaN</td>\n",
       "      <td>No</td>\n",
       "      <td>49.574949</td>\n",
       "      <td>118.28022162236736</td>\n",
       "      <td>Low_spent_Large_value_payments</td>\n",
       "      <td>284.62916249607184</td>\n",
       "      <td>Good</td>\n",
       "    </tr>\n",
       "    <tr>\n",
       "      <th>2</th>\n",
       "      <td>0x1604</td>\n",
       "      <td>CUS_0xd40</td>\n",
       "      <td>March</td>\n",
       "      <td>Aaron Maashoh</td>\n",
       "      <td>-500</td>\n",
       "      <td>821-00-0265</td>\n",
       "      <td>Scientist</td>\n",
       "      <td>19114.12</td>\n",
       "      <td>NaN</td>\n",
       "      <td>3</td>\n",
       "      <td>...</td>\n",
       "      <td>Good</td>\n",
       "      <td>809.98</td>\n",
       "      <td>28.609352</td>\n",
       "      <td>22 Years and 3 Months</td>\n",
       "      <td>No</td>\n",
       "      <td>49.574949</td>\n",
       "      <td>81.699521264648</td>\n",
       "      <td>Low_spent_Medium_value_payments</td>\n",
       "      <td>331.2098628537912</td>\n",
       "      <td>Good</td>\n",
       "    </tr>\n",
       "    <tr>\n",
       "      <th>3</th>\n",
       "      <td>0x1605</td>\n",
       "      <td>CUS_0xd40</td>\n",
       "      <td>April</td>\n",
       "      <td>Aaron Maashoh</td>\n",
       "      <td>23</td>\n",
       "      <td>821-00-0265</td>\n",
       "      <td>Scientist</td>\n",
       "      <td>19114.12</td>\n",
       "      <td>NaN</td>\n",
       "      <td>3</td>\n",
       "      <td>...</td>\n",
       "      <td>Good</td>\n",
       "      <td>809.98</td>\n",
       "      <td>31.377862</td>\n",
       "      <td>22 Years and 4 Months</td>\n",
       "      <td>No</td>\n",
       "      <td>49.574949</td>\n",
       "      <td>199.4580743910713</td>\n",
       "      <td>Low_spent_Small_value_payments</td>\n",
       "      <td>223.45130972736786</td>\n",
       "      <td>Good</td>\n",
       "    </tr>\n",
       "    <tr>\n",
       "      <th>4</th>\n",
       "      <td>0x1606</td>\n",
       "      <td>CUS_0xd40</td>\n",
       "      <td>May</td>\n",
       "      <td>Aaron Maashoh</td>\n",
       "      <td>23</td>\n",
       "      <td>821-00-0265</td>\n",
       "      <td>Scientist</td>\n",
       "      <td>19114.12</td>\n",
       "      <td>1824.843333</td>\n",
       "      <td>3</td>\n",
       "      <td>...</td>\n",
       "      <td>Good</td>\n",
       "      <td>809.98</td>\n",
       "      <td>24.797347</td>\n",
       "      <td>22 Years and 5 Months</td>\n",
       "      <td>No</td>\n",
       "      <td>49.574949</td>\n",
       "      <td>41.420153086217326</td>\n",
       "      <td>High_spent_Medium_value_payments</td>\n",
       "      <td>341.48923103222177</td>\n",
       "      <td>Good</td>\n",
       "    </tr>\n",
       "  </tbody>\n",
       "</table>\n",
       "<p>5 rows × 28 columns</p>\n",
       "</div>"
      ],
      "text/plain": [
       "       ID Customer_ID     Month           Name   Age          SSN Occupation  \\\n",
       "0  0x1602   CUS_0xd40   January  Aaron Maashoh    23  821-00-0265  Scientist   \n",
       "1  0x1603   CUS_0xd40  February  Aaron Maashoh    23  821-00-0265  Scientist   \n",
       "2  0x1604   CUS_0xd40     March  Aaron Maashoh  -500  821-00-0265  Scientist   \n",
       "3  0x1605   CUS_0xd40     April  Aaron Maashoh    23  821-00-0265  Scientist   \n",
       "4  0x1606   CUS_0xd40       May  Aaron Maashoh    23  821-00-0265  Scientist   \n",
       "\n",
       "  Annual_Income  Monthly_Inhand_Salary  Num_Bank_Accounts  ...  Credit_Mix  \\\n",
       "0      19114.12            1824.843333                  3  ...           _   \n",
       "1      19114.12                    NaN                  3  ...        Good   \n",
       "2      19114.12                    NaN                  3  ...        Good   \n",
       "3      19114.12                    NaN                  3  ...        Good   \n",
       "4      19114.12            1824.843333                  3  ...        Good   \n",
       "\n",
       "   Outstanding_Debt Credit_Utilization_Ratio     Credit_History_Age  \\\n",
       "0            809.98                26.822620  22 Years and 1 Months   \n",
       "1            809.98                31.944960                    NaN   \n",
       "2            809.98                28.609352  22 Years and 3 Months   \n",
       "3            809.98                31.377862  22 Years and 4 Months   \n",
       "4            809.98                24.797347  22 Years and 5 Months   \n",
       "\n",
       "   Payment_of_Min_Amount Total_EMI_per_month Amount_invested_monthly  \\\n",
       "0                     No           49.574949       80.41529543900253   \n",
       "1                     No           49.574949      118.28022162236736   \n",
       "2                     No           49.574949         81.699521264648   \n",
       "3                     No           49.574949       199.4580743910713   \n",
       "4                     No           49.574949      41.420153086217326   \n",
       "\n",
       "                  Payment_Behaviour     Monthly_Balance Credit_Score  \n",
       "0   High_spent_Small_value_payments  312.49408867943663         Good  \n",
       "1    Low_spent_Large_value_payments  284.62916249607184         Good  \n",
       "2   Low_spent_Medium_value_payments   331.2098628537912         Good  \n",
       "3    Low_spent_Small_value_payments  223.45130972736786         Good  \n",
       "4  High_spent_Medium_value_payments  341.48923103222177         Good  \n",
       "\n",
       "[5 rows x 28 columns]"
      ]
     },
     "execution_count": 70,
     "metadata": {},
     "output_type": "execute_result"
    }
   ],
   "source": [
    "df_train.head()  # Display the first few rows of the training data"
   ]
  },
  {
   "cell_type": "code",
   "execution_count": 71,
   "id": "5354f136",
   "metadata": {},
   "outputs": [
    {
     "name": "stdout",
     "output_type": "stream",
     "text": [
      "<class 'pandas.core.frame.DataFrame'>\n",
      "RangeIndex: 100000 entries, 0 to 99999\n",
      "Data columns (total 28 columns):\n",
      " #   Column                    Non-Null Count   Dtype  \n",
      "---  ------                    --------------   -----  \n",
      " 0   ID                        100000 non-null  object \n",
      " 1   Customer_ID               100000 non-null  object \n",
      " 2   Month                     100000 non-null  object \n",
      " 3   Name                      90015 non-null   object \n",
      " 4   Age                       100000 non-null  object \n",
      " 5   SSN                       100000 non-null  object \n",
      " 6   Occupation                100000 non-null  object \n",
      " 7   Annual_Income             100000 non-null  object \n",
      " 8   Monthly_Inhand_Salary     84998 non-null   float64\n",
      " 9   Num_Bank_Accounts         100000 non-null  int64  \n",
      " 10  Num_Credit_Card           100000 non-null  int64  \n",
      " 11  Interest_Rate             100000 non-null  int64  \n",
      " 12  Num_of_Loan               100000 non-null  object \n",
      " 13  Type_of_Loan              88592 non-null   object \n",
      " 14  Delay_from_due_date       100000 non-null  int64  \n",
      " 15  Num_of_Delayed_Payment    92998 non-null   object \n",
      " 16  Changed_Credit_Limit      100000 non-null  object \n",
      " 17  Num_Credit_Inquiries      98035 non-null   float64\n",
      " 18  Credit_Mix                100000 non-null  object \n",
      " 19  Outstanding_Debt          100000 non-null  object \n",
      " 20  Credit_Utilization_Ratio  100000 non-null  float64\n",
      " 21  Credit_History_Age        90970 non-null   object \n",
      " 22  Payment_of_Min_Amount     100000 non-null  object \n",
      " 23  Total_EMI_per_month       100000 non-null  float64\n",
      " 24  Amount_invested_monthly   95521 non-null   object \n",
      " 25  Payment_Behaviour         100000 non-null  object \n",
      " 26  Monthly_Balance           98800 non-null   object \n",
      " 27  Credit_Score              100000 non-null  object \n",
      "dtypes: float64(4), int64(4), object(20)\n",
      "memory usage: 21.4+ MB\n"
     ]
    }
   ],
   "source": [
    "df_train.info()  # Display information about the training DataFrame"
   ]
  },
  {
   "cell_type": "code",
   "execution_count": 72,
   "id": "880a371c",
   "metadata": {},
   "outputs": [
    {
     "data": {
      "application/vnd.microsoft.datawrangler.viewer.v0+json": {
       "columns": [
        {
         "name": "index",
         "rawType": "object",
         "type": "string"
        },
        {
         "name": "0",
         "rawType": "int64",
         "type": "integer"
        }
       ],
       "ref": "749ea017-f4b2-496d-99b0-d9b52268c9b8",
       "rows": [
        [
         "Monthly_Inhand_Salary",
         "15002"
        ],
        [
         "Type_of_Loan",
         "11408"
        ],
        [
         "Name",
         "9985"
        ],
        [
         "Credit_History_Age",
         "9030"
        ],
        [
         "Num_of_Delayed_Payment",
         "7002"
        ],
        [
         "Amount_invested_monthly",
         "4479"
        ],
        [
         "Num_Credit_Inquiries",
         "1965"
        ],
        [
         "Monthly_Balance",
         "1200"
        ],
        [
         "ID",
         "0"
        ],
        [
         "Changed_Credit_Limit",
         "0"
        ],
        [
         "Payment_Behaviour",
         "0"
        ],
        [
         "Total_EMI_per_month",
         "0"
        ],
        [
         "Payment_of_Min_Amount",
         "0"
        ],
        [
         "Credit_Utilization_Ratio",
         "0"
        ],
        [
         "Outstanding_Debt",
         "0"
        ],
        [
         "Credit_Mix",
         "0"
        ],
        [
         "Delay_from_due_date",
         "0"
        ],
        [
         "Customer_ID",
         "0"
        ],
        [
         "Num_of_Loan",
         "0"
        ],
        [
         "Interest_Rate",
         "0"
        ],
        [
         "Num_Credit_Card",
         "0"
        ],
        [
         "Num_Bank_Accounts",
         "0"
        ],
        [
         "Annual_Income",
         "0"
        ],
        [
         "Occupation",
         "0"
        ],
        [
         "SSN",
         "0"
        ],
        [
         "Age",
         "0"
        ],
        [
         "Month",
         "0"
        ],
        [
         "Credit_Score",
         "0"
        ]
       ],
       "shape": {
        "columns": 1,
        "rows": 28
       }
      },
      "text/plain": [
       "Monthly_Inhand_Salary       15002\n",
       "Type_of_Loan                11408\n",
       "Name                         9985\n",
       "Credit_History_Age           9030\n",
       "Num_of_Delayed_Payment       7002\n",
       "Amount_invested_monthly      4479\n",
       "Num_Credit_Inquiries         1965\n",
       "Monthly_Balance              1200\n",
       "ID                              0\n",
       "Changed_Credit_Limit            0\n",
       "Payment_Behaviour               0\n",
       "Total_EMI_per_month             0\n",
       "Payment_of_Min_Amount           0\n",
       "Credit_Utilization_Ratio        0\n",
       "Outstanding_Debt                0\n",
       "Credit_Mix                      0\n",
       "Delay_from_due_date             0\n",
       "Customer_ID                     0\n",
       "Num_of_Loan                     0\n",
       "Interest_Rate                   0\n",
       "Num_Credit_Card                 0\n",
       "Num_Bank_Accounts               0\n",
       "Annual_Income                   0\n",
       "Occupation                      0\n",
       "SSN                             0\n",
       "Age                             0\n",
       "Month                           0\n",
       "Credit_Score                    0\n",
       "dtype: int64"
      ]
     },
     "execution_count": 72,
     "metadata": {},
     "output_type": "execute_result"
    }
   ],
   "source": [
    "df_train.isna().sum().sort_values(ascending=False)  # Check for missing values in the DataFrame"
   ]
  },
  {
   "cell_type": "code",
   "execution_count": 73,
   "id": "c432fdd5",
   "metadata": {},
   "outputs": [
    {
     "data": {
      "application/vnd.microsoft.datawrangler.viewer.v0+json": {
       "columns": [
        {
         "name": "index",
         "rawType": "object",
         "type": "string"
        },
        {
         "name": "Monthly_Inhand_Salary",
         "rawType": "float64",
         "type": "float"
        },
        {
         "name": "Num_Bank_Accounts",
         "rawType": "float64",
         "type": "float"
        },
        {
         "name": "Num_Credit_Card",
         "rawType": "float64",
         "type": "float"
        },
        {
         "name": "Interest_Rate",
         "rawType": "float64",
         "type": "float"
        },
        {
         "name": "Delay_from_due_date",
         "rawType": "float64",
         "type": "float"
        },
        {
         "name": "Num_Credit_Inquiries",
         "rawType": "float64",
         "type": "float"
        },
        {
         "name": "Credit_Utilization_Ratio",
         "rawType": "float64",
         "type": "float"
        },
        {
         "name": "Total_EMI_per_month",
         "rawType": "float64",
         "type": "float"
        }
       ],
       "ref": "9b359da5-4409-48fc-9e87-13284cfcf9f2",
       "rows": [
        [
         "count",
         "84998.0",
         "100000.0",
         "100000.0",
         "100000.0",
         "100000.0",
         "98035.0",
         "100000.0",
         "100000.0"
        ],
        [
         "mean",
         "4194.170849600523",
         "17.09128",
         "22.47443",
         "72.46604",
         "21.06878",
         "27.75425103279441",
         "32.2851725189436",
         "1403.1182166159933"
        ],
        [
         "std",
         "3183.6861668732963",
         "117.40483442734045",
         "129.05741011011912",
         "466.4226212217413",
         "14.860104223677403",
         "193.17733898001126",
         "5.116875070150902",
         "8306.041270321295"
        ],
        [
         "min",
         "303.6454166666666",
         "-1.0",
         "0.0",
         "1.0",
         "-5.0",
         "0.0",
         "20.0",
         "0.0"
        ],
        [
         "25%",
         "1625.5682291666667",
         "3.0",
         "4.0",
         "8.0",
         "10.0",
         "3.0",
         "28.05256656125577",
         "30.306660494686994"
        ],
        [
         "50%",
         "3093.745000000001",
         "6.0",
         "5.0",
         "13.0",
         "18.0",
         "6.0",
         "32.30578367171092",
         "69.24947329972044"
        ],
        [
         "75%",
         "5957.448333333334",
         "7.0",
         "7.0",
         "20.0",
         "28.0",
         "9.0",
         "36.4966630559621",
         "161.22424910969863"
        ],
        [
         "max",
         "15204.633333333331",
         "1798.0",
         "1499.0",
         "5797.0",
         "67.0",
         "2597.0",
         "50.00000000000001",
         "82331.0"
        ]
       ],
       "shape": {
        "columns": 8,
        "rows": 8
       }
      },
      "text/html": [
       "<div>\n",
       "<style scoped>\n",
       "    .dataframe tbody tr th:only-of-type {\n",
       "        vertical-align: middle;\n",
       "    }\n",
       "\n",
       "    .dataframe tbody tr th {\n",
       "        vertical-align: top;\n",
       "    }\n",
       "\n",
       "    .dataframe thead th {\n",
       "        text-align: right;\n",
       "    }\n",
       "</style>\n",
       "<table border=\"1\" class=\"dataframe\">\n",
       "  <thead>\n",
       "    <tr style=\"text-align: right;\">\n",
       "      <th></th>\n",
       "      <th>Monthly_Inhand_Salary</th>\n",
       "      <th>Num_Bank_Accounts</th>\n",
       "      <th>Num_Credit_Card</th>\n",
       "      <th>Interest_Rate</th>\n",
       "      <th>Delay_from_due_date</th>\n",
       "      <th>Num_Credit_Inquiries</th>\n",
       "      <th>Credit_Utilization_Ratio</th>\n",
       "      <th>Total_EMI_per_month</th>\n",
       "    </tr>\n",
       "  </thead>\n",
       "  <tbody>\n",
       "    <tr>\n",
       "      <th>count</th>\n",
       "      <td>84998.000000</td>\n",
       "      <td>100000.000000</td>\n",
       "      <td>100000.00000</td>\n",
       "      <td>100000.000000</td>\n",
       "      <td>100000.000000</td>\n",
       "      <td>98035.000000</td>\n",
       "      <td>100000.000000</td>\n",
       "      <td>100000.000000</td>\n",
       "    </tr>\n",
       "    <tr>\n",
       "      <th>mean</th>\n",
       "      <td>4194.170850</td>\n",
       "      <td>17.091280</td>\n",
       "      <td>22.47443</td>\n",
       "      <td>72.466040</td>\n",
       "      <td>21.068780</td>\n",
       "      <td>27.754251</td>\n",
       "      <td>32.285173</td>\n",
       "      <td>1403.118217</td>\n",
       "    </tr>\n",
       "    <tr>\n",
       "      <th>std</th>\n",
       "      <td>3183.686167</td>\n",
       "      <td>117.404834</td>\n",
       "      <td>129.05741</td>\n",
       "      <td>466.422621</td>\n",
       "      <td>14.860104</td>\n",
       "      <td>193.177339</td>\n",
       "      <td>5.116875</td>\n",
       "      <td>8306.041270</td>\n",
       "    </tr>\n",
       "    <tr>\n",
       "      <th>min</th>\n",
       "      <td>303.645417</td>\n",
       "      <td>-1.000000</td>\n",
       "      <td>0.00000</td>\n",
       "      <td>1.000000</td>\n",
       "      <td>-5.000000</td>\n",
       "      <td>0.000000</td>\n",
       "      <td>20.000000</td>\n",
       "      <td>0.000000</td>\n",
       "    </tr>\n",
       "    <tr>\n",
       "      <th>25%</th>\n",
       "      <td>1625.568229</td>\n",
       "      <td>3.000000</td>\n",
       "      <td>4.00000</td>\n",
       "      <td>8.000000</td>\n",
       "      <td>10.000000</td>\n",
       "      <td>3.000000</td>\n",
       "      <td>28.052567</td>\n",
       "      <td>30.306660</td>\n",
       "    </tr>\n",
       "    <tr>\n",
       "      <th>50%</th>\n",
       "      <td>3093.745000</td>\n",
       "      <td>6.000000</td>\n",
       "      <td>5.00000</td>\n",
       "      <td>13.000000</td>\n",
       "      <td>18.000000</td>\n",
       "      <td>6.000000</td>\n",
       "      <td>32.305784</td>\n",
       "      <td>69.249473</td>\n",
       "    </tr>\n",
       "    <tr>\n",
       "      <th>75%</th>\n",
       "      <td>5957.448333</td>\n",
       "      <td>7.000000</td>\n",
       "      <td>7.00000</td>\n",
       "      <td>20.000000</td>\n",
       "      <td>28.000000</td>\n",
       "      <td>9.000000</td>\n",
       "      <td>36.496663</td>\n",
       "      <td>161.224249</td>\n",
       "    </tr>\n",
       "    <tr>\n",
       "      <th>max</th>\n",
       "      <td>15204.633333</td>\n",
       "      <td>1798.000000</td>\n",
       "      <td>1499.00000</td>\n",
       "      <td>5797.000000</td>\n",
       "      <td>67.000000</td>\n",
       "      <td>2597.000000</td>\n",
       "      <td>50.000000</td>\n",
       "      <td>82331.000000</td>\n",
       "    </tr>\n",
       "  </tbody>\n",
       "</table>\n",
       "</div>"
      ],
      "text/plain": [
       "       Monthly_Inhand_Salary  Num_Bank_Accounts  Num_Credit_Card  \\\n",
       "count           84998.000000      100000.000000     100000.00000   \n",
       "mean             4194.170850          17.091280         22.47443   \n",
       "std              3183.686167         117.404834        129.05741   \n",
       "min               303.645417          -1.000000          0.00000   \n",
       "25%              1625.568229           3.000000          4.00000   \n",
       "50%              3093.745000           6.000000          5.00000   \n",
       "75%              5957.448333           7.000000          7.00000   \n",
       "max             15204.633333        1798.000000       1499.00000   \n",
       "\n",
       "       Interest_Rate  Delay_from_due_date  Num_Credit_Inquiries  \\\n",
       "count  100000.000000        100000.000000          98035.000000   \n",
       "mean       72.466040            21.068780             27.754251   \n",
       "std       466.422621            14.860104            193.177339   \n",
       "min         1.000000            -5.000000              0.000000   \n",
       "25%         8.000000            10.000000              3.000000   \n",
       "50%        13.000000            18.000000              6.000000   \n",
       "75%        20.000000            28.000000              9.000000   \n",
       "max      5797.000000            67.000000           2597.000000   \n",
       "\n",
       "       Credit_Utilization_Ratio  Total_EMI_per_month  \n",
       "count             100000.000000        100000.000000  \n",
       "mean                  32.285173          1403.118217  \n",
       "std                    5.116875          8306.041270  \n",
       "min                   20.000000             0.000000  \n",
       "25%                   28.052567            30.306660  \n",
       "50%                   32.305784            69.249473  \n",
       "75%                   36.496663           161.224249  \n",
       "max                   50.000000         82331.000000  "
      ]
     },
     "execution_count": 73,
     "metadata": {},
     "output_type": "execute_result"
    }
   ],
   "source": [
    "df_train.describe()  # Get descriptive statistics for the testing DataFrame"
   ]
  },
  {
   "cell_type": "code",
   "execution_count": 74,
   "id": "16e572a7",
   "metadata": {},
   "outputs": [
    {
     "data": {
      "text/plain": [
       "0"
      ]
     },
     "execution_count": 74,
     "metadata": {},
     "output_type": "execute_result"
    }
   ],
   "source": [
    " # Check for duplicate rows in the DataFrame\n",
    "df_train.duplicated().sum().sum()  # Count the number of duplicate rows\n",
    "# Because ID changes"
   ]
  },
  {
   "cell_type": "code",
   "execution_count": 75,
   "id": "3325a5f4",
   "metadata": {},
   "outputs": [
    {
     "data": {
      "text/plain": [
       "0"
      ]
     },
     "execution_count": 75,
     "metadata": {},
     "output_type": "execute_result"
    }
   ],
   "source": [
    "df_train['Customer_ID'].isna().sum()  # Check for missing values in 'Customer_ID' column of training data"
   ]
  },
  {
   "cell_type": "code",
   "execution_count": 76,
   "id": "d3547f66",
   "metadata": {},
   "outputs": [
    {
     "name": "stdout",
     "output_type": "stream",
     "text": [
      "100000\n"
     ]
    }
   ],
   "source": [
    "# Count occurrences\n",
    "counts = df_train['Customer_ID'].value_counts()\n",
    "\n",
    "# Check how many Customer_IDs appear exactly 8 times\n",
    "not_8 = counts[counts == 8].sum()\n",
    "print(not_8) # The total is 100000 so all Customer_IDs should appear exactly 8 times in the training data  "
   ]
  },
  {
   "cell_type": "code",
   "execution_count": 77,
   "id": "a52d7b41",
   "metadata": {},
   "outputs": [],
   "source": [
    "# The columns to drop are not present in df_train after the groupby operation, so this line is not needed.\n",
    "df_train.drop(['ID','Name','SSN','Num_Bank_Accounts','Num_Credit_Card','Type_of_Loan'], axis = 1,inplace=True)"
   ]
  },
  {
   "cell_type": "code",
   "execution_count": 78,
   "id": "6f9fd71f",
   "metadata": {},
   "outputs": [
    {
     "name": "stdout",
     "output_type": "stream",
     "text": [
      "<class 'pandas.core.frame.DataFrame'>\n",
      "RangeIndex: 100000 entries, 0 to 99999\n",
      "Data columns (total 22 columns):\n",
      " #   Column                    Non-Null Count   Dtype  \n",
      "---  ------                    --------------   -----  \n",
      " 0   Customer_ID               100000 non-null  object \n",
      " 1   Month                     100000 non-null  object \n",
      " 2   Age                       100000 non-null  object \n",
      " 3   Occupation                100000 non-null  object \n",
      " 4   Annual_Income             100000 non-null  object \n",
      " 5   Monthly_Inhand_Salary     84998 non-null   float64\n",
      " 6   Interest_Rate             100000 non-null  int64  \n",
      " 7   Num_of_Loan               100000 non-null  object \n",
      " 8   Delay_from_due_date       100000 non-null  int64  \n",
      " 9   Num_of_Delayed_Payment    92998 non-null   object \n",
      " 10  Changed_Credit_Limit      100000 non-null  object \n",
      " 11  Num_Credit_Inquiries      98035 non-null   float64\n",
      " 12  Credit_Mix                100000 non-null  object \n",
      " 13  Outstanding_Debt          100000 non-null  object \n",
      " 14  Credit_Utilization_Ratio  100000 non-null  float64\n",
      " 15  Credit_History_Age        90970 non-null   object \n",
      " 16  Payment_of_Min_Amount     100000 non-null  object \n",
      " 17  Total_EMI_per_month       100000 non-null  float64\n",
      " 18  Amount_invested_monthly   95521 non-null   object \n",
      " 19  Payment_Behaviour         100000 non-null  object \n",
      " 20  Monthly_Balance           98800 non-null   object \n",
      " 21  Credit_Score              100000 non-null  object \n",
      "dtypes: float64(4), int64(2), object(16)\n",
      "memory usage: 16.8+ MB\n"
     ]
    }
   ],
   "source": [
    "df_train.info()  # Display information about the modified training DataFrame"
   ]
  },
  {
   "cell_type": "code",
   "execution_count": 79,
   "id": "84f71598",
   "metadata": {},
   "outputs": [],
   "source": [
    "def clean_text(text):\n",
    "    text = re.sub(r'\\d+', '', text)  # remove digits\n",
    "    text = text.translate(str.maketrans('', '', string.punctuation.replace('_', '')))  # remove punctuation except _\n",
    "    text = re.sub(r'[^\\w_]', '', text)  # remove all whitespace & special chars except _\n",
    "    return text if text else np.nan "
   ]
  },
  {
   "cell_type": "code",
   "execution_count": 80,
   "id": "19b7d9bd",
   "metadata": {},
   "outputs": [],
   "source": [
    "def clean_text_for_numbers(text):\n",
    "    # Keep only digits and dots\n",
    "    cleaned = re.sub(r'[^\\d.]', '', text)\n",
    "    # Optional: Fix multiple dots (e.g., \"12..3\" → \"12.3\")\n",
    "    cleaned = re.sub(r'\\.{2,}', '.', cleaned)\n",
    "    # If nothing valid remains, return NaN\n",
    "    return cleaned if cleaned else np.nan"
   ]
  },
  {
   "cell_type": "code",
   "execution_count": 81,
   "id": "a264b34d",
   "metadata": {},
   "outputs": [],
   "source": [
    "set_of_static=['Age', 'Occupation', 'Annual_Income', 'Monthly_Inhand_Salary', 'Interest_Rate', 'Num_of_Loan', 'Num_Credit_Inquiries', 'Credit_Mix', 'Outstanding_Debt']"
   ]
  },
  {
   "cell_type": "code",
   "execution_count": 82,
   "id": "91183c87",
   "metadata": {},
   "outputs": [],
   "source": [
    "set_of_text=['Customer_ID','Month','Occupation','Credit_Mix','Payment_Behaviour','Credit_Score','Payment_of_Min_Amount']"
   ]
  },
  {
   "cell_type": "code",
   "execution_count": 83,
   "id": "e43df433",
   "metadata": {},
   "outputs": [],
   "source": [
    "for col in set_of_text:\n",
    "    if col not in ['Customer_ID']:\n",
    "        df_train[col] = df_train[col].apply(lambda x: clean_text(str(x)))"
   ]
  },
  {
   "cell_type": "code",
   "execution_count": 84,
   "id": "b73cf6d0",
   "metadata": {},
   "outputs": [],
   "source": [
    "for col in df_train.columns:\n",
    "    if col not in set_of_text  and col not in ['Credit_History_Age']:\n",
    "        # Clean text for numbers\n",
    "        df_train[col] = df_train[col].apply(lambda x: clean_text_for_numbers(str(x)))\n",
    "        # Convert to numeric, set errors='coerce' to turn invalid values into NaN\n",
    "        df_train[col] = pd.to_numeric(df_train[col], errors='coerce')\n",
    "        # Set negative values to NaN\n",
    "        df_train[col] = df_train[col].where(df_train[col] >= 0, df_train[col].abs())"
   ]
  },
  {
   "cell_type": "code",
   "execution_count": 85,
   "id": "75e028db",
   "metadata": {},
   "outputs": [],
   "source": [
    "df_train.replace('nan', np.nan, inplace=True)  # Replace empty (nan) strings with NaN\n",
    "df_train.replace('NM', 'No', inplace=True)  # Replace 'NM' with 'No'"
   ]
  },
  {
   "cell_type": "code",
   "execution_count": 86,
   "id": "b615d5ab",
   "metadata": {},
   "outputs": [],
   "source": [
    "for col in set_of_static :\n",
    "    mode_per_customer = df_train.groupby('Customer_ID')[col].agg(lambda x: x.mode().iloc[0] if not x.mode().empty else x.median())\n",
    "    df_train[col] = df_train['Customer_ID'].map(mode_per_customer)\n"
   ]
  },
  {
   "cell_type": "code",
   "execution_count": 87,
   "id": "24cf2ce0",
   "metadata": {},
   "outputs": [],
   "source": [
    "for col in df_train.columns:\n",
    "        # Get the most frequent value per Customer_ID (first mode)\n",
    "        mode_per_customer = df_train.groupby('Customer_ID')[col].agg(lambda x: x.mode().iloc[0] if not x.mode().empty else x.median())\n",
    "        # Fill missing values with the corresponding customer's mode\n",
    "        df_train[col] = df_train[col].fillna(df_train['Customer_ID'].map(mode_per_customer))"
   ]
  },
  {
   "cell_type": "code",
   "execution_count": 88,
   "id": "b7702490",
   "metadata": {},
   "outputs": [
    {
     "data": {
      "application/vnd.microsoft.datawrangler.viewer.v0+json": {
       "columns": [
        {
         "name": "index",
         "rawType": "object",
         "type": "string"
        },
        {
         "name": "0",
         "rawType": "int64",
         "type": "integer"
        }
       ],
       "ref": "13743f2b-edad-482c-a52a-671eaeadd3fb",
       "rows": [
        [
         "Customer_ID",
         "0"
        ],
        [
         "Month",
         "0"
        ],
        [
         "Monthly_Balance",
         "0"
        ],
        [
         "Payment_Behaviour",
         "0"
        ],
        [
         "Amount_invested_monthly",
         "0"
        ],
        [
         "Total_EMI_per_month",
         "0"
        ],
        [
         "Payment_of_Min_Amount",
         "0"
        ],
        [
         "Credit_History_Age",
         "0"
        ],
        [
         "Credit_Utilization_Ratio",
         "0"
        ],
        [
         "Outstanding_Debt",
         "0"
        ],
        [
         "Credit_Mix",
         "0"
        ],
        [
         "Num_Credit_Inquiries",
         "0"
        ],
        [
         "Changed_Credit_Limit",
         "0"
        ],
        [
         "Num_of_Delayed_Payment",
         "0"
        ],
        [
         "Delay_from_due_date",
         "0"
        ],
        [
         "Num_of_Loan",
         "0"
        ],
        [
         "Interest_Rate",
         "0"
        ],
        [
         "Monthly_Inhand_Salary",
         "0"
        ],
        [
         "Annual_Income",
         "0"
        ],
        [
         "Occupation",
         "0"
        ],
        [
         "Age",
         "0"
        ],
        [
         "Credit_Score",
         "0"
        ]
       ],
       "shape": {
        "columns": 1,
        "rows": 22
       }
      },
      "text/plain": [
       "Customer_ID                 0\n",
       "Month                       0\n",
       "Monthly_Balance             0\n",
       "Payment_Behaviour           0\n",
       "Amount_invested_monthly     0\n",
       "Total_EMI_per_month         0\n",
       "Payment_of_Min_Amount       0\n",
       "Credit_History_Age          0\n",
       "Credit_Utilization_Ratio    0\n",
       "Outstanding_Debt            0\n",
       "Credit_Mix                  0\n",
       "Num_Credit_Inquiries        0\n",
       "Changed_Credit_Limit        0\n",
       "Num_of_Delayed_Payment      0\n",
       "Delay_from_due_date         0\n",
       "Num_of_Loan                 0\n",
       "Interest_Rate               0\n",
       "Monthly_Inhand_Salary       0\n",
       "Annual_Income               0\n",
       "Occupation                  0\n",
       "Age                         0\n",
       "Credit_Score                0\n",
       "dtype: int64"
      ]
     },
     "execution_count": 88,
     "metadata": {},
     "output_type": "execute_result"
    }
   ],
   "source": [
    "df_train.isnull().sum().sort_values(ascending=False)  # Check for NULL values in the dataset"
   ]
  },
  {
   "cell_type": "code",
   "execution_count": 89,
   "id": "9eccdbce",
   "metadata": {},
   "outputs": [
    {
     "data": {
      "application/vnd.microsoft.datawrangler.viewer.v0+json": {
       "columns": [
        {
         "name": "index",
         "rawType": "int64",
         "type": "integer"
        },
        {
         "name": "Customer_ID",
         "rawType": "object",
         "type": "string"
        },
        {
         "name": "Month",
         "rawType": "object",
         "type": "string"
        },
        {
         "name": "Age",
         "rawType": "int64",
         "type": "integer"
        },
        {
         "name": "Occupation",
         "rawType": "object",
         "type": "string"
        },
        {
         "name": "Annual_Income",
         "rawType": "float64",
         "type": "float"
        },
        {
         "name": "Monthly_Inhand_Salary",
         "rawType": "float64",
         "type": "float"
        },
        {
         "name": "Interest_Rate",
         "rawType": "int64",
         "type": "integer"
        },
        {
         "name": "Num_of_Loan",
         "rawType": "int64",
         "type": "integer"
        },
        {
         "name": "Delay_from_due_date",
         "rawType": "int64",
         "type": "integer"
        },
        {
         "name": "Num_of_Delayed_Payment",
         "rawType": "float64",
         "type": "float"
        },
        {
         "name": "Changed_Credit_Limit",
         "rawType": "float64",
         "type": "float"
        },
        {
         "name": "Num_Credit_Inquiries",
         "rawType": "float64",
         "type": "float"
        },
        {
         "name": "Credit_Mix",
         "rawType": "object",
         "type": "string"
        },
        {
         "name": "Outstanding_Debt",
         "rawType": "float64",
         "type": "float"
        },
        {
         "name": "Credit_Utilization_Ratio",
         "rawType": "float64",
         "type": "float"
        },
        {
         "name": "Credit_History_Age",
         "rawType": "object",
         "type": "string"
        },
        {
         "name": "Payment_of_Min_Amount",
         "rawType": "object",
         "type": "string"
        },
        {
         "name": "Total_EMI_per_month",
         "rawType": "float64",
         "type": "float"
        },
        {
         "name": "Amount_invested_monthly",
         "rawType": "float64",
         "type": "float"
        },
        {
         "name": "Payment_Behaviour",
         "rawType": "object",
         "type": "string"
        },
        {
         "name": "Monthly_Balance",
         "rawType": "float64",
         "type": "float"
        },
        {
         "name": "Credit_Score",
         "rawType": "object",
         "type": "string"
        }
       ],
       "ref": "bf181103-f2a6-46b1-9c54-14889db396aa",
       "rows": [
        [
         "0",
         "CUS_0xd40",
         "January",
         "23",
         "Scientist",
         "19114.12",
         "1824.8433333333328",
         "3",
         "4",
         "3",
         "7.0",
         "11.27",
         "4.0",
         "Good",
         "809.98",
         "26.822619623699016",
         "22 Years and 1 Months",
         "No",
         "49.57494921489417",
         "80.41529543900253",
         "High_spent_Small_value_payments",
         "312.49408867943663",
         "Good"
        ],
        [
         "1",
         "CUS_0xd40",
         "February",
         "23",
         "Scientist",
         "19114.12",
         "1824.8433333333328",
         "3",
         "4",
         "1",
         "4.0",
         "11.27",
         "4.0",
         "Good",
         "809.98",
         "31.94496005538421",
         "22 Years and 1 Months",
         "No",
         "49.57494921489417",
         "118.28022162236736",
         "Low_spent_Large_value_payments",
         "284.62916249607184",
         "Good"
        ],
        [
         "2",
         "CUS_0xd40",
         "March",
         "23",
         "Scientist",
         "19114.12",
         "1824.8433333333328",
         "3",
         "4",
         "3",
         "7.0",
         "11.27",
         "4.0",
         "Good",
         "809.98",
         "28.60935202206993",
         "22 Years and 3 Months",
         "No",
         "49.57494921489417",
         "81.699521264648",
         "Low_spent_Medium_value_payments",
         "331.2098628537912",
         "Good"
        ],
        [
         "3",
         "CUS_0xd40",
         "April",
         "23",
         "Scientist",
         "19114.12",
         "1824.8433333333328",
         "3",
         "4",
         "5",
         "4.0",
         "6.27",
         "4.0",
         "Good",
         "809.98",
         "31.37786186958236",
         "22 Years and 4 Months",
         "No",
         "49.57494921489417",
         "199.4580743910713",
         "Low_spent_Small_value_payments",
         "223.45130972736783",
         "Good"
        ],
        [
         "4",
         "CUS_0xd40",
         "May",
         "23",
         "Scientist",
         "19114.12",
         "1824.8433333333328",
         "3",
         "4",
         "6",
         "4.0",
         "11.27",
         "4.0",
         "Good",
         "809.98",
         "24.797346908844982",
         "22 Years and 5 Months",
         "No",
         "49.57494921489417",
         "41.420153086217326",
         "High_spent_Medium_value_payments",
         "341.48923103222177",
         "Good"
        ],
        [
         "5",
         "CUS_0xd40",
         "June",
         "23",
         "Scientist",
         "19114.12",
         "1824.8433333333328",
         "3",
         "4",
         "8",
         "4.0",
         "9.27",
         "4.0",
         "Good",
         "809.98",
         "27.26225871052017",
         "22 Years and 6 Months",
         "No",
         "49.57494921489417",
         "62.430172331195294",
         "High_spent_Medium_value_payments",
         "340.4792117872438",
         "Good"
        ],
        [
         "6",
         "CUS_0xd40",
         "July",
         "23",
         "Scientist",
         "19114.12",
         "1824.8433333333328",
         "3",
         "4",
         "3",
         "8.0",
         "11.27",
         "4.0",
         "Good",
         "809.98",
         "22.53759303178384",
         "22 Years and 7 Months",
         "No",
         "49.57494921489417",
         "178.3440674122349",
         "Low_spent_Small_value_payments",
         "244.5653167062043",
         "Good"
        ],
        [
         "7",
         "CUS_0xd40",
         "August",
         "23",
         "Scientist",
         "19114.12",
         "1824.8433333333328",
         "3",
         "4",
         "3",
         "6.0",
         "11.27",
         "4.0",
         "Good",
         "809.98",
         "23.93379480196552",
         "22 Years and 1 Months",
         "No",
         "49.57494921489417",
         "24.785216509052056",
         "High_spent_Medium_value_payments",
         "358.12416760938714",
         "Standard"
        ]
       ],
       "shape": {
        "columns": 22,
        "rows": 8
       }
      },
      "text/html": [
       "<div>\n",
       "<style scoped>\n",
       "    .dataframe tbody tr th:only-of-type {\n",
       "        vertical-align: middle;\n",
       "    }\n",
       "\n",
       "    .dataframe tbody tr th {\n",
       "        vertical-align: top;\n",
       "    }\n",
       "\n",
       "    .dataframe thead th {\n",
       "        text-align: right;\n",
       "    }\n",
       "</style>\n",
       "<table border=\"1\" class=\"dataframe\">\n",
       "  <thead>\n",
       "    <tr style=\"text-align: right;\">\n",
       "      <th></th>\n",
       "      <th>Customer_ID</th>\n",
       "      <th>Month</th>\n",
       "      <th>Age</th>\n",
       "      <th>Occupation</th>\n",
       "      <th>Annual_Income</th>\n",
       "      <th>Monthly_Inhand_Salary</th>\n",
       "      <th>Interest_Rate</th>\n",
       "      <th>Num_of_Loan</th>\n",
       "      <th>Delay_from_due_date</th>\n",
       "      <th>Num_of_Delayed_Payment</th>\n",
       "      <th>...</th>\n",
       "      <th>Credit_Mix</th>\n",
       "      <th>Outstanding_Debt</th>\n",
       "      <th>Credit_Utilization_Ratio</th>\n",
       "      <th>Credit_History_Age</th>\n",
       "      <th>Payment_of_Min_Amount</th>\n",
       "      <th>Total_EMI_per_month</th>\n",
       "      <th>Amount_invested_monthly</th>\n",
       "      <th>Payment_Behaviour</th>\n",
       "      <th>Monthly_Balance</th>\n",
       "      <th>Credit_Score</th>\n",
       "    </tr>\n",
       "  </thead>\n",
       "  <tbody>\n",
       "    <tr>\n",
       "      <th>0</th>\n",
       "      <td>CUS_0xd40</td>\n",
       "      <td>January</td>\n",
       "      <td>23</td>\n",
       "      <td>Scientist</td>\n",
       "      <td>19114.12</td>\n",
       "      <td>1824.843333</td>\n",
       "      <td>3</td>\n",
       "      <td>4</td>\n",
       "      <td>3</td>\n",
       "      <td>7.0</td>\n",
       "      <td>...</td>\n",
       "      <td>Good</td>\n",
       "      <td>809.98</td>\n",
       "      <td>26.822620</td>\n",
       "      <td>22 Years and 1 Months</td>\n",
       "      <td>No</td>\n",
       "      <td>49.574949</td>\n",
       "      <td>80.415295</td>\n",
       "      <td>High_spent_Small_value_payments</td>\n",
       "      <td>312.494089</td>\n",
       "      <td>Good</td>\n",
       "    </tr>\n",
       "    <tr>\n",
       "      <th>1</th>\n",
       "      <td>CUS_0xd40</td>\n",
       "      <td>February</td>\n",
       "      <td>23</td>\n",
       "      <td>Scientist</td>\n",
       "      <td>19114.12</td>\n",
       "      <td>1824.843333</td>\n",
       "      <td>3</td>\n",
       "      <td>4</td>\n",
       "      <td>1</td>\n",
       "      <td>4.0</td>\n",
       "      <td>...</td>\n",
       "      <td>Good</td>\n",
       "      <td>809.98</td>\n",
       "      <td>31.944960</td>\n",
       "      <td>22 Years and 1 Months</td>\n",
       "      <td>No</td>\n",
       "      <td>49.574949</td>\n",
       "      <td>118.280222</td>\n",
       "      <td>Low_spent_Large_value_payments</td>\n",
       "      <td>284.629162</td>\n",
       "      <td>Good</td>\n",
       "    </tr>\n",
       "    <tr>\n",
       "      <th>2</th>\n",
       "      <td>CUS_0xd40</td>\n",
       "      <td>March</td>\n",
       "      <td>23</td>\n",
       "      <td>Scientist</td>\n",
       "      <td>19114.12</td>\n",
       "      <td>1824.843333</td>\n",
       "      <td>3</td>\n",
       "      <td>4</td>\n",
       "      <td>3</td>\n",
       "      <td>7.0</td>\n",
       "      <td>...</td>\n",
       "      <td>Good</td>\n",
       "      <td>809.98</td>\n",
       "      <td>28.609352</td>\n",
       "      <td>22 Years and 3 Months</td>\n",
       "      <td>No</td>\n",
       "      <td>49.574949</td>\n",
       "      <td>81.699521</td>\n",
       "      <td>Low_spent_Medium_value_payments</td>\n",
       "      <td>331.209863</td>\n",
       "      <td>Good</td>\n",
       "    </tr>\n",
       "    <tr>\n",
       "      <th>3</th>\n",
       "      <td>CUS_0xd40</td>\n",
       "      <td>April</td>\n",
       "      <td>23</td>\n",
       "      <td>Scientist</td>\n",
       "      <td>19114.12</td>\n",
       "      <td>1824.843333</td>\n",
       "      <td>3</td>\n",
       "      <td>4</td>\n",
       "      <td>5</td>\n",
       "      <td>4.0</td>\n",
       "      <td>...</td>\n",
       "      <td>Good</td>\n",
       "      <td>809.98</td>\n",
       "      <td>31.377862</td>\n",
       "      <td>22 Years and 4 Months</td>\n",
       "      <td>No</td>\n",
       "      <td>49.574949</td>\n",
       "      <td>199.458074</td>\n",
       "      <td>Low_spent_Small_value_payments</td>\n",
       "      <td>223.451310</td>\n",
       "      <td>Good</td>\n",
       "    </tr>\n",
       "    <tr>\n",
       "      <th>4</th>\n",
       "      <td>CUS_0xd40</td>\n",
       "      <td>May</td>\n",
       "      <td>23</td>\n",
       "      <td>Scientist</td>\n",
       "      <td>19114.12</td>\n",
       "      <td>1824.843333</td>\n",
       "      <td>3</td>\n",
       "      <td>4</td>\n",
       "      <td>6</td>\n",
       "      <td>4.0</td>\n",
       "      <td>...</td>\n",
       "      <td>Good</td>\n",
       "      <td>809.98</td>\n",
       "      <td>24.797347</td>\n",
       "      <td>22 Years and 5 Months</td>\n",
       "      <td>No</td>\n",
       "      <td>49.574949</td>\n",
       "      <td>41.420153</td>\n",
       "      <td>High_spent_Medium_value_payments</td>\n",
       "      <td>341.489231</td>\n",
       "      <td>Good</td>\n",
       "    </tr>\n",
       "    <tr>\n",
       "      <th>5</th>\n",
       "      <td>CUS_0xd40</td>\n",
       "      <td>June</td>\n",
       "      <td>23</td>\n",
       "      <td>Scientist</td>\n",
       "      <td>19114.12</td>\n",
       "      <td>1824.843333</td>\n",
       "      <td>3</td>\n",
       "      <td>4</td>\n",
       "      <td>8</td>\n",
       "      <td>4.0</td>\n",
       "      <td>...</td>\n",
       "      <td>Good</td>\n",
       "      <td>809.98</td>\n",
       "      <td>27.262259</td>\n",
       "      <td>22 Years and 6 Months</td>\n",
       "      <td>No</td>\n",
       "      <td>49.574949</td>\n",
       "      <td>62.430172</td>\n",
       "      <td>High_spent_Medium_value_payments</td>\n",
       "      <td>340.479212</td>\n",
       "      <td>Good</td>\n",
       "    </tr>\n",
       "    <tr>\n",
       "      <th>6</th>\n",
       "      <td>CUS_0xd40</td>\n",
       "      <td>July</td>\n",
       "      <td>23</td>\n",
       "      <td>Scientist</td>\n",
       "      <td>19114.12</td>\n",
       "      <td>1824.843333</td>\n",
       "      <td>3</td>\n",
       "      <td>4</td>\n",
       "      <td>3</td>\n",
       "      <td>8.0</td>\n",
       "      <td>...</td>\n",
       "      <td>Good</td>\n",
       "      <td>809.98</td>\n",
       "      <td>22.537593</td>\n",
       "      <td>22 Years and 7 Months</td>\n",
       "      <td>No</td>\n",
       "      <td>49.574949</td>\n",
       "      <td>178.344067</td>\n",
       "      <td>Low_spent_Small_value_payments</td>\n",
       "      <td>244.565317</td>\n",
       "      <td>Good</td>\n",
       "    </tr>\n",
       "    <tr>\n",
       "      <th>7</th>\n",
       "      <td>CUS_0xd40</td>\n",
       "      <td>August</td>\n",
       "      <td>23</td>\n",
       "      <td>Scientist</td>\n",
       "      <td>19114.12</td>\n",
       "      <td>1824.843333</td>\n",
       "      <td>3</td>\n",
       "      <td>4</td>\n",
       "      <td>3</td>\n",
       "      <td>6.0</td>\n",
       "      <td>...</td>\n",
       "      <td>Good</td>\n",
       "      <td>809.98</td>\n",
       "      <td>23.933795</td>\n",
       "      <td>22 Years and 1 Months</td>\n",
       "      <td>No</td>\n",
       "      <td>49.574949</td>\n",
       "      <td>24.785217</td>\n",
       "      <td>High_spent_Medium_value_payments</td>\n",
       "      <td>358.124168</td>\n",
       "      <td>Standard</td>\n",
       "    </tr>\n",
       "  </tbody>\n",
       "</table>\n",
       "<p>8 rows × 22 columns</p>\n",
       "</div>"
      ],
      "text/plain": [
       "  Customer_ID     Month  Age Occupation  Annual_Income  Monthly_Inhand_Salary  \\\n",
       "0   CUS_0xd40   January   23  Scientist       19114.12            1824.843333   \n",
       "1   CUS_0xd40  February   23  Scientist       19114.12            1824.843333   \n",
       "2   CUS_0xd40     March   23  Scientist       19114.12            1824.843333   \n",
       "3   CUS_0xd40     April   23  Scientist       19114.12            1824.843333   \n",
       "4   CUS_0xd40       May   23  Scientist       19114.12            1824.843333   \n",
       "5   CUS_0xd40      June   23  Scientist       19114.12            1824.843333   \n",
       "6   CUS_0xd40      July   23  Scientist       19114.12            1824.843333   \n",
       "7   CUS_0xd40    August   23  Scientist       19114.12            1824.843333   \n",
       "\n",
       "   Interest_Rate  Num_of_Loan  Delay_from_due_date  Num_of_Delayed_Payment  \\\n",
       "0              3            4                    3                     7.0   \n",
       "1              3            4                    1                     4.0   \n",
       "2              3            4                    3                     7.0   \n",
       "3              3            4                    5                     4.0   \n",
       "4              3            4                    6                     4.0   \n",
       "5              3            4                    8                     4.0   \n",
       "6              3            4                    3                     8.0   \n",
       "7              3            4                    3                     6.0   \n",
       "\n",
       "   ...  Credit_Mix  Outstanding_Debt Credit_Utilization_Ratio  \\\n",
       "0  ...        Good            809.98                26.822620   \n",
       "1  ...        Good            809.98                31.944960   \n",
       "2  ...        Good            809.98                28.609352   \n",
       "3  ...        Good            809.98                31.377862   \n",
       "4  ...        Good            809.98                24.797347   \n",
       "5  ...        Good            809.98                27.262259   \n",
       "6  ...        Good            809.98                22.537593   \n",
       "7  ...        Good            809.98                23.933795   \n",
       "\n",
       "      Credit_History_Age  Payment_of_Min_Amount Total_EMI_per_month  \\\n",
       "0  22 Years and 1 Months                     No           49.574949   \n",
       "1  22 Years and 1 Months                     No           49.574949   \n",
       "2  22 Years and 3 Months                     No           49.574949   \n",
       "3  22 Years and 4 Months                     No           49.574949   \n",
       "4  22 Years and 5 Months                     No           49.574949   \n",
       "5  22 Years and 6 Months                     No           49.574949   \n",
       "6  22 Years and 7 Months                     No           49.574949   \n",
       "7  22 Years and 1 Months                     No           49.574949   \n",
       "\n",
       "  Amount_invested_monthly                 Payment_Behaviour  Monthly_Balance  \\\n",
       "0               80.415295   High_spent_Small_value_payments       312.494089   \n",
       "1              118.280222    Low_spent_Large_value_payments       284.629162   \n",
       "2               81.699521   Low_spent_Medium_value_payments       331.209863   \n",
       "3              199.458074    Low_spent_Small_value_payments       223.451310   \n",
       "4               41.420153  High_spent_Medium_value_payments       341.489231   \n",
       "5               62.430172  High_spent_Medium_value_payments       340.479212   \n",
       "6              178.344067    Low_spent_Small_value_payments       244.565317   \n",
       "7               24.785217  High_spent_Medium_value_payments       358.124168   \n",
       "\n",
       "  Credit_Score  \n",
       "0         Good  \n",
       "1         Good  \n",
       "2         Good  \n",
       "3         Good  \n",
       "4         Good  \n",
       "5         Good  \n",
       "6         Good  \n",
       "7     Standard  \n",
       "\n",
       "[8 rows x 22 columns]"
      ]
     },
     "execution_count": 89,
     "metadata": {},
     "output_type": "execute_result"
    }
   ],
   "source": [
    "df_train.head(8) "
   ]
  },
  {
   "cell_type": "code",
   "execution_count": 90,
   "id": "f66fb236",
   "metadata": {},
   "outputs": [
    {
     "data": {
      "application/vnd.microsoft.datawrangler.viewer.v0+json": {
       "columns": [
        {
         "name": "index",
         "rawType": "int64",
         "type": "integer"
        },
        {
         "name": "Customer_ID",
         "rawType": "object",
         "type": "string"
        },
        {
         "name": "Month",
         "rawType": "object",
         "type": "string"
        },
        {
         "name": "Age",
         "rawType": "int64",
         "type": "integer"
        },
        {
         "name": "Occupation",
         "rawType": "object",
         "type": "string"
        },
        {
         "name": "Annual_Income",
         "rawType": "float64",
         "type": "float"
        },
        {
         "name": "Monthly_Inhand_Salary",
         "rawType": "float64",
         "type": "float"
        },
        {
         "name": "Interest_Rate",
         "rawType": "int64",
         "type": "integer"
        },
        {
         "name": "Num_of_Loan",
         "rawType": "int64",
         "type": "integer"
        },
        {
         "name": "Delay_from_due_date",
         "rawType": "int64",
         "type": "integer"
        },
        {
         "name": "Num_of_Delayed_Payment",
         "rawType": "float64",
         "type": "float"
        },
        {
         "name": "Changed_Credit_Limit",
         "rawType": "float64",
         "type": "float"
        },
        {
         "name": "Num_Credit_Inquiries",
         "rawType": "float64",
         "type": "float"
        },
        {
         "name": "Credit_Mix",
         "rawType": "object",
         "type": "string"
        },
        {
         "name": "Outstanding_Debt",
         "rawType": "float64",
         "type": "float"
        },
        {
         "name": "Credit_Utilization_Ratio",
         "rawType": "float64",
         "type": "float"
        },
        {
         "name": "Credit_History_Age",
         "rawType": "object",
         "type": "string"
        },
        {
         "name": "Payment_of_Min_Amount",
         "rawType": "object",
         "type": "string"
        },
        {
         "name": "Total_EMI_per_month",
         "rawType": "float64",
         "type": "float"
        },
        {
         "name": "Amount_invested_monthly",
         "rawType": "float64",
         "type": "float"
        },
        {
         "name": "Payment_Behaviour",
         "rawType": "object",
         "type": "string"
        },
        {
         "name": "Monthly_Balance",
         "rawType": "float64",
         "type": "float"
        },
        {
         "name": "Credit_Score",
         "rawType": "object",
         "type": "string"
        }
       ],
       "ref": "6e9bf72d-5047-4b12-85fd-a042295ef285",
       "rows": [
        [
         "99992",
         "CUS_0x942c",
         "January",
         "25",
         "Mechanic",
         "39628.99",
         "3359.415833333333",
         "7",
         "2",
         "23",
         "6.0",
         "9.5",
         "3.0",
         "Good",
         "502.38",
         "32.99133302816466",
         "31 Years and 3 Months",
         "No",
         "35.10402261040746",
         "401.1964806036356",
         "Low_spent_Small_value_payments",
         "189.64108011929028",
         "Poor"
        ],
        [
         "99993",
         "CUS_0x942c",
         "February",
         "25",
         "Mechanic",
         "39628.99",
         "3359.415833333333",
         "7",
         "2",
         "23",
         "6.0",
         "11.5",
         "3.0",
         "Good",
         "502.38",
         "29.135447214506364",
         "31 Years and 4 Months",
         "No",
         "58638.0",
         "180.7330951944497",
         "Low_spent_Medium_value_payments",
         "400.1044655284761",
         "Standard"
        ],
        [
         "99994",
         "CUS_0x942c",
         "March",
         "25",
         "Mechanic",
         "39628.99",
         "3359.415833333333",
         "7",
         "2",
         "20",
         "6.0",
         "9.5",
         "3.0",
         "Good",
         "502.38",
         "39.32356935765127",
         "31 Years and 5 Months",
         "No",
         "35.10402261040746",
         "140.58140274528395",
         "High_spent_Medium_value_payments",
         "410.2561579776419",
         "Poor"
        ],
        [
         "99995",
         "CUS_0x942c",
         "April",
         "25",
         "Mechanic",
         "39628.99",
         "3359.415833333333",
         "7",
         "2",
         "23",
         "7.0",
         "11.5",
         "3.0",
         "Good",
         "502.38",
         "34.66357180929323",
         "31 Years and 6 Months",
         "No",
         "35.10402261040746",
         "60.97133255718485",
         "High_spent_Large_value_payments",
         "479.86622816574095",
         "Poor"
        ],
        [
         "99996",
         "CUS_0x942c",
         "May",
         "25",
         "Mechanic",
         "39628.99",
         "3359.415833333333",
         "7",
         "2",
         "18",
         "7.0",
         "11.5",
         "3.0",
         "Good",
         "502.38",
         "40.565630963889205",
         "31 Years and 7 Months",
         "No",
         "35.10402261040746",
         "54.18595028760385",
         "High_spent_Medium_value_payments",
         "496.651610435322",
         "Poor"
        ],
        [
         "99997",
         "CUS_0x942c",
         "June",
         "25",
         "Mechanic",
         "39628.99",
         "3359.415833333333",
         "7",
         "2",
         "27",
         "6.0",
         "11.5",
         "3.0",
         "Good",
         "502.38",
         "41.25552225901912",
         "31 Years and 8 Months",
         "No",
         "35.10402261040746",
         "24.02847744864441",
         "High_spent_Large_value_payments",
         "516.8090832742814",
         "Poor"
        ],
        [
         "99998",
         "CUS_0x942c",
         "July",
         "25",
         "Mechanic",
         "39628.99",
         "3359.415833333333",
         "7",
         "2",
         "20",
         "6.0",
         "11.5",
         "3.0",
         "Good",
         "502.38",
         "33.63820798055965",
         "31 Years and 9 Months",
         "No",
         "35.10402261040746",
         "251.67258219721603",
         "Low_spent_Large_value_payments",
         "319.1649785257098",
         "Standard"
        ],
        [
         "99999",
         "CUS_0x942c",
         "August",
         "25",
         "Mechanic",
         "39628.99",
         "3359.415833333333",
         "7",
         "2",
         "18",
         "6.0",
         "11.5",
         "3.0",
         "Good",
         "502.38",
         "34.192462653467544",
         "31 Years and 10 Months",
         "No",
         "35.10402261040746",
         "167.1638651610451",
         "High_spent_Large_value_payments",
         "393.6736955618808",
         "Poor"
        ]
       ],
       "shape": {
        "columns": 22,
        "rows": 8
       }
      },
      "text/html": [
       "<div>\n",
       "<style scoped>\n",
       "    .dataframe tbody tr th:only-of-type {\n",
       "        vertical-align: middle;\n",
       "    }\n",
       "\n",
       "    .dataframe tbody tr th {\n",
       "        vertical-align: top;\n",
       "    }\n",
       "\n",
       "    .dataframe thead th {\n",
       "        text-align: right;\n",
       "    }\n",
       "</style>\n",
       "<table border=\"1\" class=\"dataframe\">\n",
       "  <thead>\n",
       "    <tr style=\"text-align: right;\">\n",
       "      <th></th>\n",
       "      <th>Customer_ID</th>\n",
       "      <th>Month</th>\n",
       "      <th>Age</th>\n",
       "      <th>Occupation</th>\n",
       "      <th>Annual_Income</th>\n",
       "      <th>Monthly_Inhand_Salary</th>\n",
       "      <th>Interest_Rate</th>\n",
       "      <th>Num_of_Loan</th>\n",
       "      <th>Delay_from_due_date</th>\n",
       "      <th>Num_of_Delayed_Payment</th>\n",
       "      <th>...</th>\n",
       "      <th>Credit_Mix</th>\n",
       "      <th>Outstanding_Debt</th>\n",
       "      <th>Credit_Utilization_Ratio</th>\n",
       "      <th>Credit_History_Age</th>\n",
       "      <th>Payment_of_Min_Amount</th>\n",
       "      <th>Total_EMI_per_month</th>\n",
       "      <th>Amount_invested_monthly</th>\n",
       "      <th>Payment_Behaviour</th>\n",
       "      <th>Monthly_Balance</th>\n",
       "      <th>Credit_Score</th>\n",
       "    </tr>\n",
       "  </thead>\n",
       "  <tbody>\n",
       "    <tr>\n",
       "      <th>99992</th>\n",
       "      <td>CUS_0x942c</td>\n",
       "      <td>January</td>\n",
       "      <td>25</td>\n",
       "      <td>Mechanic</td>\n",
       "      <td>39628.99</td>\n",
       "      <td>3359.415833</td>\n",
       "      <td>7</td>\n",
       "      <td>2</td>\n",
       "      <td>23</td>\n",
       "      <td>6.0</td>\n",
       "      <td>...</td>\n",
       "      <td>Good</td>\n",
       "      <td>502.38</td>\n",
       "      <td>32.991333</td>\n",
       "      <td>31 Years and 3 Months</td>\n",
       "      <td>No</td>\n",
       "      <td>35.104023</td>\n",
       "      <td>401.196481</td>\n",
       "      <td>Low_spent_Small_value_payments</td>\n",
       "      <td>189.641080</td>\n",
       "      <td>Poor</td>\n",
       "    </tr>\n",
       "    <tr>\n",
       "      <th>99993</th>\n",
       "      <td>CUS_0x942c</td>\n",
       "      <td>February</td>\n",
       "      <td>25</td>\n",
       "      <td>Mechanic</td>\n",
       "      <td>39628.99</td>\n",
       "      <td>3359.415833</td>\n",
       "      <td>7</td>\n",
       "      <td>2</td>\n",
       "      <td>23</td>\n",
       "      <td>6.0</td>\n",
       "      <td>...</td>\n",
       "      <td>Good</td>\n",
       "      <td>502.38</td>\n",
       "      <td>29.135447</td>\n",
       "      <td>31 Years and 4 Months</td>\n",
       "      <td>No</td>\n",
       "      <td>58638.000000</td>\n",
       "      <td>180.733095</td>\n",
       "      <td>Low_spent_Medium_value_payments</td>\n",
       "      <td>400.104466</td>\n",
       "      <td>Standard</td>\n",
       "    </tr>\n",
       "    <tr>\n",
       "      <th>99994</th>\n",
       "      <td>CUS_0x942c</td>\n",
       "      <td>March</td>\n",
       "      <td>25</td>\n",
       "      <td>Mechanic</td>\n",
       "      <td>39628.99</td>\n",
       "      <td>3359.415833</td>\n",
       "      <td>7</td>\n",
       "      <td>2</td>\n",
       "      <td>20</td>\n",
       "      <td>6.0</td>\n",
       "      <td>...</td>\n",
       "      <td>Good</td>\n",
       "      <td>502.38</td>\n",
       "      <td>39.323569</td>\n",
       "      <td>31 Years and 5 Months</td>\n",
       "      <td>No</td>\n",
       "      <td>35.104023</td>\n",
       "      <td>140.581403</td>\n",
       "      <td>High_spent_Medium_value_payments</td>\n",
       "      <td>410.256158</td>\n",
       "      <td>Poor</td>\n",
       "    </tr>\n",
       "    <tr>\n",
       "      <th>99995</th>\n",
       "      <td>CUS_0x942c</td>\n",
       "      <td>April</td>\n",
       "      <td>25</td>\n",
       "      <td>Mechanic</td>\n",
       "      <td>39628.99</td>\n",
       "      <td>3359.415833</td>\n",
       "      <td>7</td>\n",
       "      <td>2</td>\n",
       "      <td>23</td>\n",
       "      <td>7.0</td>\n",
       "      <td>...</td>\n",
       "      <td>Good</td>\n",
       "      <td>502.38</td>\n",
       "      <td>34.663572</td>\n",
       "      <td>31 Years and 6 Months</td>\n",
       "      <td>No</td>\n",
       "      <td>35.104023</td>\n",
       "      <td>60.971333</td>\n",
       "      <td>High_spent_Large_value_payments</td>\n",
       "      <td>479.866228</td>\n",
       "      <td>Poor</td>\n",
       "    </tr>\n",
       "    <tr>\n",
       "      <th>99996</th>\n",
       "      <td>CUS_0x942c</td>\n",
       "      <td>May</td>\n",
       "      <td>25</td>\n",
       "      <td>Mechanic</td>\n",
       "      <td>39628.99</td>\n",
       "      <td>3359.415833</td>\n",
       "      <td>7</td>\n",
       "      <td>2</td>\n",
       "      <td>18</td>\n",
       "      <td>7.0</td>\n",
       "      <td>...</td>\n",
       "      <td>Good</td>\n",
       "      <td>502.38</td>\n",
       "      <td>40.565631</td>\n",
       "      <td>31 Years and 7 Months</td>\n",
       "      <td>No</td>\n",
       "      <td>35.104023</td>\n",
       "      <td>54.185950</td>\n",
       "      <td>High_spent_Medium_value_payments</td>\n",
       "      <td>496.651610</td>\n",
       "      <td>Poor</td>\n",
       "    </tr>\n",
       "    <tr>\n",
       "      <th>99997</th>\n",
       "      <td>CUS_0x942c</td>\n",
       "      <td>June</td>\n",
       "      <td>25</td>\n",
       "      <td>Mechanic</td>\n",
       "      <td>39628.99</td>\n",
       "      <td>3359.415833</td>\n",
       "      <td>7</td>\n",
       "      <td>2</td>\n",
       "      <td>27</td>\n",
       "      <td>6.0</td>\n",
       "      <td>...</td>\n",
       "      <td>Good</td>\n",
       "      <td>502.38</td>\n",
       "      <td>41.255522</td>\n",
       "      <td>31 Years and 8 Months</td>\n",
       "      <td>No</td>\n",
       "      <td>35.104023</td>\n",
       "      <td>24.028477</td>\n",
       "      <td>High_spent_Large_value_payments</td>\n",
       "      <td>516.809083</td>\n",
       "      <td>Poor</td>\n",
       "    </tr>\n",
       "    <tr>\n",
       "      <th>99998</th>\n",
       "      <td>CUS_0x942c</td>\n",
       "      <td>July</td>\n",
       "      <td>25</td>\n",
       "      <td>Mechanic</td>\n",
       "      <td>39628.99</td>\n",
       "      <td>3359.415833</td>\n",
       "      <td>7</td>\n",
       "      <td>2</td>\n",
       "      <td>20</td>\n",
       "      <td>6.0</td>\n",
       "      <td>...</td>\n",
       "      <td>Good</td>\n",
       "      <td>502.38</td>\n",
       "      <td>33.638208</td>\n",
       "      <td>31 Years and 9 Months</td>\n",
       "      <td>No</td>\n",
       "      <td>35.104023</td>\n",
       "      <td>251.672582</td>\n",
       "      <td>Low_spent_Large_value_payments</td>\n",
       "      <td>319.164979</td>\n",
       "      <td>Standard</td>\n",
       "    </tr>\n",
       "    <tr>\n",
       "      <th>99999</th>\n",
       "      <td>CUS_0x942c</td>\n",
       "      <td>August</td>\n",
       "      <td>25</td>\n",
       "      <td>Mechanic</td>\n",
       "      <td>39628.99</td>\n",
       "      <td>3359.415833</td>\n",
       "      <td>7</td>\n",
       "      <td>2</td>\n",
       "      <td>18</td>\n",
       "      <td>6.0</td>\n",
       "      <td>...</td>\n",
       "      <td>Good</td>\n",
       "      <td>502.38</td>\n",
       "      <td>34.192463</td>\n",
       "      <td>31 Years and 10 Months</td>\n",
       "      <td>No</td>\n",
       "      <td>35.104023</td>\n",
       "      <td>167.163865</td>\n",
       "      <td>High_spent_Large_value_payments</td>\n",
       "      <td>393.673696</td>\n",
       "      <td>Poor</td>\n",
       "    </tr>\n",
       "  </tbody>\n",
       "</table>\n",
       "<p>8 rows × 22 columns</p>\n",
       "</div>"
      ],
      "text/plain": [
       "      Customer_ID     Month  Age Occupation  Annual_Income  \\\n",
       "99992  CUS_0x942c   January   25   Mechanic       39628.99   \n",
       "99993  CUS_0x942c  February   25   Mechanic       39628.99   \n",
       "99994  CUS_0x942c     March   25   Mechanic       39628.99   \n",
       "99995  CUS_0x942c     April   25   Mechanic       39628.99   \n",
       "99996  CUS_0x942c       May   25   Mechanic       39628.99   \n",
       "99997  CUS_0x942c      June   25   Mechanic       39628.99   \n",
       "99998  CUS_0x942c      July   25   Mechanic       39628.99   \n",
       "99999  CUS_0x942c    August   25   Mechanic       39628.99   \n",
       "\n",
       "       Monthly_Inhand_Salary  Interest_Rate  Num_of_Loan  Delay_from_due_date  \\\n",
       "99992            3359.415833              7            2                   23   \n",
       "99993            3359.415833              7            2                   23   \n",
       "99994            3359.415833              7            2                   20   \n",
       "99995            3359.415833              7            2                   23   \n",
       "99996            3359.415833              7            2                   18   \n",
       "99997            3359.415833              7            2                   27   \n",
       "99998            3359.415833              7            2                   20   \n",
       "99999            3359.415833              7            2                   18   \n",
       "\n",
       "       Num_of_Delayed_Payment  ...  Credit_Mix  Outstanding_Debt  \\\n",
       "99992                     6.0  ...        Good            502.38   \n",
       "99993                     6.0  ...        Good            502.38   \n",
       "99994                     6.0  ...        Good            502.38   \n",
       "99995                     7.0  ...        Good            502.38   \n",
       "99996                     7.0  ...        Good            502.38   \n",
       "99997                     6.0  ...        Good            502.38   \n",
       "99998                     6.0  ...        Good            502.38   \n",
       "99999                     6.0  ...        Good            502.38   \n",
       "\n",
       "      Credit_Utilization_Ratio      Credit_History_Age  Payment_of_Min_Amount  \\\n",
       "99992                32.991333   31 Years and 3 Months                     No   \n",
       "99993                29.135447   31 Years and 4 Months                     No   \n",
       "99994                39.323569   31 Years and 5 Months                     No   \n",
       "99995                34.663572   31 Years and 6 Months                     No   \n",
       "99996                40.565631   31 Years and 7 Months                     No   \n",
       "99997                41.255522   31 Years and 8 Months                     No   \n",
       "99998                33.638208   31 Years and 9 Months                     No   \n",
       "99999                34.192463  31 Years and 10 Months                     No   \n",
       "\n",
       "      Total_EMI_per_month Amount_invested_monthly  \\\n",
       "99992           35.104023              401.196481   \n",
       "99993        58638.000000              180.733095   \n",
       "99994           35.104023              140.581403   \n",
       "99995           35.104023               60.971333   \n",
       "99996           35.104023               54.185950   \n",
       "99997           35.104023               24.028477   \n",
       "99998           35.104023              251.672582   \n",
       "99999           35.104023              167.163865   \n",
       "\n",
       "                      Payment_Behaviour  Monthly_Balance Credit_Score  \n",
       "99992    Low_spent_Small_value_payments       189.641080         Poor  \n",
       "99993   Low_spent_Medium_value_payments       400.104466     Standard  \n",
       "99994  High_spent_Medium_value_payments       410.256158         Poor  \n",
       "99995   High_spent_Large_value_payments       479.866228         Poor  \n",
       "99996  High_spent_Medium_value_payments       496.651610         Poor  \n",
       "99997   High_spent_Large_value_payments       516.809083         Poor  \n",
       "99998    Low_spent_Large_value_payments       319.164979     Standard  \n",
       "99999   High_spent_Large_value_payments       393.673696         Poor  \n",
       "\n",
       "[8 rows x 22 columns]"
      ]
     },
     "execution_count": 90,
     "metadata": {},
     "output_type": "execute_result"
    }
   ],
   "source": [
    "df_train.tail(8)"
   ]
  },
  {
   "cell_type": "code",
   "execution_count": 98,
   "id": "3fade1c3",
   "metadata": {},
   "outputs": [],
   "source": [
    "df_train.drop(columns=['Customer_ID'], inplace=True)  # Drop 'Customer_ID' column as it is not needed for training"
   ]
  }
 ],
 "metadata": {
  "kernelspec": {
   "display_name": "base",
   "language": "python",
   "name": "python3"
  },
  "language_info": {
   "codemirror_mode": {
    "name": "ipython",
    "version": 3
   },
   "file_extension": ".py",
   "mimetype": "text/x-python",
   "name": "python",
   "nbconvert_exporter": "python",
   "pygments_lexer": "ipython3",
   "version": "3.12.7"
  }
 },
 "nbformat": 4,
 "nbformat_minor": 5
}
