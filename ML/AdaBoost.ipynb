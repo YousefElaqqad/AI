{
 "cells": [
  {
   "cell_type": "markdown",
   "id": "37d69067",
   "metadata": {},
   "source": [
    "### 1.Import"
   ]
  },
  {
   "cell_type": "code",
   "execution_count": 95,
   "id": "c80010ef",
   "metadata": {},
   "outputs": [],
   "source": [
    "import numpy as np\n",
    "import pandas as pd\n",
    "import matplotlib.pyplot as plt\n",
    "import seaborn as sns\n",
    "from sklearn.model_selection import train_test_split\n",
    "from sklearn.model_selection import StratifiedKFold\n",
    "from sklearn.preprocessing import LabelEncoder, StandardScaler\n",
    "from sklearn.linear_model import LogisticRegression\n",
    "from sklearn.naive_bayes import GaussianNB\n",
    "from sklearn.neighbors import KNeighborsClassifier\n",
    "from sklearn.tree import DecisionTreeClassifier\n",
    "from sklearn.ensemble import AdaBoostClassifier\n",
    "from sklearn.ensemble import RandomForestClassifier\n",
    "from sklearn.svm import SVC\n",
    "from sklearn.metrics import accuracy_score,precision_score,recall_score,f1_score, confusion_matrix,classification_report\n",
    "from imblearn.over_sampling import SMOTE\n",
    "from sklearn.utils import resample"
   ]
  },
  {
   "cell_type": "markdown",
   "id": "32b744b6",
   "metadata": {},
   "source": [
    "1.1 Models"
   ]
  },
  {
   "cell_type": "code",
   "execution_count": 96,
   "id": "223fd0bb",
   "metadata": {},
   "outputs": [],
   "source": [
    "models = {\n",
    "    'Logistic Regression': LogisticRegression(max_iter=1000),\n",
    "    # 'Naive Bayes': GaussianNB(),\n",
    "    # 'KNN': KNeighborsClassifier(),\n",
    "    'Decision Tree': DecisionTreeClassifier(random_state=42),\n",
    "    'Random Forest': RandomForestClassifier(random_state=42),\n",
    "    'AdaBoost': AdaBoostClassifier(random_state=42),\n",
    "    # 'SVM': SVC(random_state=42)\n",
    "}"
   ]
  },
  {
   "cell_type": "markdown",
   "id": "e0debcaa",
   "metadata": {},
   "source": [
    "### 2.Load dataset"
   ]
  },
  {
   "cell_type": "code",
   "execution_count": 97,
   "id": "1deed597",
   "metadata": {},
   "outputs": [],
   "source": [
    "path=r\"C:\\Users\\mrtat\\Downloads\\NTI\\Data\\cardio_train.csv\""
   ]
  },
  {
   "cell_type": "code",
   "execution_count": 98,
   "id": "5049f5a3",
   "metadata": {},
   "outputs": [],
   "source": [
    "df = pd.read_csv(path,sep=';')"
   ]
  },
  {
   "cell_type": "markdown",
   "id": "3ca4a804",
   "metadata": {},
   "source": [
    "2.1.Show Data"
   ]
  },
  {
   "cell_type": "code",
   "execution_count": 99,
   "id": "41a07481",
   "metadata": {},
   "outputs": [
    {
     "data": {
      "application/vnd.microsoft.datawrangler.viewer.v0+json": {
       "columns": [
        {
         "name": "index",
         "rawType": "int64",
         "type": "integer"
        },
        {
         "name": "id",
         "rawType": "int64",
         "type": "integer"
        },
        {
         "name": "age",
         "rawType": "int64",
         "type": "integer"
        },
        {
         "name": "gender",
         "rawType": "int64",
         "type": "integer"
        },
        {
         "name": "height",
         "rawType": "int64",
         "type": "integer"
        },
        {
         "name": "weight",
         "rawType": "float64",
         "type": "float"
        },
        {
         "name": "ap_hi",
         "rawType": "int64",
         "type": "integer"
        },
        {
         "name": "ap_lo",
         "rawType": "int64",
         "type": "integer"
        },
        {
         "name": "cholesterol",
         "rawType": "int64",
         "type": "integer"
        },
        {
         "name": "gluc",
         "rawType": "int64",
         "type": "integer"
        },
        {
         "name": "smoke",
         "rawType": "int64",
         "type": "integer"
        },
        {
         "name": "alco",
         "rawType": "int64",
         "type": "integer"
        },
        {
         "name": "active",
         "rawType": "int64",
         "type": "integer"
        },
        {
         "name": "cardio",
         "rawType": "int64",
         "type": "integer"
        }
       ],
       "ref": "0f0a78d4-0640-40df-96ce-cd7cb1c6a442",
       "rows": [
        [
         "0",
         "0",
         "18393",
         "2",
         "168",
         "62.0",
         "110",
         "80",
         "1",
         "1",
         "0",
         "0",
         "1",
         "0"
        ],
        [
         "1",
         "1",
         "20228",
         "1",
         "156",
         "85.0",
         "140",
         "90",
         "3",
         "1",
         "0",
         "0",
         "1",
         "1"
        ],
        [
         "2",
         "2",
         "18857",
         "1",
         "165",
         "64.0",
         "130",
         "70",
         "3",
         "1",
         "0",
         "0",
         "0",
         "1"
        ],
        [
         "3",
         "3",
         "17623",
         "2",
         "169",
         "82.0",
         "150",
         "100",
         "1",
         "1",
         "0",
         "0",
         "1",
         "1"
        ],
        [
         "4",
         "4",
         "17474",
         "1",
         "156",
         "56.0",
         "100",
         "60",
         "1",
         "1",
         "0",
         "0",
         "0",
         "0"
        ]
       ],
       "shape": {
        "columns": 13,
        "rows": 5
       }
      },
      "text/html": [
       "<div>\n",
       "<style scoped>\n",
       "    .dataframe tbody tr th:only-of-type {\n",
       "        vertical-align: middle;\n",
       "    }\n",
       "\n",
       "    .dataframe tbody tr th {\n",
       "        vertical-align: top;\n",
       "    }\n",
       "\n",
       "    .dataframe thead th {\n",
       "        text-align: right;\n",
       "    }\n",
       "</style>\n",
       "<table border=\"1\" class=\"dataframe\">\n",
       "  <thead>\n",
       "    <tr style=\"text-align: right;\">\n",
       "      <th></th>\n",
       "      <th>id</th>\n",
       "      <th>age</th>\n",
       "      <th>gender</th>\n",
       "      <th>height</th>\n",
       "      <th>weight</th>\n",
       "      <th>ap_hi</th>\n",
       "      <th>ap_lo</th>\n",
       "      <th>cholesterol</th>\n",
       "      <th>gluc</th>\n",
       "      <th>smoke</th>\n",
       "      <th>alco</th>\n",
       "      <th>active</th>\n",
       "      <th>cardio</th>\n",
       "    </tr>\n",
       "  </thead>\n",
       "  <tbody>\n",
       "    <tr>\n",
       "      <th>0</th>\n",
       "      <td>0</td>\n",
       "      <td>18393</td>\n",
       "      <td>2</td>\n",
       "      <td>168</td>\n",
       "      <td>62.0</td>\n",
       "      <td>110</td>\n",
       "      <td>80</td>\n",
       "      <td>1</td>\n",
       "      <td>1</td>\n",
       "      <td>0</td>\n",
       "      <td>0</td>\n",
       "      <td>1</td>\n",
       "      <td>0</td>\n",
       "    </tr>\n",
       "    <tr>\n",
       "      <th>1</th>\n",
       "      <td>1</td>\n",
       "      <td>20228</td>\n",
       "      <td>1</td>\n",
       "      <td>156</td>\n",
       "      <td>85.0</td>\n",
       "      <td>140</td>\n",
       "      <td>90</td>\n",
       "      <td>3</td>\n",
       "      <td>1</td>\n",
       "      <td>0</td>\n",
       "      <td>0</td>\n",
       "      <td>1</td>\n",
       "      <td>1</td>\n",
       "    </tr>\n",
       "    <tr>\n",
       "      <th>2</th>\n",
       "      <td>2</td>\n",
       "      <td>18857</td>\n",
       "      <td>1</td>\n",
       "      <td>165</td>\n",
       "      <td>64.0</td>\n",
       "      <td>130</td>\n",
       "      <td>70</td>\n",
       "      <td>3</td>\n",
       "      <td>1</td>\n",
       "      <td>0</td>\n",
       "      <td>0</td>\n",
       "      <td>0</td>\n",
       "      <td>1</td>\n",
       "    </tr>\n",
       "    <tr>\n",
       "      <th>3</th>\n",
       "      <td>3</td>\n",
       "      <td>17623</td>\n",
       "      <td>2</td>\n",
       "      <td>169</td>\n",
       "      <td>82.0</td>\n",
       "      <td>150</td>\n",
       "      <td>100</td>\n",
       "      <td>1</td>\n",
       "      <td>1</td>\n",
       "      <td>0</td>\n",
       "      <td>0</td>\n",
       "      <td>1</td>\n",
       "      <td>1</td>\n",
       "    </tr>\n",
       "    <tr>\n",
       "      <th>4</th>\n",
       "      <td>4</td>\n",
       "      <td>17474</td>\n",
       "      <td>1</td>\n",
       "      <td>156</td>\n",
       "      <td>56.0</td>\n",
       "      <td>100</td>\n",
       "      <td>60</td>\n",
       "      <td>1</td>\n",
       "      <td>1</td>\n",
       "      <td>0</td>\n",
       "      <td>0</td>\n",
       "      <td>0</td>\n",
       "      <td>0</td>\n",
       "    </tr>\n",
       "  </tbody>\n",
       "</table>\n",
       "</div>"
      ],
      "text/plain": [
       "   id    age  gender  height  weight  ap_hi  ap_lo  cholesterol  gluc  smoke  \\\n",
       "0   0  18393       2     168    62.0    110     80            1     1      0   \n",
       "1   1  20228       1     156    85.0    140     90            3     1      0   \n",
       "2   2  18857       1     165    64.0    130     70            3     1      0   \n",
       "3   3  17623       2     169    82.0    150    100            1     1      0   \n",
       "4   4  17474       1     156    56.0    100     60            1     1      0   \n",
       "\n",
       "   alco  active  cardio  \n",
       "0     0       1       0  \n",
       "1     0       1       1  \n",
       "2     0       0       1  \n",
       "3     0       1       1  \n",
       "4     0       0       0  "
      ]
     },
     "execution_count": 99,
     "metadata": {},
     "output_type": "execute_result"
    }
   ],
   "source": [
    "df.head()"
   ]
  },
  {
   "cell_type": "code",
   "execution_count": 100,
   "id": "652371d2",
   "metadata": {},
   "outputs": [
    {
     "data": {
      "application/vnd.microsoft.datawrangler.viewer.v0+json": {
       "columns": [
        {
         "name": "index",
         "rawType": "int64",
         "type": "integer"
        },
        {
         "name": "id",
         "rawType": "int64",
         "type": "integer"
        },
        {
         "name": "age",
         "rawType": "int64",
         "type": "integer"
        },
        {
         "name": "gender",
         "rawType": "int64",
         "type": "integer"
        },
        {
         "name": "height",
         "rawType": "int64",
         "type": "integer"
        },
        {
         "name": "weight",
         "rawType": "float64",
         "type": "float"
        },
        {
         "name": "ap_hi",
         "rawType": "int64",
         "type": "integer"
        },
        {
         "name": "ap_lo",
         "rawType": "int64",
         "type": "integer"
        },
        {
         "name": "cholesterol",
         "rawType": "int64",
         "type": "integer"
        },
        {
         "name": "gluc",
         "rawType": "int64",
         "type": "integer"
        },
        {
         "name": "smoke",
         "rawType": "int64",
         "type": "integer"
        },
        {
         "name": "alco",
         "rawType": "int64",
         "type": "integer"
        },
        {
         "name": "active",
         "rawType": "int64",
         "type": "integer"
        },
        {
         "name": "cardio",
         "rawType": "int64",
         "type": "integer"
        }
       ],
       "ref": "fc579f37-b4c1-447c-8720-9e251b50517c",
       "rows": [
        [
         "69995",
         "99993",
         "19240",
         "2",
         "168",
         "76.0",
         "120",
         "80",
         "1",
         "1",
         "1",
         "0",
         "1",
         "0"
        ],
        [
         "69996",
         "99995",
         "22601",
         "1",
         "158",
         "126.0",
         "140",
         "90",
         "2",
         "2",
         "0",
         "0",
         "1",
         "1"
        ],
        [
         "69997",
         "99996",
         "19066",
         "2",
         "183",
         "105.0",
         "180",
         "90",
         "3",
         "1",
         "0",
         "1",
         "0",
         "1"
        ],
        [
         "69998",
         "99998",
         "22431",
         "1",
         "163",
         "72.0",
         "135",
         "80",
         "1",
         "2",
         "0",
         "0",
         "0",
         "1"
        ],
        [
         "69999",
         "99999",
         "20540",
         "1",
         "170",
         "72.0",
         "120",
         "80",
         "2",
         "1",
         "0",
         "0",
         "1",
         "0"
        ]
       ],
       "shape": {
        "columns": 13,
        "rows": 5
       }
      },
      "text/html": [
       "<div>\n",
       "<style scoped>\n",
       "    .dataframe tbody tr th:only-of-type {\n",
       "        vertical-align: middle;\n",
       "    }\n",
       "\n",
       "    .dataframe tbody tr th {\n",
       "        vertical-align: top;\n",
       "    }\n",
       "\n",
       "    .dataframe thead th {\n",
       "        text-align: right;\n",
       "    }\n",
       "</style>\n",
       "<table border=\"1\" class=\"dataframe\">\n",
       "  <thead>\n",
       "    <tr style=\"text-align: right;\">\n",
       "      <th></th>\n",
       "      <th>id</th>\n",
       "      <th>age</th>\n",
       "      <th>gender</th>\n",
       "      <th>height</th>\n",
       "      <th>weight</th>\n",
       "      <th>ap_hi</th>\n",
       "      <th>ap_lo</th>\n",
       "      <th>cholesterol</th>\n",
       "      <th>gluc</th>\n",
       "      <th>smoke</th>\n",
       "      <th>alco</th>\n",
       "      <th>active</th>\n",
       "      <th>cardio</th>\n",
       "    </tr>\n",
       "  </thead>\n",
       "  <tbody>\n",
       "    <tr>\n",
       "      <th>69995</th>\n",
       "      <td>99993</td>\n",
       "      <td>19240</td>\n",
       "      <td>2</td>\n",
       "      <td>168</td>\n",
       "      <td>76.0</td>\n",
       "      <td>120</td>\n",
       "      <td>80</td>\n",
       "      <td>1</td>\n",
       "      <td>1</td>\n",
       "      <td>1</td>\n",
       "      <td>0</td>\n",
       "      <td>1</td>\n",
       "      <td>0</td>\n",
       "    </tr>\n",
       "    <tr>\n",
       "      <th>69996</th>\n",
       "      <td>99995</td>\n",
       "      <td>22601</td>\n",
       "      <td>1</td>\n",
       "      <td>158</td>\n",
       "      <td>126.0</td>\n",
       "      <td>140</td>\n",
       "      <td>90</td>\n",
       "      <td>2</td>\n",
       "      <td>2</td>\n",
       "      <td>0</td>\n",
       "      <td>0</td>\n",
       "      <td>1</td>\n",
       "      <td>1</td>\n",
       "    </tr>\n",
       "    <tr>\n",
       "      <th>69997</th>\n",
       "      <td>99996</td>\n",
       "      <td>19066</td>\n",
       "      <td>2</td>\n",
       "      <td>183</td>\n",
       "      <td>105.0</td>\n",
       "      <td>180</td>\n",
       "      <td>90</td>\n",
       "      <td>3</td>\n",
       "      <td>1</td>\n",
       "      <td>0</td>\n",
       "      <td>1</td>\n",
       "      <td>0</td>\n",
       "      <td>1</td>\n",
       "    </tr>\n",
       "    <tr>\n",
       "      <th>69998</th>\n",
       "      <td>99998</td>\n",
       "      <td>22431</td>\n",
       "      <td>1</td>\n",
       "      <td>163</td>\n",
       "      <td>72.0</td>\n",
       "      <td>135</td>\n",
       "      <td>80</td>\n",
       "      <td>1</td>\n",
       "      <td>2</td>\n",
       "      <td>0</td>\n",
       "      <td>0</td>\n",
       "      <td>0</td>\n",
       "      <td>1</td>\n",
       "    </tr>\n",
       "    <tr>\n",
       "      <th>69999</th>\n",
       "      <td>99999</td>\n",
       "      <td>20540</td>\n",
       "      <td>1</td>\n",
       "      <td>170</td>\n",
       "      <td>72.0</td>\n",
       "      <td>120</td>\n",
       "      <td>80</td>\n",
       "      <td>2</td>\n",
       "      <td>1</td>\n",
       "      <td>0</td>\n",
       "      <td>0</td>\n",
       "      <td>1</td>\n",
       "      <td>0</td>\n",
       "    </tr>\n",
       "  </tbody>\n",
       "</table>\n",
       "</div>"
      ],
      "text/plain": [
       "          id    age  gender  height  weight  ap_hi  ap_lo  cholesterol  gluc  \\\n",
       "69995  99993  19240       2     168    76.0    120     80            1     1   \n",
       "69996  99995  22601       1     158   126.0    140     90            2     2   \n",
       "69997  99996  19066       2     183   105.0    180     90            3     1   \n",
       "69998  99998  22431       1     163    72.0    135     80            1     2   \n",
       "69999  99999  20540       1     170    72.0    120     80            2     1   \n",
       "\n",
       "       smoke  alco  active  cardio  \n",
       "69995      1     0       1       0  \n",
       "69996      0     0       1       1  \n",
       "69997      0     1       0       1  \n",
       "69998      0     0       0       1  \n",
       "69999      0     0       1       0  "
      ]
     },
     "execution_count": 100,
     "metadata": {},
     "output_type": "execute_result"
    }
   ],
   "source": [
    "df.tail()"
   ]
  },
  {
   "cell_type": "code",
   "execution_count": 101,
   "id": "b9c8b73a",
   "metadata": {},
   "outputs": [
    {
     "data": {
      "application/vnd.microsoft.datawrangler.viewer.v0+json": {
       "columns": [
        {
         "name": "index",
         "rawType": "object",
         "type": "string"
        },
        {
         "name": "id",
         "rawType": "float64",
         "type": "float"
        },
        {
         "name": "age",
         "rawType": "float64",
         "type": "float"
        },
        {
         "name": "gender",
         "rawType": "float64",
         "type": "float"
        },
        {
         "name": "height",
         "rawType": "float64",
         "type": "float"
        },
        {
         "name": "weight",
         "rawType": "float64",
         "type": "float"
        },
        {
         "name": "ap_hi",
         "rawType": "float64",
         "type": "float"
        },
        {
         "name": "ap_lo",
         "rawType": "float64",
         "type": "float"
        },
        {
         "name": "cholesterol",
         "rawType": "float64",
         "type": "float"
        },
        {
         "name": "gluc",
         "rawType": "float64",
         "type": "float"
        },
        {
         "name": "smoke",
         "rawType": "float64",
         "type": "float"
        },
        {
         "name": "alco",
         "rawType": "float64",
         "type": "float"
        },
        {
         "name": "active",
         "rawType": "float64",
         "type": "float"
        },
        {
         "name": "cardio",
         "rawType": "float64",
         "type": "float"
        }
       ],
       "ref": "676b366d-e8ad-42af-af93-f566788b828e",
       "rows": [
        [
         "count",
         "70000.0",
         "70000.0",
         "70000.0",
         "70000.0",
         "70000.0",
         "70000.0",
         "70000.0",
         "70000.0",
         "70000.0",
         "70000.0",
         "70000.0",
         "70000.0",
         "70000.0"
        ],
        [
         "mean",
         "49972.4199",
         "19468.865814285713",
         "1.3495714285714286",
         "164.35922857142856",
         "74.20569",
         "128.8172857142857",
         "96.63041428571428",
         "1.3668714285714285",
         "1.226457142857143",
         "0.08812857142857143",
         "0.053771428571428574",
         "0.8037285714285715",
         "0.4997"
        ],
        [
         "std",
         "28851.30232317303",
         "2467.2516672413913",
         "0.47683801558294814",
         "8.210126364538139",
         "14.39575667851056",
         "154.01141945605565",
         "188.47253029643605",
         "0.6802503486997775",
         "0.5722702766136001",
         "0.28348381677011014",
         "0.22556770360401027",
         "0.3971790635048892",
         "0.5000034814661523"
        ],
        [
         "min",
         "0.0",
         "10798.0",
         "1.0",
         "55.0",
         "10.0",
         "-150.0",
         "-70.0",
         "1.0",
         "1.0",
         "0.0",
         "0.0",
         "0.0",
         "0.0"
        ],
        [
         "25%",
         "25006.75",
         "17664.0",
         "1.0",
         "159.0",
         "65.0",
         "120.0",
         "80.0",
         "1.0",
         "1.0",
         "0.0",
         "0.0",
         "1.0",
         "0.0"
        ],
        [
         "50%",
         "50001.5",
         "19703.0",
         "1.0",
         "165.0",
         "72.0",
         "120.0",
         "80.0",
         "1.0",
         "1.0",
         "0.0",
         "0.0",
         "1.0",
         "0.0"
        ],
        [
         "75%",
         "74889.25",
         "21327.0",
         "2.0",
         "170.0",
         "82.0",
         "140.0",
         "90.0",
         "2.0",
         "1.0",
         "0.0",
         "0.0",
         "1.0",
         "1.0"
        ],
        [
         "max",
         "99999.0",
         "23713.0",
         "2.0",
         "250.0",
         "200.0",
         "16020.0",
         "11000.0",
         "3.0",
         "3.0",
         "1.0",
         "1.0",
         "1.0",
         "1.0"
        ]
       ],
       "shape": {
        "columns": 13,
        "rows": 8
       }
      },
      "text/html": [
       "<div>\n",
       "<style scoped>\n",
       "    .dataframe tbody tr th:only-of-type {\n",
       "        vertical-align: middle;\n",
       "    }\n",
       "\n",
       "    .dataframe tbody tr th {\n",
       "        vertical-align: top;\n",
       "    }\n",
       "\n",
       "    .dataframe thead th {\n",
       "        text-align: right;\n",
       "    }\n",
       "</style>\n",
       "<table border=\"1\" class=\"dataframe\">\n",
       "  <thead>\n",
       "    <tr style=\"text-align: right;\">\n",
       "      <th></th>\n",
       "      <th>id</th>\n",
       "      <th>age</th>\n",
       "      <th>gender</th>\n",
       "      <th>height</th>\n",
       "      <th>weight</th>\n",
       "      <th>ap_hi</th>\n",
       "      <th>ap_lo</th>\n",
       "      <th>cholesterol</th>\n",
       "      <th>gluc</th>\n",
       "      <th>smoke</th>\n",
       "      <th>alco</th>\n",
       "      <th>active</th>\n",
       "      <th>cardio</th>\n",
       "    </tr>\n",
       "  </thead>\n",
       "  <tbody>\n",
       "    <tr>\n",
       "      <th>count</th>\n",
       "      <td>70000.000000</td>\n",
       "      <td>70000.000000</td>\n",
       "      <td>70000.000000</td>\n",
       "      <td>70000.000000</td>\n",
       "      <td>70000.000000</td>\n",
       "      <td>70000.000000</td>\n",
       "      <td>70000.000000</td>\n",
       "      <td>70000.000000</td>\n",
       "      <td>70000.000000</td>\n",
       "      <td>70000.000000</td>\n",
       "      <td>70000.000000</td>\n",
       "      <td>70000.000000</td>\n",
       "      <td>70000.000000</td>\n",
       "    </tr>\n",
       "    <tr>\n",
       "      <th>mean</th>\n",
       "      <td>49972.419900</td>\n",
       "      <td>19468.865814</td>\n",
       "      <td>1.349571</td>\n",
       "      <td>164.359229</td>\n",
       "      <td>74.205690</td>\n",
       "      <td>128.817286</td>\n",
       "      <td>96.630414</td>\n",
       "      <td>1.366871</td>\n",
       "      <td>1.226457</td>\n",
       "      <td>0.088129</td>\n",
       "      <td>0.053771</td>\n",
       "      <td>0.803729</td>\n",
       "      <td>0.499700</td>\n",
       "    </tr>\n",
       "    <tr>\n",
       "      <th>std</th>\n",
       "      <td>28851.302323</td>\n",
       "      <td>2467.251667</td>\n",
       "      <td>0.476838</td>\n",
       "      <td>8.210126</td>\n",
       "      <td>14.395757</td>\n",
       "      <td>154.011419</td>\n",
       "      <td>188.472530</td>\n",
       "      <td>0.680250</td>\n",
       "      <td>0.572270</td>\n",
       "      <td>0.283484</td>\n",
       "      <td>0.225568</td>\n",
       "      <td>0.397179</td>\n",
       "      <td>0.500003</td>\n",
       "    </tr>\n",
       "    <tr>\n",
       "      <th>min</th>\n",
       "      <td>0.000000</td>\n",
       "      <td>10798.000000</td>\n",
       "      <td>1.000000</td>\n",
       "      <td>55.000000</td>\n",
       "      <td>10.000000</td>\n",
       "      <td>-150.000000</td>\n",
       "      <td>-70.000000</td>\n",
       "      <td>1.000000</td>\n",
       "      <td>1.000000</td>\n",
       "      <td>0.000000</td>\n",
       "      <td>0.000000</td>\n",
       "      <td>0.000000</td>\n",
       "      <td>0.000000</td>\n",
       "    </tr>\n",
       "    <tr>\n",
       "      <th>25%</th>\n",
       "      <td>25006.750000</td>\n",
       "      <td>17664.000000</td>\n",
       "      <td>1.000000</td>\n",
       "      <td>159.000000</td>\n",
       "      <td>65.000000</td>\n",
       "      <td>120.000000</td>\n",
       "      <td>80.000000</td>\n",
       "      <td>1.000000</td>\n",
       "      <td>1.000000</td>\n",
       "      <td>0.000000</td>\n",
       "      <td>0.000000</td>\n",
       "      <td>1.000000</td>\n",
       "      <td>0.000000</td>\n",
       "    </tr>\n",
       "    <tr>\n",
       "      <th>50%</th>\n",
       "      <td>50001.500000</td>\n",
       "      <td>19703.000000</td>\n",
       "      <td>1.000000</td>\n",
       "      <td>165.000000</td>\n",
       "      <td>72.000000</td>\n",
       "      <td>120.000000</td>\n",
       "      <td>80.000000</td>\n",
       "      <td>1.000000</td>\n",
       "      <td>1.000000</td>\n",
       "      <td>0.000000</td>\n",
       "      <td>0.000000</td>\n",
       "      <td>1.000000</td>\n",
       "      <td>0.000000</td>\n",
       "    </tr>\n",
       "    <tr>\n",
       "      <th>75%</th>\n",
       "      <td>74889.250000</td>\n",
       "      <td>21327.000000</td>\n",
       "      <td>2.000000</td>\n",
       "      <td>170.000000</td>\n",
       "      <td>82.000000</td>\n",
       "      <td>140.000000</td>\n",
       "      <td>90.000000</td>\n",
       "      <td>2.000000</td>\n",
       "      <td>1.000000</td>\n",
       "      <td>0.000000</td>\n",
       "      <td>0.000000</td>\n",
       "      <td>1.000000</td>\n",
       "      <td>1.000000</td>\n",
       "    </tr>\n",
       "    <tr>\n",
       "      <th>max</th>\n",
       "      <td>99999.000000</td>\n",
       "      <td>23713.000000</td>\n",
       "      <td>2.000000</td>\n",
       "      <td>250.000000</td>\n",
       "      <td>200.000000</td>\n",
       "      <td>16020.000000</td>\n",
       "      <td>11000.000000</td>\n",
       "      <td>3.000000</td>\n",
       "      <td>3.000000</td>\n",
       "      <td>1.000000</td>\n",
       "      <td>1.000000</td>\n",
       "      <td>1.000000</td>\n",
       "      <td>1.000000</td>\n",
       "    </tr>\n",
       "  </tbody>\n",
       "</table>\n",
       "</div>"
      ],
      "text/plain": [
       "                 id           age        gender        height        weight  \\\n",
       "count  70000.000000  70000.000000  70000.000000  70000.000000  70000.000000   \n",
       "mean   49972.419900  19468.865814      1.349571    164.359229     74.205690   \n",
       "std    28851.302323   2467.251667      0.476838      8.210126     14.395757   \n",
       "min        0.000000  10798.000000      1.000000     55.000000     10.000000   \n",
       "25%    25006.750000  17664.000000      1.000000    159.000000     65.000000   \n",
       "50%    50001.500000  19703.000000      1.000000    165.000000     72.000000   \n",
       "75%    74889.250000  21327.000000      2.000000    170.000000     82.000000   \n",
       "max    99999.000000  23713.000000      2.000000    250.000000    200.000000   \n",
       "\n",
       "              ap_hi         ap_lo   cholesterol          gluc         smoke  \\\n",
       "count  70000.000000  70000.000000  70000.000000  70000.000000  70000.000000   \n",
       "mean     128.817286     96.630414      1.366871      1.226457      0.088129   \n",
       "std      154.011419    188.472530      0.680250      0.572270      0.283484   \n",
       "min     -150.000000    -70.000000      1.000000      1.000000      0.000000   \n",
       "25%      120.000000     80.000000      1.000000      1.000000      0.000000   \n",
       "50%      120.000000     80.000000      1.000000      1.000000      0.000000   \n",
       "75%      140.000000     90.000000      2.000000      1.000000      0.000000   \n",
       "max    16020.000000  11000.000000      3.000000      3.000000      1.000000   \n",
       "\n",
       "               alco        active        cardio  \n",
       "count  70000.000000  70000.000000  70000.000000  \n",
       "mean       0.053771      0.803729      0.499700  \n",
       "std        0.225568      0.397179      0.500003  \n",
       "min        0.000000      0.000000      0.000000  \n",
       "25%        0.000000      1.000000      0.000000  \n",
       "50%        0.000000      1.000000      0.000000  \n",
       "75%        0.000000      1.000000      1.000000  \n",
       "max        1.000000      1.000000      1.000000  "
      ]
     },
     "execution_count": 101,
     "metadata": {},
     "output_type": "execute_result"
    }
   ],
   "source": [
    "df.describe()"
   ]
  },
  {
   "cell_type": "code",
   "execution_count": 102,
   "id": "af643964",
   "metadata": {},
   "outputs": [
    {
     "name": "stdout",
     "output_type": "stream",
     "text": [
      "<class 'pandas.core.frame.DataFrame'>\n",
      "RangeIndex: 70000 entries, 0 to 69999\n",
      "Data columns (total 13 columns):\n",
      " #   Column       Non-Null Count  Dtype  \n",
      "---  ------       --------------  -----  \n",
      " 0   id           70000 non-null  int64  \n",
      " 1   age          70000 non-null  int64  \n",
      " 2   gender       70000 non-null  int64  \n",
      " 3   height       70000 non-null  int64  \n",
      " 4   weight       70000 non-null  float64\n",
      " 5   ap_hi        70000 non-null  int64  \n",
      " 6   ap_lo        70000 non-null  int64  \n",
      " 7   cholesterol  70000 non-null  int64  \n",
      " 8   gluc         70000 non-null  int64  \n",
      " 9   smoke        70000 non-null  int64  \n",
      " 10  alco         70000 non-null  int64  \n",
      " 11  active       70000 non-null  int64  \n",
      " 12  cardio       70000 non-null  int64  \n",
      "dtypes: float64(1), int64(12)\n",
      "memory usage: 6.9 MB\n"
     ]
    }
   ],
   "source": [
    "df.info()"
   ]
  },
  {
   "cell_type": "markdown",
   "id": "4cd82d5e",
   "metadata": {},
   "source": [
    "### 3.Preprocessing"
   ]
  },
  {
   "cell_type": "markdown",
   "id": "55a4ee3b",
   "metadata": {},
   "source": [
    "3.1Handle missing values"
   ]
  },
  {
   "cell_type": "code",
   "execution_count": 103,
   "id": "59245536",
   "metadata": {},
   "outputs": [
    {
     "data": {
      "application/vnd.microsoft.datawrangler.viewer.v0+json": {
       "columns": [
        {
         "name": "index",
         "rawType": "object",
         "type": "string"
        },
        {
         "name": "0",
         "rawType": "int64",
         "type": "integer"
        }
       ],
       "ref": "a25731e1-06e5-45cd-b118-fcfd20d71fa3",
       "rows": [
        [
         "id",
         "0"
        ],
        [
         "age",
         "0"
        ],
        [
         "gender",
         "0"
        ],
        [
         "height",
         "0"
        ],
        [
         "weight",
         "0"
        ],
        [
         "ap_hi",
         "0"
        ],
        [
         "ap_lo",
         "0"
        ],
        [
         "cholesterol",
         "0"
        ],
        [
         "gluc",
         "0"
        ],
        [
         "smoke",
         "0"
        ],
        [
         "alco",
         "0"
        ],
        [
         "active",
         "0"
        ],
        [
         "cardio",
         "0"
        ]
       ],
       "shape": {
        "columns": 1,
        "rows": 13
       }
      },
      "text/plain": [
       "id             0\n",
       "age            0\n",
       "gender         0\n",
       "height         0\n",
       "weight         0\n",
       "ap_hi          0\n",
       "ap_lo          0\n",
       "cholesterol    0\n",
       "gluc           0\n",
       "smoke          0\n",
       "alco           0\n",
       "active         0\n",
       "cardio         0\n",
       "dtype: int64"
      ]
     },
     "execution_count": 103,
     "metadata": {},
     "output_type": "execute_result"
    }
   ],
   "source": [
    "df.isna().sum().sort_values(ascending=False)"
   ]
  },
  {
   "cell_type": "markdown",
   "id": "09fd1ae5",
   "metadata": {},
   "source": [
    "3.2 Handle duplicated"
   ]
  },
  {
   "cell_type": "code",
   "execution_count": 104,
   "id": "91dc7698",
   "metadata": {},
   "outputs": [
    {
     "data": {
      "text/plain": [
       "0"
      ]
     },
     "execution_count": 104,
     "metadata": {},
     "output_type": "execute_result"
    }
   ],
   "source": [
    "df.duplicated().sum()"
   ]
  },
  {
   "cell_type": "code",
   "execution_count": 105,
   "id": "cc6ff406",
   "metadata": {},
   "outputs": [],
   "source": [
    "df.drop_duplicates(inplace=True)"
   ]
  },
  {
   "cell_type": "code",
   "execution_count": 106,
   "id": "49f5bef5",
   "metadata": {},
   "outputs": [],
   "source": [
    "df.drop(['id'], axis=1, inplace=True)\n",
    "df.reset_index(drop=True, inplace=True) # Reset index after dropping columns and removing duplicates"
   ]
  },
  {
   "cell_type": "code",
   "execution_count": 107,
   "id": "bc7d6117",
   "metadata": {},
   "outputs": [
    {
     "data": {
      "text/plain": [
       "(70000, 12)"
      ]
     },
     "execution_count": 107,
     "metadata": {},
     "output_type": "execute_result"
    }
   ],
   "source": [
    "df.shape"
   ]
  },
  {
   "cell_type": "code",
   "execution_count": 108,
   "id": "b55efa88",
   "metadata": {},
   "outputs": [],
   "source": [
    "X = df.drop(['cardio'], axis=1)\n",
    "y = df['cardio']"
   ]
  },
  {
   "cell_type": "markdown",
   "id": "5ff7c374",
   "metadata": {},
   "source": [
    "3.3 Label Encode to all data"
   ]
  },
  {
   "cell_type": "code",
   "execution_count": 109,
   "id": "53805ce6",
   "metadata": {},
   "outputs": [],
   "source": [
    "for c in X.select_dtypes(include=['object']).columns:\n",
    "    lb = LabelEncoder()\n",
    "    df[c] = lb.fit_transform(df[c])\n"
   ]
  },
  {
   "cell_type": "markdown",
   "id": "0f7b140e",
   "metadata": {},
   "source": [
    "4.1 Data before balance"
   ]
  },
  {
   "cell_type": "code",
   "execution_count": 110,
   "id": "4bb3e38c",
   "metadata": {},
   "outputs": [
    {
     "data": {
      "image/png": "[encoded data removed]",
      "text/plain": [
       "<Figure size 600x400 with 1 Axes>"
      ]
     },
     "metadata": {},
     "output_type": "display_data"
    }
   ],
   "source": [
    "sns.set(style=\"whitegrid\")\n",
    "plt.figure(figsize=(6, 4))\n",
    "sns.countplot(x='cardio', data=df)\n",
    "plt.title('Cardio Distribution\\n')\n",
    "plt.show()"
   ]
  },
  {
   "cell_type": "code",
   "execution_count": 111,
   "id": "d50b38a9",
   "metadata": {},
   "outputs": [
    {
     "name": "stdout",
     "output_type": "stream",
     "text": [
      "cardio\n",
      "0    35021\n",
      "1    34979\n",
      "Name: count, dtype: int64\n",
      "cardio\n",
      "0    0.5003\n",
      "1    0.4997\n",
      "Name: proportion, dtype: float64\n"
     ]
    }
   ],
   "source": [
    "print(df['cardio'].value_counts())\n",
    "print(df['cardio'].value_counts(normalize=True))  # Shows percentages"
   ]
  },
  {
   "cell_type": "code",
   "execution_count": 112,
   "id": "ce6edc7f",
   "metadata": {},
   "outputs": [
    {
     "data": {
      "image/png": "[encoded data removed]",
      "text/plain": [
       "<Figure size 600x400 with 1 Axes>"
      ]
     },
     "metadata": {},
     "output_type": "display_data"
    }
   ],
   "source": [
    "revenue_counts = df['cardio'].value_counts()\n",
    "revenue_counts.plot(\n",
    "    kind='pie',\n",
    "    figsize=(6, 4),\n",
    "    autopct='%1.1f%%',   # add in percentages\n",
    "    startangle=90,       # start angle 90°   \n",
    "    colors=[\"#eb72aa\",\"#84c0fc\"],  # Custom colors for the pie chart    \n",
    ")\n",
    "\n",
    "plt.title('cardio Distribution\\n')\n",
    "plt.axis('equal')  # Sets the pie chart to look like a circle.\n",
    "plt.legend(labels=revenue_counts.index, bbox_to_anchor=(1, 0))\n",
    "plt.ylabel('')  # Hide y-label\n",
    "plt.show()"
   ]
  },
  {
   "cell_type": "markdown",
   "id": "a4a14872",
   "metadata": {},
   "source": [
    "3.3 Split data"
   ]
  },
  {
   "cell_type": "code",
   "execution_count": 113,
   "id": "cde1ee99",
   "metadata": {},
   "outputs": [],
   "source": [
    "x_train1, x_test1, y_train, y_test = train_test_split(X, y, test_size=0.2, random_state=42)"
   ]
  },
  {
   "cell_type": "code",
   "execution_count": 114,
   "id": "ae36fb2a",
   "metadata": {},
   "outputs": [],
   "source": [
    "scaler = StandardScaler()\n",
    "x_train2 = scaler.fit_transform(x_train1)\n",
    "x_test = scaler.transform(x_test1)"
   ]
  },
  {
   "cell_type": "code",
   "execution_count": 115,
   "id": "8ba0b854",
   "metadata": {},
   "outputs": [],
   "source": [
    "smote = SMOTE(random_state=42)\n",
    "x_train, y_train = smote.fit_resample(x_train2, y_train)\n",
    "# Resampling the data to balance the classes\n",
    "\n",
    "df_balanced = pd.DataFrame(x_train, columns=X.columns)\n",
    "df_balanced['cardio'] = y_train\n",
    "\n"
   ]
  },
  {
   "cell_type": "markdown",
   "id": "4c6415fe",
   "metadata": {},
   "source": [
    "### 4.Visulization"
   ]
  },
  {
   "cell_type": "markdown",
   "id": "6e0b8c0c",
   "metadata": {},
   "source": [
    "4.2 Data after balance"
   ]
  },
  {
   "cell_type": "code",
   "execution_count": 118,
   "id": "13356159",
   "metadata": {},
   "outputs": [
    {
     "data": {
      "image/png": "[encoded data removed]",
      "text/plain": [
       "<Figure size 1000x600 with 2 Axes>"
      ]
     },
     "metadata": {},
     "output_type": "display_data"
    }
   ],
   "source": [
    "plt.figure(figsize=(10, 6))\n",
    "sns.heatmap(df.corr(), annot=True, fmt='.2f', cmap='coolwarm')\n",
    "plt.title('Correlation Matrix ')\n",
    "plt.xticks(rotation=90)\n",
    "plt.show()"
   ]
  },
  {
   "cell_type": "markdown",
   "id": "f46cd1c4",
   "metadata": {},
   "source": [
    "### 5.Train model"
   ]
  },
  {
   "cell_type": "code",
   "execution_count": 119,
   "id": "05df45e3",
   "metadata": {},
   "outputs": [
    {
     "name": "stderr",
     "output_type": "stream",
     "text": [
      "c:\\ProgramData\\anaconda3\\Lib\\site-packages\\sklearn\\ensemble\\_weight_boosting.py:527: FutureWarning: The SAMME.R algorithm (the default) is deprecated and will be removed in 1.6. Use the SAMME algorithm to circumvent this warning.\n",
      "  warnings.warn(\n"
     ]
    }
   ],
   "source": [
    "results = {}\n",
    "# models from 1.1 part\n",
    "for name, model in models.items():\n",
    "    model.fit(x_train, y_train)\n",
    "    y_pred = model.predict(x_test)\n",
    "    results[name] = {\n",
    "        'Accuracy': accuracy_score(y_test, y_pred),\n",
    "        'Precision': precision_score(y_test, y_pred),\n",
    "        'Recall': recall_score(y_test, y_pred),\n",
    "        'F1-Score': f1_score(y_test, y_pred)\n",
    "    }"
   ]
  },
  {
   "cell_type": "code",
   "execution_count": 120,
   "id": "7d01807b",
   "metadata": {},
   "outputs": [
    {
     "name": "stdout",
     "output_type": "stream",
     "text": [
      "\n",
      "Performance Metrics:\n",
      "                      Accuracy  Precision    Recall  F1-Score\n",
      "Model                                                       \n",
      "Logistic Regression  0.723000   0.744309  0.680833  0.711157\n",
      "Decision Tree        0.631571   0.630637  0.638192  0.634392\n",
      "Random Forest        0.712429   0.717829  0.701654  0.709650\n",
      "AdaBoost             0.736214   0.773619  0.669139  0.717596\n"
     ]
    }
   ],
   "source": [
    "metrics_df = pd.DataFrame(results).T\n",
    "metrics_df.index.name = 'Model'\n",
    "print(\"\\nPerformance Metrics:\\n\", metrics_df)"
   ]
  },
  {
   "cell_type": "code",
   "execution_count": 121,
   "id": "3ae23a6d",
   "metadata": {},
   "outputs": [
    {
     "name": "stdout",
     "output_type": "stream",
     "text": [
      "\n",
      "Best Model based on F1-Score: AdaBoost\n",
      "\n"
     ]
    }
   ],
   "source": [
    "best_model_name = metrics_df['F1-Score'].idxmax()\n",
    "best_model = models[best_model_name]\n",
    "print(f\"\\nBest Model based on F1-Score: {best_model_name}\\n\")"
   ]
  },
  {
   "cell_type": "markdown",
   "id": "6b6822d8",
   "metadata": {},
   "source": [
    "### confusion Matrix & Classification Report for Best Model"
   ]
  },
  {
   "cell_type": "code",
   "execution_count": 122,
   "id": "337362d6",
   "metadata": {},
   "outputs": [],
   "source": [
    "y_pred_best = best_model.predict(x_test)\n",
    "cm = confusion_matrix(y_test, y_pred_best)"
   ]
  },
  {
   "cell_type": "code",
   "execution_count": 123,
   "id": "2863217e",
   "metadata": {},
   "outputs": [
    {
     "data": {
      "image/png": "[encoded data removed]",
      "text/plain": [
       "<Figure size 640x480 with 2 Axes>"
      ]
     },
     "metadata": {},
     "output_type": "display_data"
    },
    {
     "name": "stdout",
     "output_type": "stream",
     "text": [
      "Classification Report:\n",
      "               precision    recall  f1-score   support\n",
      "\n",
      "           0       0.71      0.80      0.75      6988\n",
      "           1       0.77      0.67      0.72      7012\n",
      "\n",
      "    accuracy                           0.74     14000\n",
      "   macro avg       0.74      0.74      0.74     14000\n",
      "weighted avg       0.74      0.74      0.74     14000\n",
      "\n"
     ]
    }
   ],
   "source": [
    "plt.figure()\n",
    "sns.heatmap(cm, annot=True, fmt='d', cmap='Blues')\n",
    "plt.title(f'Confusion Matrix - {best_model_name}')\n",
    "plt.xlabel('Predicted')\n",
    "plt.ylabel('Actual')\n",
    "plt.show()\n",
    "print(\"Classification Report:\\n\", classification_report(y_test, y_pred_best))"
   ]
  }
 ],
 "metadata": {
  "kernelspec": {
   "display_name": "base",
   "language": "python",
   "name": "python3"
  },
  "language_info": {
   "codemirror_mode": {
    "name": "ipython",
    "version": 3
   },
   "file_extension": ".py",
   "mimetype": "text/x-python",
   "name": "python",
   "nbconvert_exporter": "python",
   "pygments_lexer": "ipython3",
   "version": "3.12.7"
  }
 },
 "nbformat": 4,
 "nbformat_minor": 5
}
