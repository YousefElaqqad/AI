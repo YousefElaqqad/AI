{
 "cells": [
  {
   "cell_type": "markdown",
   "id": "37d69067",
   "metadata": {},
   "source": [
    "### 1.Import"
   ]
  },
  {
   "cell_type": "code",
   "execution_count": 51,
   "id": "c80010ef",
   "metadata": {},
   "outputs": [],
   "source": [
    "import numpy as np\n",
    "import pandas as pd\n",
    "import matplotlib.pyplot as plt\n",
    "import seaborn as sns\n",
    "from sklearn.model_selection import train_test_split\n",
    "from sklearn.model_selection import StratifiedKFold\n",
    "from sklearn.preprocessing import LabelEncoder, StandardScaler,RobustScaler\n",
    "from sklearn.linear_model import LinearRegression,Lasso,Ridge\n",
    "from sklearn.naive_bayes import GaussianNB\n",
    "from sklearn.neighbors import KNeighborsClassifier\n",
    "from sklearn.tree import DecisionTreeClassifier,DecisionTreeRegressor\n",
    "from sklearn.ensemble import RandomForestClassifier\n",
    "from sklearn.svm import SVC\n",
    "from  sklearn.metrics import mean_absolute_error , mean_squared_error,root_mean_squared_error,r2_score\n",
    "from imblearn.over_sampling import SMOTE\n",
    "from sklearn.utils import resample"
   ]
  },
  {
   "cell_type": "markdown",
   "id": "32b744b6",
   "metadata": {},
   "source": [
    "1.1 Models"
   ]
  },
  {
   "cell_type": "markdown",
   "id": "e0debcaa",
   "metadata": {},
   "source": [
    "### 2.Load dataset"
   ]
  },
  {
   "cell_type": "code",
   "execution_count": 52,
   "id": "1deed597",
   "metadata": {},
   "outputs": [],
   "source": [
    "path=r\"C:\\Users\\mrtat\\Downloads\\NTI\\Data\\Housing.csv\""
   ]
  },
  {
   "cell_type": "code",
   "execution_count": 53,
   "id": "5049f5a3",
   "metadata": {},
   "outputs": [],
   "source": [
    "df = pd.read_csv(path)"
   ]
  },
  {
   "cell_type": "markdown",
   "id": "3ca4a804",
   "metadata": {},
   "source": [
    "2.1.Show Data"
   ]
  },
  {
   "cell_type": "code",
   "execution_count": 54,
   "id": "41a07481",
   "metadata": {},
   "outputs": [
    {
     "data": {
      "application/vnd.microsoft.datawrangler.viewer.v0+json": {
       "columns": [
        {
         "name": "index",
         "rawType": "int64",
         "type": "integer"
        },
        {
         "name": "price",
         "rawType": "int64",
         "type": "integer"
        },
        {
         "name": "area",
         "rawType": "int64",
         "type": "integer"
        },
        {
         "name": "bedrooms",
         "rawType": "int64",
         "type": "integer"
        },
        {
         "name": "bathrooms",
         "rawType": "int64",
         "type": "integer"
        },
        {
         "name": "stories",
         "rawType": "int64",
         "type": "integer"
        },
        {
         "name": "mainroad",
         "rawType": "object",
         "type": "string"
        },
        {
         "name": "guestroom",
         "rawType": "object",
         "type": "string"
        },
        {
         "name": "basement",
         "rawType": "object",
         "type": "string"
        },
        {
         "name": "hotwaterheating",
         "rawType": "object",
         "type": "string"
        },
        {
         "name": "airconditioning",
         "rawType": "object",
         "type": "string"
        },
        {
         "name": "parking",
         "rawType": "int64",
         "type": "integer"
        },
        {
         "name": "prefarea",
         "rawType": "object",
         "type": "string"
        },
        {
         "name": "furnishingstatus",
         "rawType": "object",
         "type": "string"
        }
       ],
       "ref": "c4efff42-bc37-457b-bf9e-704498dd977a",
       "rows": [
        [
         "0",
         "13300000",
         "7420",
         "4",
         "2",
         "3",
         "yes",
         "no",
         "no",
         "no",
         "yes",
         "2",
         "yes",
         "furnished"
        ],
        [
         "1",
         "12250000",
         "8960",
         "4",
         "4",
         "4",
         "yes",
         "no",
         "no",
         "no",
         "yes",
         "3",
         "no",
         "furnished"
        ],
        [
         "2",
         "12250000",
         "9960",
         "3",
         "2",
         "2",
         "yes",
         "no",
         "yes",
         "no",
         "no",
         "2",
         "yes",
         "semi-furnished"
        ],
        [
         "3",
         "12215000",
         "7500",
         "4",
         "2",
         "2",
         "yes",
         "no",
         "yes",
         "no",
         "yes",
         "3",
         "yes",
         "furnished"
        ],
        [
         "4",
         "11410000",
         "7420",
         "4",
         "1",
         "2",
         "yes",
         "yes",
         "yes",
         "no",
         "yes",
         "2",
         "no",
         "furnished"
        ]
       ],
       "shape": {
        "columns": 13,
        "rows": 5
       }
      },
      "text/html": [
       "<div>\n",
       "<style scoped>\n",
       "    .dataframe tbody tr th:only-of-type {\n",
       "        vertical-align: middle;\n",
       "    }\n",
       "\n",
       "    .dataframe tbody tr th {\n",
       "        vertical-align: top;\n",
       "    }\n",
       "\n",
       "    .dataframe thead th {\n",
       "        text-align: right;\n",
       "    }\n",
       "</style>\n",
       "<table border=\"1\" class=\"dataframe\">\n",
       "  <thead>\n",
       "    <tr style=\"text-align: right;\">\n",
       "      <th></th>\n",
       "      <th>price</th>\n",
       "      <th>area</th>\n",
       "      <th>bedrooms</th>\n",
       "      <th>bathrooms</th>\n",
       "      <th>stories</th>\n",
       "      <th>mainroad</th>\n",
       "      <th>guestroom</th>\n",
       "      <th>basement</th>\n",
       "      <th>hotwaterheating</th>\n",
       "      <th>airconditioning</th>\n",
       "      <th>parking</th>\n",
       "      <th>prefarea</th>\n",
       "      <th>furnishingstatus</th>\n",
       "    </tr>\n",
       "  </thead>\n",
       "  <tbody>\n",
       "    <tr>\n",
       "      <th>0</th>\n",
       "      <td>13300000</td>\n",
       "      <td>7420</td>\n",
       "      <td>4</td>\n",
       "      <td>2</td>\n",
       "      <td>3</td>\n",
       "      <td>yes</td>\n",
       "      <td>no</td>\n",
       "      <td>no</td>\n",
       "      <td>no</td>\n",
       "      <td>yes</td>\n",
       "      <td>2</td>\n",
       "      <td>yes</td>\n",
       "      <td>furnished</td>\n",
       "    </tr>\n",
       "    <tr>\n",
       "      <th>1</th>\n",
       "      <td>12250000</td>\n",
       "      <td>8960</td>\n",
       "      <td>4</td>\n",
       "      <td>4</td>\n",
       "      <td>4</td>\n",
       "      <td>yes</td>\n",
       "      <td>no</td>\n",
       "      <td>no</td>\n",
       "      <td>no</td>\n",
       "      <td>yes</td>\n",
       "      <td>3</td>\n",
       "      <td>no</td>\n",
       "      <td>furnished</td>\n",
       "    </tr>\n",
       "    <tr>\n",
       "      <th>2</th>\n",
       "      <td>12250000</td>\n",
       "      <td>9960</td>\n",
       "      <td>3</td>\n",
       "      <td>2</td>\n",
       "      <td>2</td>\n",
       "      <td>yes</td>\n",
       "      <td>no</td>\n",
       "      <td>yes</td>\n",
       "      <td>no</td>\n",
       "      <td>no</td>\n",
       "      <td>2</td>\n",
       "      <td>yes</td>\n",
       "      <td>semi-furnished</td>\n",
       "    </tr>\n",
       "    <tr>\n",
       "      <th>3</th>\n",
       "      <td>12215000</td>\n",
       "      <td>7500</td>\n",
       "      <td>4</td>\n",
       "      <td>2</td>\n",
       "      <td>2</td>\n",
       "      <td>yes</td>\n",
       "      <td>no</td>\n",
       "      <td>yes</td>\n",
       "      <td>no</td>\n",
       "      <td>yes</td>\n",
       "      <td>3</td>\n",
       "      <td>yes</td>\n",
       "      <td>furnished</td>\n",
       "    </tr>\n",
       "    <tr>\n",
       "      <th>4</th>\n",
       "      <td>11410000</td>\n",
       "      <td>7420</td>\n",
       "      <td>4</td>\n",
       "      <td>1</td>\n",
       "      <td>2</td>\n",
       "      <td>yes</td>\n",
       "      <td>yes</td>\n",
       "      <td>yes</td>\n",
       "      <td>no</td>\n",
       "      <td>yes</td>\n",
       "      <td>2</td>\n",
       "      <td>no</td>\n",
       "      <td>furnished</td>\n",
       "    </tr>\n",
       "  </tbody>\n",
       "</table>\n",
       "</div>"
      ],
      "text/plain": [
       "      price  area  bedrooms  bathrooms  stories mainroad guestroom basement  \\\n",
       "0  13300000  7420         4          2        3      yes        no       no   \n",
       "1  12250000  8960         4          4        4      yes        no       no   \n",
       "2  12250000  9960         3          2        2      yes        no      yes   \n",
       "3  12215000  7500         4          2        2      yes        no      yes   \n",
       "4  11410000  7420         4          1        2      yes       yes      yes   \n",
       "\n",
       "  hotwaterheating airconditioning  parking prefarea furnishingstatus  \n",
       "0              no             yes        2      yes        furnished  \n",
       "1              no             yes        3       no        furnished  \n",
       "2              no              no        2      yes   semi-furnished  \n",
       "3              no             yes        3      yes        furnished  \n",
       "4              no             yes        2       no        furnished  "
      ]
     },
     "execution_count": 54,
     "metadata": {},
     "output_type": "execute_result"
    }
   ],
   "source": [
    "df.head()"
   ]
  },
  {
   "cell_type": "code",
   "execution_count": 55,
   "id": "652371d2",
   "metadata": {},
   "outputs": [
    {
     "data": {
      "application/vnd.microsoft.datawrangler.viewer.v0+json": {
       "columns": [
        {
         "name": "index",
         "rawType": "int64",
         "type": "integer"
        },
        {
         "name": "price",
         "rawType": "int64",
         "type": "integer"
        },
        {
         "name": "area",
         "rawType": "int64",
         "type": "integer"
        },
        {
         "name": "bedrooms",
         "rawType": "int64",
         "type": "integer"
        },
        {
         "name": "bathrooms",
         "rawType": "int64",
         "type": "integer"
        },
        {
         "name": "stories",
         "rawType": "int64",
         "type": "integer"
        },
        {
         "name": "mainroad",
         "rawType": "object",
         "type": "string"
        },
        {
         "name": "guestroom",
         "rawType": "object",
         "type": "string"
        },
        {
         "name": "basement",
         "rawType": "object",
         "type": "string"
        },
        {
         "name": "hotwaterheating",
         "rawType": "object",
         "type": "string"
        },
        {
         "name": "airconditioning",
         "rawType": "object",
         "type": "string"
        },
        {
         "name": "parking",
         "rawType": "int64",
         "type": "integer"
        },
        {
         "name": "prefarea",
         "rawType": "object",
         "type": "string"
        },
        {
         "name": "furnishingstatus",
         "rawType": "object",
         "type": "string"
        }
       ],
       "ref": "5b09ec2a-bc5a-42fc-8315-56c1addc3514",
       "rows": [
        [
         "540",
         "1820000",
         "3000",
         "2",
         "1",
         "1",
         "yes",
         "no",
         "yes",
         "no",
         "no",
         "2",
         "no",
         "unfurnished"
        ],
        [
         "541",
         "1767150",
         "2400",
         "3",
         "1",
         "1",
         "no",
         "no",
         "no",
         "no",
         "no",
         "0",
         "no",
         "semi-furnished"
        ],
        [
         "542",
         "1750000",
         "3620",
         "2",
         "1",
         "1",
         "yes",
         "no",
         "no",
         "no",
         "no",
         "0",
         "no",
         "unfurnished"
        ],
        [
         "543",
         "1750000",
         "2910",
         "3",
         "1",
         "1",
         "no",
         "no",
         "no",
         "no",
         "no",
         "0",
         "no",
         "furnished"
        ],
        [
         "544",
         "1750000",
         "3850",
         "3",
         "1",
         "2",
         "yes",
         "no",
         "no",
         "no",
         "no",
         "0",
         "no",
         "unfurnished"
        ]
       ],
       "shape": {
        "columns": 13,
        "rows": 5
       }
      },
      "text/html": [
       "<div>\n",
       "<style scoped>\n",
       "    .dataframe tbody tr th:only-of-type {\n",
       "        vertical-align: middle;\n",
       "    }\n",
       "\n",
       "    .dataframe tbody tr th {\n",
       "        vertical-align: top;\n",
       "    }\n",
       "\n",
       "    .dataframe thead th {\n",
       "        text-align: right;\n",
       "    }\n",
       "</style>\n",
       "<table border=\"1\" class=\"dataframe\">\n",
       "  <thead>\n",
       "    <tr style=\"text-align: right;\">\n",
       "      <th></th>\n",
       "      <th>price</th>\n",
       "      <th>area</th>\n",
       "      <th>bedrooms</th>\n",
       "      <th>bathrooms</th>\n",
       "      <th>stories</th>\n",
       "      <th>mainroad</th>\n",
       "      <th>guestroom</th>\n",
       "      <th>basement</th>\n",
       "      <th>hotwaterheating</th>\n",
       "      <th>airconditioning</th>\n",
       "      <th>parking</th>\n",
       "      <th>prefarea</th>\n",
       "      <th>furnishingstatus</th>\n",
       "    </tr>\n",
       "  </thead>\n",
       "  <tbody>\n",
       "    <tr>\n",
       "      <th>540</th>\n",
       "      <td>1820000</td>\n",
       "      <td>3000</td>\n",
       "      <td>2</td>\n",
       "      <td>1</td>\n",
       "      <td>1</td>\n",
       "      <td>yes</td>\n",
       "      <td>no</td>\n",
       "      <td>yes</td>\n",
       "      <td>no</td>\n",
       "      <td>no</td>\n",
       "      <td>2</td>\n",
       "      <td>no</td>\n",
       "      <td>unfurnished</td>\n",
       "    </tr>\n",
       "    <tr>\n",
       "      <th>541</th>\n",
       "      <td>1767150</td>\n",
       "      <td>2400</td>\n",
       "      <td>3</td>\n",
       "      <td>1</td>\n",
       "      <td>1</td>\n",
       "      <td>no</td>\n",
       "      <td>no</td>\n",
       "      <td>no</td>\n",
       "      <td>no</td>\n",
       "      <td>no</td>\n",
       "      <td>0</td>\n",
       "      <td>no</td>\n",
       "      <td>semi-furnished</td>\n",
       "    </tr>\n",
       "    <tr>\n",
       "      <th>542</th>\n",
       "      <td>1750000</td>\n",
       "      <td>3620</td>\n",
       "      <td>2</td>\n",
       "      <td>1</td>\n",
       "      <td>1</td>\n",
       "      <td>yes</td>\n",
       "      <td>no</td>\n",
       "      <td>no</td>\n",
       "      <td>no</td>\n",
       "      <td>no</td>\n",
       "      <td>0</td>\n",
       "      <td>no</td>\n",
       "      <td>unfurnished</td>\n",
       "    </tr>\n",
       "    <tr>\n",
       "      <th>543</th>\n",
       "      <td>1750000</td>\n",
       "      <td>2910</td>\n",
       "      <td>3</td>\n",
       "      <td>1</td>\n",
       "      <td>1</td>\n",
       "      <td>no</td>\n",
       "      <td>no</td>\n",
       "      <td>no</td>\n",
       "      <td>no</td>\n",
       "      <td>no</td>\n",
       "      <td>0</td>\n",
       "      <td>no</td>\n",
       "      <td>furnished</td>\n",
       "    </tr>\n",
       "    <tr>\n",
       "      <th>544</th>\n",
       "      <td>1750000</td>\n",
       "      <td>3850</td>\n",
       "      <td>3</td>\n",
       "      <td>1</td>\n",
       "      <td>2</td>\n",
       "      <td>yes</td>\n",
       "      <td>no</td>\n",
       "      <td>no</td>\n",
       "      <td>no</td>\n",
       "      <td>no</td>\n",
       "      <td>0</td>\n",
       "      <td>no</td>\n",
       "      <td>unfurnished</td>\n",
       "    </tr>\n",
       "  </tbody>\n",
       "</table>\n",
       "</div>"
      ],
      "text/plain": [
       "       price  area  bedrooms  bathrooms  stories mainroad guestroom basement  \\\n",
       "540  1820000  3000         2          1        1      yes        no      yes   \n",
       "541  1767150  2400         3          1        1       no        no       no   \n",
       "542  1750000  3620         2          1        1      yes        no       no   \n",
       "543  1750000  2910         3          1        1       no        no       no   \n",
       "544  1750000  3850         3          1        2      yes        no       no   \n",
       "\n",
       "    hotwaterheating airconditioning  parking prefarea furnishingstatus  \n",
       "540              no              no        2       no      unfurnished  \n",
       "541              no              no        0       no   semi-furnished  \n",
       "542              no              no        0       no      unfurnished  \n",
       "543              no              no        0       no        furnished  \n",
       "544              no              no        0       no      unfurnished  "
      ]
     },
     "execution_count": 55,
     "metadata": {},
     "output_type": "execute_result"
    }
   ],
   "source": [
    "df.tail()"
   ]
  },
  {
   "cell_type": "code",
   "execution_count": 56,
   "id": "b9c8b73a",
   "metadata": {},
   "outputs": [
    {
     "data": {
      "application/vnd.microsoft.datawrangler.viewer.v0+json": {
       "columns": [
        {
         "name": "index",
         "rawType": "object",
         "type": "string"
        },
        {
         "name": "price",
         "rawType": "float64",
         "type": "float"
        },
        {
         "name": "area",
         "rawType": "float64",
         "type": "float"
        },
        {
         "name": "bedrooms",
         "rawType": "float64",
         "type": "float"
        },
        {
         "name": "bathrooms",
         "rawType": "float64",
         "type": "float"
        },
        {
         "name": "stories",
         "rawType": "float64",
         "type": "float"
        },
        {
         "name": "parking",
         "rawType": "float64",
         "type": "float"
        }
       ],
       "ref": "fd02a4db-e15c-47f0-a4a7-a421894a71cb",
       "rows": [
        [
         "count",
         "545.0",
         "545.0",
         "545.0",
         "545.0",
         "545.0",
         "545.0"
        ],
        [
         "mean",
         "4766729.247706422",
         "5150.54128440367",
         "2.9651376146788992",
         "1.2862385321100918",
         "1.8055045871559634",
         "0.6935779816513762"
        ],
        [
         "std",
         "1870439.615657394",
         "2170.141022508803",
         "0.738063860568575",
         "0.502469616053218",
         "0.8674924629255298",
         "0.8615857504605449"
        ],
        [
         "min",
         "1750000.0",
         "1650.0",
         "1.0",
         "1.0",
         "1.0",
         "0.0"
        ],
        [
         "25%",
         "3430000.0",
         "3600.0",
         "2.0",
         "1.0",
         "1.0",
         "0.0"
        ],
        [
         "50%",
         "4340000.0",
         "4600.0",
         "3.0",
         "1.0",
         "2.0",
         "0.0"
        ],
        [
         "75%",
         "5740000.0",
         "6360.0",
         "3.0",
         "2.0",
         "2.0",
         "1.0"
        ],
        [
         "max",
         "13300000.0",
         "16200.0",
         "6.0",
         "4.0",
         "4.0",
         "3.0"
        ]
       ],
       "shape": {
        "columns": 6,
        "rows": 8
       }
      },
      "text/html": [
       "<div>\n",
       "<style scoped>\n",
       "    .dataframe tbody tr th:only-of-type {\n",
       "        vertical-align: middle;\n",
       "    }\n",
       "\n",
       "    .dataframe tbody tr th {\n",
       "        vertical-align: top;\n",
       "    }\n",
       "\n",
       "    .dataframe thead th {\n",
       "        text-align: right;\n",
       "    }\n",
       "</style>\n",
       "<table border=\"1\" class=\"dataframe\">\n",
       "  <thead>\n",
       "    <tr style=\"text-align: right;\">\n",
       "      <th></th>\n",
       "      <th>price</th>\n",
       "      <th>area</th>\n",
       "      <th>bedrooms</th>\n",
       "      <th>bathrooms</th>\n",
       "      <th>stories</th>\n",
       "      <th>parking</th>\n",
       "    </tr>\n",
       "  </thead>\n",
       "  <tbody>\n",
       "    <tr>\n",
       "      <th>count</th>\n",
       "      <td>5.450000e+02</td>\n",
       "      <td>545.000000</td>\n",
       "      <td>545.000000</td>\n",
       "      <td>545.000000</td>\n",
       "      <td>545.000000</td>\n",
       "      <td>545.000000</td>\n",
       "    </tr>\n",
       "    <tr>\n",
       "      <th>mean</th>\n",
       "      <td>4.766729e+06</td>\n",
       "      <td>5150.541284</td>\n",
       "      <td>2.965138</td>\n",
       "      <td>1.286239</td>\n",
       "      <td>1.805505</td>\n",
       "      <td>0.693578</td>\n",
       "    </tr>\n",
       "    <tr>\n",
       "      <th>std</th>\n",
       "      <td>1.870440e+06</td>\n",
       "      <td>2170.141023</td>\n",
       "      <td>0.738064</td>\n",
       "      <td>0.502470</td>\n",
       "      <td>0.867492</td>\n",
       "      <td>0.861586</td>\n",
       "    </tr>\n",
       "    <tr>\n",
       "      <th>min</th>\n",
       "      <td>1.750000e+06</td>\n",
       "      <td>1650.000000</td>\n",
       "      <td>1.000000</td>\n",
       "      <td>1.000000</td>\n",
       "      <td>1.000000</td>\n",
       "      <td>0.000000</td>\n",
       "    </tr>\n",
       "    <tr>\n",
       "      <th>25%</th>\n",
       "      <td>3.430000e+06</td>\n",
       "      <td>3600.000000</td>\n",
       "      <td>2.000000</td>\n",
       "      <td>1.000000</td>\n",
       "      <td>1.000000</td>\n",
       "      <td>0.000000</td>\n",
       "    </tr>\n",
       "    <tr>\n",
       "      <th>50%</th>\n",
       "      <td>4.340000e+06</td>\n",
       "      <td>4600.000000</td>\n",
       "      <td>3.000000</td>\n",
       "      <td>1.000000</td>\n",
       "      <td>2.000000</td>\n",
       "      <td>0.000000</td>\n",
       "    </tr>\n",
       "    <tr>\n",
       "      <th>75%</th>\n",
       "      <td>5.740000e+06</td>\n",
       "      <td>6360.000000</td>\n",
       "      <td>3.000000</td>\n",
       "      <td>2.000000</td>\n",
       "      <td>2.000000</td>\n",
       "      <td>1.000000</td>\n",
       "    </tr>\n",
       "    <tr>\n",
       "      <th>max</th>\n",
       "      <td>1.330000e+07</td>\n",
       "      <td>16200.000000</td>\n",
       "      <td>6.000000</td>\n",
       "      <td>4.000000</td>\n",
       "      <td>4.000000</td>\n",
       "      <td>3.000000</td>\n",
       "    </tr>\n",
       "  </tbody>\n",
       "</table>\n",
       "</div>"
      ],
      "text/plain": [
       "              price          area    bedrooms   bathrooms     stories  \\\n",
       "count  5.450000e+02    545.000000  545.000000  545.000000  545.000000   \n",
       "mean   4.766729e+06   5150.541284    2.965138    1.286239    1.805505   \n",
       "std    1.870440e+06   2170.141023    0.738064    0.502470    0.867492   \n",
       "min    1.750000e+06   1650.000000    1.000000    1.000000    1.000000   \n",
       "25%    3.430000e+06   3600.000000    2.000000    1.000000    1.000000   \n",
       "50%    4.340000e+06   4600.000000    3.000000    1.000000    2.000000   \n",
       "75%    5.740000e+06   6360.000000    3.000000    2.000000    2.000000   \n",
       "max    1.330000e+07  16200.000000    6.000000    4.000000    4.000000   \n",
       "\n",
       "          parking  \n",
       "count  545.000000  \n",
       "mean     0.693578  \n",
       "std      0.861586  \n",
       "min      0.000000  \n",
       "25%      0.000000  \n",
       "50%      0.000000  \n",
       "75%      1.000000  \n",
       "max      3.000000  "
      ]
     },
     "execution_count": 56,
     "metadata": {},
     "output_type": "execute_result"
    }
   ],
   "source": [
    "df.describe()"
   ]
  },
  {
   "cell_type": "code",
   "execution_count": 57,
   "id": "af643964",
   "metadata": {},
   "outputs": [
    {
     "name": "stdout",
     "output_type": "stream",
     "text": [
      "<class 'pandas.core.frame.DataFrame'>\n",
      "RangeIndex: 545 entries, 0 to 544\n",
      "Data columns (total 13 columns):\n",
      " #   Column            Non-Null Count  Dtype \n",
      "---  ------            --------------  ----- \n",
      " 0   price             545 non-null    int64 \n",
      " 1   area              545 non-null    int64 \n",
      " 2   bedrooms          545 non-null    int64 \n",
      " 3   bathrooms         545 non-null    int64 \n",
      " 4   stories           545 non-null    int64 \n",
      " 5   mainroad          545 non-null    object\n",
      " 6   guestroom         545 non-null    object\n",
      " 7   basement          545 non-null    object\n",
      " 8   hotwaterheating   545 non-null    object\n",
      " 9   airconditioning   545 non-null    object\n",
      " 10  parking           545 non-null    int64 \n",
      " 11  prefarea          545 non-null    object\n",
      " 12  furnishingstatus  545 non-null    object\n",
      "dtypes: int64(6), object(7)\n",
      "memory usage: 55.5+ KB\n"
     ]
    }
   ],
   "source": [
    "df.info()"
   ]
  },
  {
   "cell_type": "markdown",
   "id": "4cd82d5e",
   "metadata": {},
   "source": [
    "### 3.Preprocessing"
   ]
  },
  {
   "cell_type": "markdown",
   "id": "55a4ee3b",
   "metadata": {},
   "source": [
    "3.1Handle missing values"
   ]
  },
  {
   "cell_type": "code",
   "execution_count": 58,
   "id": "59245536",
   "metadata": {},
   "outputs": [
    {
     "data": {
      "application/vnd.microsoft.datawrangler.viewer.v0+json": {
       "columns": [
        {
         "name": "index",
         "rawType": "object",
         "type": "string"
        },
        {
         "name": "0",
         "rawType": "int64",
         "type": "integer"
        }
       ],
       "ref": "28f28640-d852-45f9-8ed8-c26599f65f37",
       "rows": [
        [
         "price",
         "0"
        ],
        [
         "area",
         "0"
        ],
        [
         "bedrooms",
         "0"
        ],
        [
         "bathrooms",
         "0"
        ],
        [
         "stories",
         "0"
        ],
        [
         "mainroad",
         "0"
        ],
        [
         "guestroom",
         "0"
        ],
        [
         "basement",
         "0"
        ],
        [
         "hotwaterheating",
         "0"
        ],
        [
         "airconditioning",
         "0"
        ],
        [
         "parking",
         "0"
        ],
        [
         "prefarea",
         "0"
        ],
        [
         "furnishingstatus",
         "0"
        ]
       ],
       "shape": {
        "columns": 1,
        "rows": 13
       }
      },
      "text/plain": [
       "price               0\n",
       "area                0\n",
       "bedrooms            0\n",
       "bathrooms           0\n",
       "stories             0\n",
       "mainroad            0\n",
       "guestroom           0\n",
       "basement            0\n",
       "hotwaterheating     0\n",
       "airconditioning     0\n",
       "parking             0\n",
       "prefarea            0\n",
       "furnishingstatus    0\n",
       "dtype: int64"
      ]
     },
     "execution_count": 58,
     "metadata": {},
     "output_type": "execute_result"
    }
   ],
   "source": [
    "df.isna().sum().sort_values(ascending=False)"
   ]
  },
  {
   "cell_type": "markdown",
   "id": "09fd1ae5",
   "metadata": {},
   "source": [
    "3.2 Handle duplicated"
   ]
  },
  {
   "cell_type": "code",
   "execution_count": 59,
   "id": "91dc7698",
   "metadata": {},
   "outputs": [
    {
     "data": {
      "text/plain": [
       "0"
      ]
     },
     "execution_count": 59,
     "metadata": {},
     "output_type": "execute_result"
    }
   ],
   "source": [
    "df.duplicated().sum()"
   ]
  },
  {
   "cell_type": "code",
   "execution_count": 60,
   "id": "cc6ff406",
   "metadata": {},
   "outputs": [],
   "source": [
    "df.drop_duplicates(inplace=True)"
   ]
  },
  {
   "cell_type": "code",
   "execution_count": 61,
   "id": "bc7d6117",
   "metadata": {},
   "outputs": [
    {
     "data": {
      "text/plain": [
       "(545, 13)"
      ]
     },
     "execution_count": 61,
     "metadata": {},
     "output_type": "execute_result"
    }
   ],
   "source": [
    "df.shape"
   ]
  },
  {
   "cell_type": "code",
   "execution_count": 62,
   "id": "b9e779ee",
   "metadata": {},
   "outputs": [
    {
     "data": {
      "text/plain": [
       "13"
      ]
     },
     "execution_count": 62,
     "metadata": {},
     "output_type": "execute_result"
    }
   ],
   "source": [
    "df.columns.nunique()"
   ]
  },
  {
   "cell_type": "markdown",
   "id": "5ff7c374",
   "metadata": {},
   "source": [
    "3.3 Label Encode to all data"
   ]
  },
  {
   "cell_type": "markdown",
   "id": "2f25a516",
   "metadata": {},
   "source": [
    "4.1 Data before balance"
   ]
  },
  {
   "cell_type": "code",
   "execution_count": 63,
   "id": "61abda25",
   "metadata": {},
   "outputs": [
    {
     "data": {
      "text/plain": [
       "['mainroad',\n",
       " 'guestroom',\n",
       " 'basement',\n",
       " 'hotwaterheating',\n",
       " 'airconditioning',\n",
       " 'prefarea',\n",
       " 'furnishingstatus',\n",
       " 'bathrooms',\n",
       " 'stories',\n",
       " 'parking',\n",
       " 'bedrooms',\n",
       " 'price',\n",
       " 'area']"
      ]
     },
     "execution_count": 63,
     "metadata": {},
     "output_type": "execute_result"
    }
   ],
   "source": [
    "cols = list(df.nunique().sort_values().index[:])\n",
    "cols"
   ]
  },
  {
   "cell_type": "markdown",
   "id": "d500ff14",
   "metadata": {},
   "source": [
    "### Visulization"
   ]
  },
  {
   "cell_type": "code",
   "execution_count": 64,
   "id": "98234bf0",
   "metadata": {},
   "outputs": [
    {
     "data": {
      "image/png": "[encoded data removed]",
      "text/plain": [
       "<Figure size 3000x2000 with 13 Axes>"
      ]
     },
     "metadata": {},
     "output_type": "display_data"
    }
   ],
   "source": [
    "\n",
    "plt.figure(figsize=(30,20))\n",
    "for n , col in enumerate(cols) :\n",
    "    plt.subplot(4,4,n+1)\n",
    "    sns.countplot(data=df,x=col)\n",
    "    "
   ]
  },
  {
   "cell_type": "code",
   "execution_count": 65,
   "id": "0d52c27b",
   "metadata": {},
   "outputs": [
    {
     "data": {
      "text/plain": [
       "<Axes: xlabel='area', ylabel='Count'>"
      ]
     },
     "execution_count": 65,
     "metadata": {},
     "output_type": "execute_result"
    },
    {
     "data": {
      "image/png": "[encoded data removed]",
      "text/plain": [
       "<Figure size 640x480 with 1 Axes>"
      ]
     },
     "metadata": {},
     "output_type": "display_data"
    }
   ],
   "source": [
    "sns.histplot(data=df,x='area',kde=True)"
   ]
  },
  {
   "cell_type": "code",
   "execution_count": 66,
   "id": "0c15a82b",
   "metadata": {},
   "outputs": [
    {
     "data": {
      "text/plain": [
       "<Axes: xlabel='price', ylabel='Count'>"
      ]
     },
     "execution_count": 66,
     "metadata": {},
     "output_type": "execute_result"
    },
    {
     "data": {
      "image/png": "[encoded data removed]",
      "text/plain": [
       "<Figure size 640x480 with 1 Axes>"
      ]
     },
     "metadata": {},
     "output_type": "display_data"
    }
   ],
   "source": [
    "sns.histplot(data=df,x='price',kde=True) "
   ]
  },
  {
   "cell_type": "code",
   "execution_count": 67,
   "id": "e65e375f",
   "metadata": {},
   "outputs": [
    {
     "data": {
      "text/plain": [
       "<Axes: xlabel='price', ylabel='area'>"
      ]
     },
     "execution_count": 67,
     "metadata": {},
     "output_type": "execute_result"
    },
    {
     "data": {
      "image/png": "[encoded data removed]",
      "text/plain": [
       "<Figure size 640x480 with 1 Axes>"
      ]
     },
     "metadata": {},
     "output_type": "display_data"
    }
   ],
   "source": [
    "sns.scatterplot(data=df,x='price',y='area')"
   ]
  },
  {
   "cell_type": "markdown",
   "id": "a4a14872",
   "metadata": {},
   "source": [
    "3.3 Split data"
   ]
  },
  {
   "cell_type": "code",
   "execution_count": 68,
   "id": "cde1ee99",
   "metadata": {},
   "outputs": [],
   "source": [
    "X = df.drop(['price'], axis=1)\n",
    "y = df['price']"
   ]
  },
  {
   "cell_type": "code",
   "execution_count": 69,
   "id": "ac2c3815",
   "metadata": {},
   "outputs": [
    {
     "data": {
      "text/plain": [
       "<Axes: >"
      ]
     },
     "execution_count": 69,
     "metadata": {},
     "output_type": "execute_result"
    },
    {
     "data": {
      "image/png": "[encoded data removed]",
      "text/plain": [
       "<Figure size 640x480 with 1 Axes>"
      ]
     },
     "metadata": {},
     "output_type": "display_data"
    }
   ],
   "source": [
    "X.boxplot()"
   ]
  },
  {
   "cell_type": "code",
   "execution_count": 70,
   "id": "8ba0b854",
   "metadata": {},
   "outputs": [],
   "source": [
    "for c in X.select_dtypes(include='object').columns:\n",
    "    le = LabelEncoder()\n",
    "    X[c] = le.fit_transform(X[c].astype(str))\n"
   ]
  },
  {
   "cell_type": "code",
   "execution_count": 71,
   "id": "98cc65bb",
   "metadata": {},
   "outputs": [],
   "source": [
    "x_train1, x_test1, y_train, y_test = train_test_split(X, y, test_size=0.2, random_state=42)"
   ]
  },
  {
   "cell_type": "code",
   "execution_count": 72,
   "id": "24c980f3",
   "metadata": {},
   "outputs": [],
   "source": [
    "scaler = StandardScaler()\n",
    "x_train = scaler.fit_transform(x_train1)\n",
    "x_test = scaler.transform(x_test1)"
   ]
  },
  {
   "cell_type": "markdown",
   "id": "f46cd1c4",
   "metadata": {},
   "source": [
    "### 5.Train model"
   ]
  },
  {
   "cell_type": "code",
   "execution_count": 73,
   "id": "4b8b8e5a",
   "metadata": {},
   "outputs": [
    {
     "name": "stdout",
     "output_type": "stream",
     "text": [
      "Train Score:  0.9985402884288594\n",
      "Test Score:  0.4681689010023007\n"
     ]
    }
   ],
   "source": [
    "DT = DecisionTreeRegressor(random_state=42)\n",
    "DT.fit(x_train, y_train)\n",
    "print(\"Train Score: \",DT.score(x_train,y_train))\n",
    "print(\"Test Score: \",DT.score(x_test,y_test))\n",
    "y_pred_dt = DT.predict(x_test)"
   ]
  },
  {
   "cell_type": "code",
   "execution_count": 74,
   "id": "e5dfa2cb",
   "metadata": {},
   "outputs": [],
   "source": [
    "def evaluate(y_true, y_pred, model_name):\n",
    "    print(f\"\\n📊 {model_name} Evaluation\")\n",
    "    print(\"R² Score:\", r2_score(y_true, y_pred))\n",
    "    print(\"MAE     :\", mean_absolute_error(y_true, y_pred))\n",
    "    print(\"MSE     :\", mean_squared_error(y_true, y_pred))\n",
    "    print(\"RMSE    :\", np.sqrt(mean_squared_error(y_true, y_pred)))"
   ]
  },
  {
   "cell_type": "code",
   "execution_count": 75,
   "id": "2ef71509",
   "metadata": {},
   "outputs": [
    {
     "name": "stdout",
     "output_type": "stream",
     "text": [
      "\n",
      "📊 Decision Tree Regressor Evaluation\n",
      "R² Score: 0.4681689010023007\n",
      "MAE     : 1222399.0825688073\n",
      "MSE     : 2688177649082.569\n",
      "RMSE    : 1639566.2990811225\n"
     ]
    }
   ],
   "source": [
    "evaluate(y_test, y_pred_dt, \"Decision Tree Regressor\")"
   ]
  }
 ],
 "metadata": {
  "kernelspec": {
   "display_name": "base",
   "language": "python",
   "name": "python3"
  },
  "language_info": {
   "codemirror_mode": {
    "name": "ipython",
    "version": 3
   },
   "file_extension": ".py",
   "mimetype": "text/x-python",
   "name": "python",
   "nbconvert_exporter": "python",
   "pygments_lexer": "ipython3",
   "version": "3.12.7"
  }
 },
 "nbformat": 4,
 "nbformat_minor": 5
}
