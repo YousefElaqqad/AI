{
 "cells": [
  {
   "cell_type": "markdown",
   "id": "37d69067",
   "metadata": {},
   "source": [
    "### 1.Import"
   ]
  },
  {
   "cell_type": "code",
   "execution_count": 27,
   "id": "c80010ef",
   "metadata": {},
   "outputs": [],
   "source": [
    "import numpy as np\n",
    "import pandas as pd\n",
    "import matplotlib.pyplot as plt\n",
    "import seaborn as sns\n",
    "from sklearn.model_selection import train_test_split\n",
    "from sklearn.model_selection import StratifiedKFold\n",
    "from sklearn.preprocessing import LabelEncoder, StandardScaler\n",
    "from sklearn.linear_model import LogisticRegression\n",
    "from sklearn.naive_bayes import GaussianNB, MultinomialNB, BernoulliNB\n",
    "from sklearn.neighbors import KNeighborsClassifier\n",
    "from sklearn.tree import DecisionTreeClassifier\n",
    "from sklearn.ensemble import RandomForestClassifier\n",
    "from sklearn.svm import SVC\n",
    "from sklearn.metrics import accuracy_score,precision_score,recall_score,f1_score, confusion_matrix,classification_report\n",
    "from imblearn.over_sampling import SMOTE\n",
    "from sklearn.utils import resample"
   ]
  },
  {
   "cell_type": "markdown",
   "id": "32b744b6",
   "metadata": {},
   "source": [
    "1.1 Models"
   ]
  },
  {
   "cell_type": "code",
   "execution_count": 28,
   "id": "223fd0bb",
   "metadata": {},
   "outputs": [],
   "source": [
    "models = {\n",
    "    'Logistic Regression': LogisticRegression(max_iter=1000),\n",
    "    'Naive Bayes (Gaussian)': GaussianNB(),\n",
    "    # 'Naive Bayes (Multinomial)': MultinomialNB(),\n",
    "    'Naive Bayes (Bernoulli)': BernoulliNB(),\n",
    "    # 'KNN': KNeighborsClassifier(),\n",
    "    # 'Decision Tree': DecisionTreeClassifier(random_state=42),\n",
    "    # 'Random Forest': RandomForestClassifier(random_state=42),\n",
    "    # 'SVM': SVC(random_state=42)\n",
    "}"
   ]
  },
  {
   "cell_type": "markdown",
   "id": "e0debcaa",
   "metadata": {},
   "source": [
    "### 2.Load dataset"
   ]
  },
  {
   "cell_type": "code",
   "execution_count": 29,
   "id": "1deed597",
   "metadata": {},
   "outputs": [],
   "source": [
    "path=r\"C:\\Users\\mrtat\\Downloads\\NTI\\Data\\mushrooms.csv\""
   ]
  },
  {
   "cell_type": "code",
   "execution_count": 30,
   "id": "5049f5a3",
   "metadata": {},
   "outputs": [],
   "source": [
    "df = pd.read_csv(path)"
   ]
  },
  {
   "cell_type": "markdown",
   "id": "3ca4a804",
   "metadata": {},
   "source": [
    "2.1.Show Data"
   ]
  },
  {
   "cell_type": "code",
   "execution_count": 31,
   "id": "41a07481",
   "metadata": {},
   "outputs": [
    {
     "data": {
      "application/vnd.microsoft.datawrangler.viewer.v0+json": {
       "columns": [
        {
         "name": "index",
         "rawType": "int64",
         "type": "integer"
        },
        {
         "name": "class",
         "rawType": "object",
         "type": "string"
        },
        {
         "name": "cap-shape",
         "rawType": "object",
         "type": "string"
        },
        {
         "name": "cap-surface",
         "rawType": "object",
         "type": "string"
        },
        {
         "name": "cap-color",
         "rawType": "object",
         "type": "string"
        },
        {
         "name": "bruises",
         "rawType": "object",
         "type": "string"
        },
        {
         "name": "odor",
         "rawType": "object",
         "type": "string"
        },
        {
         "name": "gill-attachment",
         "rawType": "object",
         "type": "string"
        },
        {
         "name": "gill-spacing",
         "rawType": "object",
         "type": "string"
        },
        {
         "name": "gill-size",
         "rawType": "object",
         "type": "string"
        },
        {
         "name": "gill-color",
         "rawType": "object",
         "type": "string"
        },
        {
         "name": "stalk-shape",
         "rawType": "object",
         "type": "string"
        },
        {
         "name": "stalk-root",
         "rawType": "object",
         "type": "string"
        },
        {
         "name": "stalk-surface-above-ring",
         "rawType": "object",
         "type": "string"
        },
        {
         "name": "stalk-surface-below-ring",
         "rawType": "object",
         "type": "string"
        },
        {
         "name": "stalk-color-above-ring",
         "rawType": "object",
         "type": "string"
        },
        {
         "name": "stalk-color-below-ring",
         "rawType": "object",
         "type": "string"
        },
        {
         "name": "veil-type",
         "rawType": "object",
         "type": "string"
        },
        {
         "name": "veil-color",
         "rawType": "object",
         "type": "string"
        },
        {
         "name": "ring-number",
         "rawType": "object",
         "type": "string"
        },
        {
         "name": "ring-type",
         "rawType": "object",
         "type": "string"
        },
        {
         "name": "spore-print-color",
         "rawType": "object",
         "type": "string"
        },
        {
         "name": "population",
         "rawType": "object",
         "type": "string"
        },
        {
         "name": "habitat",
         "rawType": "object",
         "type": "string"
        }
       ],
       "ref": "4d8a3b4c-c2da-4c00-9a84-75622bf9269c",
       "rows": [
        [
         "0",
         "p",
         "x",
         "s",
         "n",
         "t",
         "p",
         "f",
         "c",
         "n",
         "k",
         "e",
         "e",
         "s",
         "s",
         "w",
         "w",
         "p",
         "w",
         "o",
         "p",
         "k",
         "s",
         "u"
        ],
        [
         "1",
         "e",
         "x",
         "s",
         "y",
         "t",
         "a",
         "f",
         "c",
         "b",
         "k",
         "e",
         "c",
         "s",
         "s",
         "w",
         "w",
         "p",
         "w",
         "o",
         "p",
         "n",
         "n",
         "g"
        ],
        [
         "2",
         "e",
         "b",
         "s",
         "w",
         "t",
         "l",
         "f",
         "c",
         "b",
         "n",
         "e",
         "c",
         "s",
         "s",
         "w",
         "w",
         "p",
         "w",
         "o",
         "p",
         "n",
         "n",
         "m"
        ],
        [
         "3",
         "p",
         "x",
         "y",
         "w",
         "t",
         "p",
         "f",
         "c",
         "n",
         "n",
         "e",
         "e",
         "s",
         "s",
         "w",
         "w",
         "p",
         "w",
         "o",
         "p",
         "k",
         "s",
         "u"
        ],
        [
         "4",
         "e",
         "x",
         "s",
         "g",
         "f",
         "n",
         "f",
         "w",
         "b",
         "k",
         "t",
         "e",
         "s",
         "s",
         "w",
         "w",
         "p",
         "w",
         "o",
         "e",
         "n",
         "a",
         "g"
        ]
       ],
       "shape": {
        "columns": 23,
        "rows": 5
       }
      },
      "text/html": [
       "<div>\n",
       "<style scoped>\n",
       "    .dataframe tbody tr th:only-of-type {\n",
       "        vertical-align: middle;\n",
       "    }\n",
       "\n",
       "    .dataframe tbody tr th {\n",
       "        vertical-align: top;\n",
       "    }\n",
       "\n",
       "    .dataframe thead th {\n",
       "        text-align: right;\n",
       "    }\n",
       "</style>\n",
       "<table border=\"1\" class=\"dataframe\">\n",
       "  <thead>\n",
       "    <tr style=\"text-align: right;\">\n",
       "      <th></th>\n",
       "      <th>class</th>\n",
       "      <th>cap-shape</th>\n",
       "      <th>cap-surface</th>\n",
       "      <th>cap-color</th>\n",
       "      <th>bruises</th>\n",
       "      <th>odor</th>\n",
       "      <th>gill-attachment</th>\n",
       "      <th>gill-spacing</th>\n",
       "      <th>gill-size</th>\n",
       "      <th>gill-color</th>\n",
       "      <th>...</th>\n",
       "      <th>stalk-surface-below-ring</th>\n",
       "      <th>stalk-color-above-ring</th>\n",
       "      <th>stalk-color-below-ring</th>\n",
       "      <th>veil-type</th>\n",
       "      <th>veil-color</th>\n",
       "      <th>ring-number</th>\n",
       "      <th>ring-type</th>\n",
       "      <th>spore-print-color</th>\n",
       "      <th>population</th>\n",
       "      <th>habitat</th>\n",
       "    </tr>\n",
       "  </thead>\n",
       "  <tbody>\n",
       "    <tr>\n",
       "      <th>0</th>\n",
       "      <td>p</td>\n",
       "      <td>x</td>\n",
       "      <td>s</td>\n",
       "      <td>n</td>\n",
       "      <td>t</td>\n",
       "      <td>p</td>\n",
       "      <td>f</td>\n",
       "      <td>c</td>\n",
       "      <td>n</td>\n",
       "      <td>k</td>\n",
       "      <td>...</td>\n",
       "      <td>s</td>\n",
       "      <td>w</td>\n",
       "      <td>w</td>\n",
       "      <td>p</td>\n",
       "      <td>w</td>\n",
       "      <td>o</td>\n",
       "      <td>p</td>\n",
       "      <td>k</td>\n",
       "      <td>s</td>\n",
       "      <td>u</td>\n",
       "    </tr>\n",
       "    <tr>\n",
       "      <th>1</th>\n",
       "      <td>e</td>\n",
       "      <td>x</td>\n",
       "      <td>s</td>\n",
       "      <td>y</td>\n",
       "      <td>t</td>\n",
       "      <td>a</td>\n",
       "      <td>f</td>\n",
       "      <td>c</td>\n",
       "      <td>b</td>\n",
       "      <td>k</td>\n",
       "      <td>...</td>\n",
       "      <td>s</td>\n",
       "      <td>w</td>\n",
       "      <td>w</td>\n",
       "      <td>p</td>\n",
       "      <td>w</td>\n",
       "      <td>o</td>\n",
       "      <td>p</td>\n",
       "      <td>n</td>\n",
       "      <td>n</td>\n",
       "      <td>g</td>\n",
       "    </tr>\n",
       "    <tr>\n",
       "      <th>2</th>\n",
       "      <td>e</td>\n",
       "      <td>b</td>\n",
       "      <td>s</td>\n",
       "      <td>w</td>\n",
       "      <td>t</td>\n",
       "      <td>l</td>\n",
       "      <td>f</td>\n",
       "      <td>c</td>\n",
       "      <td>b</td>\n",
       "      <td>n</td>\n",
       "      <td>...</td>\n",
       "      <td>s</td>\n",
       "      <td>w</td>\n",
       "      <td>w</td>\n",
       "      <td>p</td>\n",
       "      <td>w</td>\n",
       "      <td>o</td>\n",
       "      <td>p</td>\n",
       "      <td>n</td>\n",
       "      <td>n</td>\n",
       "      <td>m</td>\n",
       "    </tr>\n",
       "    <tr>\n",
       "      <th>3</th>\n",
       "      <td>p</td>\n",
       "      <td>x</td>\n",
       "      <td>y</td>\n",
       "      <td>w</td>\n",
       "      <td>t</td>\n",
       "      <td>p</td>\n",
       "      <td>f</td>\n",
       "      <td>c</td>\n",
       "      <td>n</td>\n",
       "      <td>n</td>\n",
       "      <td>...</td>\n",
       "      <td>s</td>\n",
       "      <td>w</td>\n",
       "      <td>w</td>\n",
       "      <td>p</td>\n",
       "      <td>w</td>\n",
       "      <td>o</td>\n",
       "      <td>p</td>\n",
       "      <td>k</td>\n",
       "      <td>s</td>\n",
       "      <td>u</td>\n",
       "    </tr>\n",
       "    <tr>\n",
       "      <th>4</th>\n",
       "      <td>e</td>\n",
       "      <td>x</td>\n",
       "      <td>s</td>\n",
       "      <td>g</td>\n",
       "      <td>f</td>\n",
       "      <td>n</td>\n",
       "      <td>f</td>\n",
       "      <td>w</td>\n",
       "      <td>b</td>\n",
       "      <td>k</td>\n",
       "      <td>...</td>\n",
       "      <td>s</td>\n",
       "      <td>w</td>\n",
       "      <td>w</td>\n",
       "      <td>p</td>\n",
       "      <td>w</td>\n",
       "      <td>o</td>\n",
       "      <td>e</td>\n",
       "      <td>n</td>\n",
       "      <td>a</td>\n",
       "      <td>g</td>\n",
       "    </tr>\n",
       "  </tbody>\n",
       "</table>\n",
       "<p>5 rows × 23 columns</p>\n",
       "</div>"
      ],
      "text/plain": [
       "  class cap-shape cap-surface cap-color bruises odor gill-attachment  \\\n",
       "0     p         x           s         n       t    p               f   \n",
       "1     e         x           s         y       t    a               f   \n",
       "2     e         b           s         w       t    l               f   \n",
       "3     p         x           y         w       t    p               f   \n",
       "4     e         x           s         g       f    n               f   \n",
       "\n",
       "  gill-spacing gill-size gill-color  ... stalk-surface-below-ring  \\\n",
       "0            c         n          k  ...                        s   \n",
       "1            c         b          k  ...                        s   \n",
       "2            c         b          n  ...                        s   \n",
       "3            c         n          n  ...                        s   \n",
       "4            w         b          k  ...                        s   \n",
       "\n",
       "  stalk-color-above-ring stalk-color-below-ring veil-type veil-color  \\\n",
       "0                      w                      w         p          w   \n",
       "1                      w                      w         p          w   \n",
       "2                      w                      w         p          w   \n",
       "3                      w                      w         p          w   \n",
       "4                      w                      w         p          w   \n",
       "\n",
       "  ring-number ring-type spore-print-color population habitat  \n",
       "0           o         p                 k          s       u  \n",
       "1           o         p                 n          n       g  \n",
       "2           o         p                 n          n       m  \n",
       "3           o         p                 k          s       u  \n",
       "4           o         e                 n          a       g  \n",
       "\n",
       "[5 rows x 23 columns]"
      ]
     },
     "execution_count": 31,
     "metadata": {},
     "output_type": "execute_result"
    }
   ],
   "source": [
    "df.head()"
   ]
  },
  {
   "cell_type": "code",
   "execution_count": 32,
   "id": "652371d2",
   "metadata": {},
   "outputs": [
    {
     "data": {
      "application/vnd.microsoft.datawrangler.viewer.v0+json": {
       "columns": [
        {
         "name": "index",
         "rawType": "int64",
         "type": "integer"
        },
        {
         "name": "class",
         "rawType": "object",
         "type": "string"
        },
        {
         "name": "cap-shape",
         "rawType": "object",
         "type": "string"
        },
        {
         "name": "cap-surface",
         "rawType": "object",
         "type": "string"
        },
        {
         "name": "cap-color",
         "rawType": "object",
         "type": "string"
        },
        {
         "name": "bruises",
         "rawType": "object",
         "type": "string"
        },
        {
         "name": "odor",
         "rawType": "object",
         "type": "string"
        },
        {
         "name": "gill-attachment",
         "rawType": "object",
         "type": "string"
        },
        {
         "name": "gill-spacing",
         "rawType": "object",
         "type": "string"
        },
        {
         "name": "gill-size",
         "rawType": "object",
         "type": "string"
        },
        {
         "name": "gill-color",
         "rawType": "object",
         "type": "string"
        },
        {
         "name": "stalk-shape",
         "rawType": "object",
         "type": "string"
        },
        {
         "name": "stalk-root",
         "rawType": "object",
         "type": "string"
        },
        {
         "name": "stalk-surface-above-ring",
         "rawType": "object",
         "type": "string"
        },
        {
         "name": "stalk-surface-below-ring",
         "rawType": "object",
         "type": "string"
        },
        {
         "name": "stalk-color-above-ring",
         "rawType": "object",
         "type": "string"
        },
        {
         "name": "stalk-color-below-ring",
         "rawType": "object",
         "type": "string"
        },
        {
         "name": "veil-type",
         "rawType": "object",
         "type": "string"
        },
        {
         "name": "veil-color",
         "rawType": "object",
         "type": "string"
        },
        {
         "name": "ring-number",
         "rawType": "object",
         "type": "string"
        },
        {
         "name": "ring-type",
         "rawType": "object",
         "type": "string"
        },
        {
         "name": "spore-print-color",
         "rawType": "object",
         "type": "string"
        },
        {
         "name": "population",
         "rawType": "object",
         "type": "string"
        },
        {
         "name": "habitat",
         "rawType": "object",
         "type": "string"
        }
       ],
       "ref": "a8cb31b0-e924-4d0c-875f-d1b40d2ebc38",
       "rows": [
        [
         "8119",
         "e",
         "k",
         "s",
         "n",
         "f",
         "n",
         "a",
         "c",
         "b",
         "y",
         "e",
         "?",
         "s",
         "s",
         "o",
         "o",
         "p",
         "o",
         "o",
         "p",
         "b",
         "c",
         "l"
        ],
        [
         "8120",
         "e",
         "x",
         "s",
         "n",
         "f",
         "n",
         "a",
         "c",
         "b",
         "y",
         "e",
         "?",
         "s",
         "s",
         "o",
         "o",
         "p",
         "n",
         "o",
         "p",
         "b",
         "v",
         "l"
        ],
        [
         "8121",
         "e",
         "f",
         "s",
         "n",
         "f",
         "n",
         "a",
         "c",
         "b",
         "n",
         "e",
         "?",
         "s",
         "s",
         "o",
         "o",
         "p",
         "o",
         "o",
         "p",
         "b",
         "c",
         "l"
        ],
        [
         "8122",
         "p",
         "k",
         "y",
         "n",
         "f",
         "y",
         "f",
         "c",
         "n",
         "b",
         "t",
         "?",
         "s",
         "k",
         "w",
         "w",
         "p",
         "w",
         "o",
         "e",
         "w",
         "v",
         "l"
        ],
        [
         "8123",
         "e",
         "x",
         "s",
         "n",
         "f",
         "n",
         "a",
         "c",
         "b",
         "y",
         "e",
         "?",
         "s",
         "s",
         "o",
         "o",
         "p",
         "o",
         "o",
         "p",
         "o",
         "c",
         "l"
        ]
       ],
       "shape": {
        "columns": 23,
        "rows": 5
       }
      },
      "text/html": [
       "<div>\n",
       "<style scoped>\n",
       "    .dataframe tbody tr th:only-of-type {\n",
       "        vertical-align: middle;\n",
       "    }\n",
       "\n",
       "    .dataframe tbody tr th {\n",
       "        vertical-align: top;\n",
       "    }\n",
       "\n",
       "    .dataframe thead th {\n",
       "        text-align: right;\n",
       "    }\n",
       "</style>\n",
       "<table border=\"1\" class=\"dataframe\">\n",
       "  <thead>\n",
       "    <tr style=\"text-align: right;\">\n",
       "      <th></th>\n",
       "      <th>class</th>\n",
       "      <th>cap-shape</th>\n",
       "      <th>cap-surface</th>\n",
       "      <th>cap-color</th>\n",
       "      <th>bruises</th>\n",
       "      <th>odor</th>\n",
       "      <th>gill-attachment</th>\n",
       "      <th>gill-spacing</th>\n",
       "      <th>gill-size</th>\n",
       "      <th>gill-color</th>\n",
       "      <th>...</th>\n",
       "      <th>stalk-surface-below-ring</th>\n",
       "      <th>stalk-color-above-ring</th>\n",
       "      <th>stalk-color-below-ring</th>\n",
       "      <th>veil-type</th>\n",
       "      <th>veil-color</th>\n",
       "      <th>ring-number</th>\n",
       "      <th>ring-type</th>\n",
       "      <th>spore-print-color</th>\n",
       "      <th>population</th>\n",
       "      <th>habitat</th>\n",
       "    </tr>\n",
       "  </thead>\n",
       "  <tbody>\n",
       "    <tr>\n",
       "      <th>8119</th>\n",
       "      <td>e</td>\n",
       "      <td>k</td>\n",
       "      <td>s</td>\n",
       "      <td>n</td>\n",
       "      <td>f</td>\n",
       "      <td>n</td>\n",
       "      <td>a</td>\n",
       "      <td>c</td>\n",
       "      <td>b</td>\n",
       "      <td>y</td>\n",
       "      <td>...</td>\n",
       "      <td>s</td>\n",
       "      <td>o</td>\n",
       "      <td>o</td>\n",
       "      <td>p</td>\n",
       "      <td>o</td>\n",
       "      <td>o</td>\n",
       "      <td>p</td>\n",
       "      <td>b</td>\n",
       "      <td>c</td>\n",
       "      <td>l</td>\n",
       "    </tr>\n",
       "    <tr>\n",
       "      <th>8120</th>\n",
       "      <td>e</td>\n",
       "      <td>x</td>\n",
       "      <td>s</td>\n",
       "      <td>n</td>\n",
       "      <td>f</td>\n",
       "      <td>n</td>\n",
       "      <td>a</td>\n",
       "      <td>c</td>\n",
       "      <td>b</td>\n",
       "      <td>y</td>\n",
       "      <td>...</td>\n",
       "      <td>s</td>\n",
       "      <td>o</td>\n",
       "      <td>o</td>\n",
       "      <td>p</td>\n",
       "      <td>n</td>\n",
       "      <td>o</td>\n",
       "      <td>p</td>\n",
       "      <td>b</td>\n",
       "      <td>v</td>\n",
       "      <td>l</td>\n",
       "    </tr>\n",
       "    <tr>\n",
       "      <th>8121</th>\n",
       "      <td>e</td>\n",
       "      <td>f</td>\n",
       "      <td>s</td>\n",
       "      <td>n</td>\n",
       "      <td>f</td>\n",
       "      <td>n</td>\n",
       "      <td>a</td>\n",
       "      <td>c</td>\n",
       "      <td>b</td>\n",
       "      <td>n</td>\n",
       "      <td>...</td>\n",
       "      <td>s</td>\n",
       "      <td>o</td>\n",
       "      <td>o</td>\n",
       "      <td>p</td>\n",
       "      <td>o</td>\n",
       "      <td>o</td>\n",
       "      <td>p</td>\n",
       "      <td>b</td>\n",
       "      <td>c</td>\n",
       "      <td>l</td>\n",
       "    </tr>\n",
       "    <tr>\n",
       "      <th>8122</th>\n",
       "      <td>p</td>\n",
       "      <td>k</td>\n",
       "      <td>y</td>\n",
       "      <td>n</td>\n",
       "      <td>f</td>\n",
       "      <td>y</td>\n",
       "      <td>f</td>\n",
       "      <td>c</td>\n",
       "      <td>n</td>\n",
       "      <td>b</td>\n",
       "      <td>...</td>\n",
       "      <td>k</td>\n",
       "      <td>w</td>\n",
       "      <td>w</td>\n",
       "      <td>p</td>\n",
       "      <td>w</td>\n",
       "      <td>o</td>\n",
       "      <td>e</td>\n",
       "      <td>w</td>\n",
       "      <td>v</td>\n",
       "      <td>l</td>\n",
       "    </tr>\n",
       "    <tr>\n",
       "      <th>8123</th>\n",
       "      <td>e</td>\n",
       "      <td>x</td>\n",
       "      <td>s</td>\n",
       "      <td>n</td>\n",
       "      <td>f</td>\n",
       "      <td>n</td>\n",
       "      <td>a</td>\n",
       "      <td>c</td>\n",
       "      <td>b</td>\n",
       "      <td>y</td>\n",
       "      <td>...</td>\n",
       "      <td>s</td>\n",
       "      <td>o</td>\n",
       "      <td>o</td>\n",
       "      <td>p</td>\n",
       "      <td>o</td>\n",
       "      <td>o</td>\n",
       "      <td>p</td>\n",
       "      <td>o</td>\n",
       "      <td>c</td>\n",
       "      <td>l</td>\n",
       "    </tr>\n",
       "  </tbody>\n",
       "</table>\n",
       "<p>5 rows × 23 columns</p>\n",
       "</div>"
      ],
      "text/plain": [
       "     class cap-shape cap-surface cap-color bruises odor gill-attachment  \\\n",
       "8119     e         k           s         n       f    n               a   \n",
       "8120     e         x           s         n       f    n               a   \n",
       "8121     e         f           s         n       f    n               a   \n",
       "8122     p         k           y         n       f    y               f   \n",
       "8123     e         x           s         n       f    n               a   \n",
       "\n",
       "     gill-spacing gill-size gill-color  ... stalk-surface-below-ring  \\\n",
       "8119            c         b          y  ...                        s   \n",
       "8120            c         b          y  ...                        s   \n",
       "8121            c         b          n  ...                        s   \n",
       "8122            c         n          b  ...                        k   \n",
       "8123            c         b          y  ...                        s   \n",
       "\n",
       "     stalk-color-above-ring stalk-color-below-ring veil-type veil-color  \\\n",
       "8119                      o                      o         p          o   \n",
       "8120                      o                      o         p          n   \n",
       "8121                      o                      o         p          o   \n",
       "8122                      w                      w         p          w   \n",
       "8123                      o                      o         p          o   \n",
       "\n",
       "     ring-number ring-type spore-print-color population habitat  \n",
       "8119           o         p                 b          c       l  \n",
       "8120           o         p                 b          v       l  \n",
       "8121           o         p                 b          c       l  \n",
       "8122           o         e                 w          v       l  \n",
       "8123           o         p                 o          c       l  \n",
       "\n",
       "[5 rows x 23 columns]"
      ]
     },
     "execution_count": 32,
     "metadata": {},
     "output_type": "execute_result"
    }
   ],
   "source": [
    "df.tail()"
   ]
  },
  {
   "cell_type": "code",
   "execution_count": 33,
   "id": "b9c8b73a",
   "metadata": {},
   "outputs": [
    {
     "data": {
      "application/vnd.microsoft.datawrangler.viewer.v0+json": {
       "columns": [
        {
         "name": "index",
         "rawType": "object",
         "type": "string"
        },
        {
         "name": "class",
         "rawType": "object",
         "type": "unknown"
        },
        {
         "name": "cap-shape",
         "rawType": "object",
         "type": "unknown"
        },
        {
         "name": "cap-surface",
         "rawType": "object",
         "type": "unknown"
        },
        {
         "name": "cap-color",
         "rawType": "object",
         "type": "unknown"
        },
        {
         "name": "bruises",
         "rawType": "object",
         "type": "unknown"
        },
        {
         "name": "odor",
         "rawType": "object",
         "type": "unknown"
        },
        {
         "name": "gill-attachment",
         "rawType": "object",
         "type": "unknown"
        },
        {
         "name": "gill-spacing",
         "rawType": "object",
         "type": "unknown"
        },
        {
         "name": "gill-size",
         "rawType": "object",
         "type": "unknown"
        },
        {
         "name": "gill-color",
         "rawType": "object",
         "type": "unknown"
        },
        {
         "name": "stalk-shape",
         "rawType": "object",
         "type": "unknown"
        },
        {
         "name": "stalk-root",
         "rawType": "object",
         "type": "unknown"
        },
        {
         "name": "stalk-surface-above-ring",
         "rawType": "object",
         "type": "unknown"
        },
        {
         "name": "stalk-surface-below-ring",
         "rawType": "object",
         "type": "unknown"
        },
        {
         "name": "stalk-color-above-ring",
         "rawType": "object",
         "type": "unknown"
        },
        {
         "name": "stalk-color-below-ring",
         "rawType": "object",
         "type": "unknown"
        },
        {
         "name": "veil-type",
         "rawType": "object",
         "type": "unknown"
        },
        {
         "name": "veil-color",
         "rawType": "object",
         "type": "unknown"
        },
        {
         "name": "ring-number",
         "rawType": "object",
         "type": "unknown"
        },
        {
         "name": "ring-type",
         "rawType": "object",
         "type": "unknown"
        },
        {
         "name": "spore-print-color",
         "rawType": "object",
         "type": "unknown"
        },
        {
         "name": "population",
         "rawType": "object",
         "type": "unknown"
        },
        {
         "name": "habitat",
         "rawType": "object",
         "type": "unknown"
        }
       ],
       "ref": "1390972b-36a2-4b4b-8eff-d09e20989d2b",
       "rows": [
        [
         "count",
         "8124",
         "8124",
         "8124",
         "8124",
         "8124",
         "8124",
         "8124",
         "8124",
         "8124",
         "8124",
         "8124",
         "8124",
         "8124",
         "8124",
         "8124",
         "8124",
         "8124",
         "8124",
         "8124",
         "8124",
         "8124",
         "8124",
         "8124"
        ],
        [
         "unique",
         "2",
         "6",
         "4",
         "10",
         "2",
         "9",
         "2",
         "2",
         "2",
         "12",
         "2",
         "5",
         "4",
         "4",
         "9",
         "9",
         "1",
         "4",
         "3",
         "5",
         "9",
         "6",
         "7"
        ],
        [
         "top",
         "e",
         "x",
         "y",
         "n",
         "f",
         "n",
         "f",
         "c",
         "b",
         "b",
         "t",
         "b",
         "s",
         "s",
         "w",
         "w",
         "p",
         "w",
         "o",
         "p",
         "w",
         "v",
         "d"
        ],
        [
         "freq",
         "4208",
         "3656",
         "3244",
         "2284",
         "4748",
         "3528",
         "7914",
         "6812",
         "5612",
         "1728",
         "4608",
         "3776",
         "5176",
         "4936",
         "4464",
         "4384",
         "8124",
         "7924",
         "7488",
         "3968",
         "2388",
         "4040",
         "3148"
        ]
       ],
       "shape": {
        "columns": 23,
        "rows": 4
       }
      },
      "text/html": [
       "<div>\n",
       "<style scoped>\n",
       "    .dataframe tbody tr th:only-of-type {\n",
       "        vertical-align: middle;\n",
       "    }\n",
       "\n",
       "    .dataframe tbody tr th {\n",
       "        vertical-align: top;\n",
       "    }\n",
       "\n",
       "    .dataframe thead th {\n",
       "        text-align: right;\n",
       "    }\n",
       "</style>\n",
       "<table border=\"1\" class=\"dataframe\">\n",
       "  <thead>\n",
       "    <tr style=\"text-align: right;\">\n",
       "      <th></th>\n",
       "      <th>class</th>\n",
       "      <th>cap-shape</th>\n",
       "      <th>cap-surface</th>\n",
       "      <th>cap-color</th>\n",
       "      <th>bruises</th>\n",
       "      <th>odor</th>\n",
       "      <th>gill-attachment</th>\n",
       "      <th>gill-spacing</th>\n",
       "      <th>gill-size</th>\n",
       "      <th>gill-color</th>\n",
       "      <th>...</th>\n",
       "      <th>stalk-surface-below-ring</th>\n",
       "      <th>stalk-color-above-ring</th>\n",
       "      <th>stalk-color-below-ring</th>\n",
       "      <th>veil-type</th>\n",
       "      <th>veil-color</th>\n",
       "      <th>ring-number</th>\n",
       "      <th>ring-type</th>\n",
       "      <th>spore-print-color</th>\n",
       "      <th>population</th>\n",
       "      <th>habitat</th>\n",
       "    </tr>\n",
       "  </thead>\n",
       "  <tbody>\n",
       "    <tr>\n",
       "      <th>count</th>\n",
       "      <td>8124</td>\n",
       "      <td>8124</td>\n",
       "      <td>8124</td>\n",
       "      <td>8124</td>\n",
       "      <td>8124</td>\n",
       "      <td>8124</td>\n",
       "      <td>8124</td>\n",
       "      <td>8124</td>\n",
       "      <td>8124</td>\n",
       "      <td>8124</td>\n",
       "      <td>...</td>\n",
       "      <td>8124</td>\n",
       "      <td>8124</td>\n",
       "      <td>8124</td>\n",
       "      <td>8124</td>\n",
       "      <td>8124</td>\n",
       "      <td>8124</td>\n",
       "      <td>8124</td>\n",
       "      <td>8124</td>\n",
       "      <td>8124</td>\n",
       "      <td>8124</td>\n",
       "    </tr>\n",
       "    <tr>\n",
       "      <th>unique</th>\n",
       "      <td>2</td>\n",
       "      <td>6</td>\n",
       "      <td>4</td>\n",
       "      <td>10</td>\n",
       "      <td>2</td>\n",
       "      <td>9</td>\n",
       "      <td>2</td>\n",
       "      <td>2</td>\n",
       "      <td>2</td>\n",
       "      <td>12</td>\n",
       "      <td>...</td>\n",
       "      <td>4</td>\n",
       "      <td>9</td>\n",
       "      <td>9</td>\n",
       "      <td>1</td>\n",
       "      <td>4</td>\n",
       "      <td>3</td>\n",
       "      <td>5</td>\n",
       "      <td>9</td>\n",
       "      <td>6</td>\n",
       "      <td>7</td>\n",
       "    </tr>\n",
       "    <tr>\n",
       "      <th>top</th>\n",
       "      <td>e</td>\n",
       "      <td>x</td>\n",
       "      <td>y</td>\n",
       "      <td>n</td>\n",
       "      <td>f</td>\n",
       "      <td>n</td>\n",
       "      <td>f</td>\n",
       "      <td>c</td>\n",
       "      <td>b</td>\n",
       "      <td>b</td>\n",
       "      <td>...</td>\n",
       "      <td>s</td>\n",
       "      <td>w</td>\n",
       "      <td>w</td>\n",
       "      <td>p</td>\n",
       "      <td>w</td>\n",
       "      <td>o</td>\n",
       "      <td>p</td>\n",
       "      <td>w</td>\n",
       "      <td>v</td>\n",
       "      <td>d</td>\n",
       "    </tr>\n",
       "    <tr>\n",
       "      <th>freq</th>\n",
       "      <td>4208</td>\n",
       "      <td>3656</td>\n",
       "      <td>3244</td>\n",
       "      <td>2284</td>\n",
       "      <td>4748</td>\n",
       "      <td>3528</td>\n",
       "      <td>7914</td>\n",
       "      <td>6812</td>\n",
       "      <td>5612</td>\n",
       "      <td>1728</td>\n",
       "      <td>...</td>\n",
       "      <td>4936</td>\n",
       "      <td>4464</td>\n",
       "      <td>4384</td>\n",
       "      <td>8124</td>\n",
       "      <td>7924</td>\n",
       "      <td>7488</td>\n",
       "      <td>3968</td>\n",
       "      <td>2388</td>\n",
       "      <td>4040</td>\n",
       "      <td>3148</td>\n",
       "    </tr>\n",
       "  </tbody>\n",
       "</table>\n",
       "<p>4 rows × 23 columns</p>\n",
       "</div>"
      ],
      "text/plain": [
       "       class cap-shape cap-surface cap-color bruises  odor gill-attachment  \\\n",
       "count   8124      8124        8124      8124    8124  8124            8124   \n",
       "unique     2         6           4        10       2     9               2   \n",
       "top        e         x           y         n       f     n               f   \n",
       "freq    4208      3656        3244      2284    4748  3528            7914   \n",
       "\n",
       "       gill-spacing gill-size gill-color  ... stalk-surface-below-ring  \\\n",
       "count          8124      8124       8124  ...                     8124   \n",
       "unique            2         2         12  ...                        4   \n",
       "top               c         b          b  ...                        s   \n",
       "freq           6812      5612       1728  ...                     4936   \n",
       "\n",
       "       stalk-color-above-ring stalk-color-below-ring veil-type veil-color  \\\n",
       "count                    8124                   8124      8124       8124   \n",
       "unique                      9                      9         1          4   \n",
       "top                         w                      w         p          w   \n",
       "freq                     4464                   4384      8124       7924   \n",
       "\n",
       "       ring-number ring-type spore-print-color population habitat  \n",
       "count         8124      8124              8124       8124    8124  \n",
       "unique           3         5                 9          6       7  \n",
       "top              o         p                 w          v       d  \n",
       "freq          7488      3968              2388       4040    3148  \n",
       "\n",
       "[4 rows x 23 columns]"
      ]
     },
     "execution_count": 33,
     "metadata": {},
     "output_type": "execute_result"
    }
   ],
   "source": [
    "df.describe()"
   ]
  },
  {
   "cell_type": "code",
   "execution_count": 34,
   "id": "af643964",
   "metadata": {},
   "outputs": [
    {
     "name": "stdout",
     "output_type": "stream",
     "text": [
      "<class 'pandas.core.frame.DataFrame'>\n",
      "RangeIndex: 8124 entries, 0 to 8123\n",
      "Data columns (total 23 columns):\n",
      " #   Column                    Non-Null Count  Dtype \n",
      "---  ------                    --------------  ----- \n",
      " 0   class                     8124 non-null   object\n",
      " 1   cap-shape                 8124 non-null   object\n",
      " 2   cap-surface               8124 non-null   object\n",
      " 3   cap-color                 8124 non-null   object\n",
      " 4   bruises                   8124 non-null   object\n",
      " 5   odor                      8124 non-null   object\n",
      " 6   gill-attachment           8124 non-null   object\n",
      " 7   gill-spacing              8124 non-null   object\n",
      " 8   gill-size                 8124 non-null   object\n",
      " 9   gill-color                8124 non-null   object\n",
      " 10  stalk-shape               8124 non-null   object\n",
      " 11  stalk-root                8124 non-null   object\n",
      " 12  stalk-surface-above-ring  8124 non-null   object\n",
      " 13  stalk-surface-below-ring  8124 non-null   object\n",
      " 14  stalk-color-above-ring    8124 non-null   object\n",
      " 15  stalk-color-below-ring    8124 non-null   object\n",
      " 16  veil-type                 8124 non-null   object\n",
      " 17  veil-color                8124 non-null   object\n",
      " 18  ring-number               8124 non-null   object\n",
      " 19  ring-type                 8124 non-null   object\n",
      " 20  spore-print-color         8124 non-null   object\n",
      " 21  population                8124 non-null   object\n",
      " 22  habitat                   8124 non-null   object\n",
      "dtypes: object(23)\n",
      "memory usage: 1.4+ MB\n"
     ]
    }
   ],
   "source": [
    "df.info()"
   ]
  },
  {
   "cell_type": "markdown",
   "id": "4cd82d5e",
   "metadata": {},
   "source": [
    "### 3.Preprocessing"
   ]
  },
  {
   "cell_type": "markdown",
   "id": "55a4ee3b",
   "metadata": {},
   "source": [
    "3.1Handle missing values"
   ]
  },
  {
   "cell_type": "code",
   "execution_count": 35,
   "id": "59245536",
   "metadata": {},
   "outputs": [
    {
     "data": {
      "application/vnd.microsoft.datawrangler.viewer.v0+json": {
       "columns": [
        {
         "name": "index",
         "rawType": "object",
         "type": "string"
        },
        {
         "name": "0",
         "rawType": "int64",
         "type": "integer"
        }
       ],
       "ref": "cac3bb6c-f2ca-4006-888f-13d0ea29d168",
       "rows": [
        [
         "class",
         "0"
        ],
        [
         "stalk-surface-above-ring",
         "0"
        ],
        [
         "population",
         "0"
        ],
        [
         "spore-print-color",
         "0"
        ],
        [
         "ring-type",
         "0"
        ],
        [
         "ring-number",
         "0"
        ],
        [
         "veil-color",
         "0"
        ],
        [
         "veil-type",
         "0"
        ],
        [
         "stalk-color-below-ring",
         "0"
        ],
        [
         "stalk-color-above-ring",
         "0"
        ],
        [
         "stalk-surface-below-ring",
         "0"
        ],
        [
         "stalk-root",
         "0"
        ],
        [
         "cap-shape",
         "0"
        ],
        [
         "stalk-shape",
         "0"
        ],
        [
         "gill-color",
         "0"
        ],
        [
         "gill-size",
         "0"
        ],
        [
         "gill-spacing",
         "0"
        ],
        [
         "gill-attachment",
         "0"
        ],
        [
         "odor",
         "0"
        ],
        [
         "bruises",
         "0"
        ],
        [
         "cap-color",
         "0"
        ],
        [
         "cap-surface",
         "0"
        ],
        [
         "habitat",
         "0"
        ]
       ],
       "shape": {
        "columns": 1,
        "rows": 23
       }
      },
      "text/plain": [
       "class                       0\n",
       "stalk-surface-above-ring    0\n",
       "population                  0\n",
       "spore-print-color           0\n",
       "ring-type                   0\n",
       "ring-number                 0\n",
       "veil-color                  0\n",
       "veil-type                   0\n",
       "stalk-color-below-ring      0\n",
       "stalk-color-above-ring      0\n",
       "stalk-surface-below-ring    0\n",
       "stalk-root                  0\n",
       "cap-shape                   0\n",
       "stalk-shape                 0\n",
       "gill-color                  0\n",
       "gill-size                   0\n",
       "gill-spacing                0\n",
       "gill-attachment             0\n",
       "odor                        0\n",
       "bruises                     0\n",
       "cap-color                   0\n",
       "cap-surface                 0\n",
       "habitat                     0\n",
       "dtype: int64"
      ]
     },
     "execution_count": 35,
     "metadata": {},
     "output_type": "execute_result"
    }
   ],
   "source": [
    "df.isna().sum().sort_values(ascending=False)"
   ]
  },
  {
   "cell_type": "markdown",
   "id": "09fd1ae5",
   "metadata": {},
   "source": [
    "3.2 Handle duplicated"
   ]
  },
  {
   "cell_type": "code",
   "execution_count": 36,
   "id": "91dc7698",
   "metadata": {},
   "outputs": [
    {
     "data": {
      "text/plain": [
       "0"
      ]
     },
     "execution_count": 36,
     "metadata": {},
     "output_type": "execute_result"
    }
   ],
   "source": [
    "df.duplicated().sum()"
   ]
  },
  {
   "cell_type": "code",
   "execution_count": 37,
   "id": "bc7d6117",
   "metadata": {},
   "outputs": [
    {
     "data": {
      "text/plain": [
       "(8124, 23)"
      ]
     },
     "execution_count": 37,
     "metadata": {},
     "output_type": "execute_result"
    }
   ],
   "source": [
    "df.shape"
   ]
  },
  {
   "cell_type": "markdown",
   "id": "5ff7c374",
   "metadata": {},
   "source": [
    "3.3 Label Encode to all data"
   ]
  },
  {
   "cell_type": "code",
   "execution_count": 38,
   "id": "53805ce6",
   "metadata": {},
   "outputs": [],
   "source": [
    "lb=LabelEncoder()\n",
    "for col in df.columns:\n",
    "    df[col] = lb.fit_transform(df[col])"
   ]
  },
  {
   "cell_type": "markdown",
   "id": "0f7b140e",
   "metadata": {},
   "source": [
    "4.1 Data before balance"
   ]
  },
  {
   "cell_type": "code",
   "execution_count": 39,
   "id": "4bb3e38c",
   "metadata": {},
   "outputs": [
    {
     "data": {
      "image/png": "[encoded data removed]",
      "text/plain": [
       "<Figure size 600x400 with 1 Axes>"
      ]
     },
     "metadata": {},
     "output_type": "display_data"
    }
   ],
   "source": [
    "sns.set(style=\"whitegrid\")\n",
    "plt.figure(figsize=(6, 4))\n",
    "sns.countplot(x='class', data=df)\n",
    "plt.title('Class Distribution\\n')\n",
    "plt.show()"
   ]
  },
  {
   "cell_type": "code",
   "execution_count": 40,
   "id": "d50b38a9",
   "metadata": {},
   "outputs": [
    {
     "name": "stdout",
     "output_type": "stream",
     "text": [
      "class\n",
      "0    4208\n",
      "1    3916\n",
      "Name: count, dtype: int64\n",
      "class\n",
      "0    0.517971\n",
      "1    0.482029\n",
      "Name: proportion, dtype: float64\n"
     ]
    }
   ],
   "source": [
    "print(df['class'].value_counts())\n",
    "print(df['class'].value_counts(normalize=True))  # Shows percentages"
   ]
  },
  {
   "cell_type": "code",
   "execution_count": 41,
   "id": "ce6edc7f",
   "metadata": {},
   "outputs": [
    {
     "data": {
      "image/png": "[encoded data removed]",
      "text/plain": [
       "<Figure size 600x400 with 1 Axes>"
      ]
     },
     "metadata": {},
     "output_type": "display_data"
    }
   ],
   "source": [
    "revenue_counts = df['class'].value_counts()\n",
    "revenue_counts.plot(\n",
    "    kind='pie',\n",
    "    figsize=(6, 4),\n",
    "    autopct='%1.1f%%',   # add in percentages\n",
    "    startangle=90,       # start angle 90°   \n",
    "    colors=[\"#eb72aa\",\"#84c0fc\"],  # Custom colors for the pie chart    \n",
    ")\n",
    "\n",
    "plt.title('Class Distribution\\n')\n",
    "plt.axis('equal')  # Sets the pie chart to look like a circle.\n",
    "plt.legend(labels=revenue_counts.index, bbox_to_anchor=(1, 0))\n",
    "plt.ylabel('')  # Hide y-label\n",
    "plt.show()"
   ]
  },
  {
   "cell_type": "code",
   "execution_count": 42,
   "id": "fad0073f",
   "metadata": {},
   "outputs": [],
   "source": [
    "x = df.drop('class', axis=1)\n",
    "y = df['class']"
   ]
  },
  {
   "cell_type": "markdown",
   "id": "a4a14872",
   "metadata": {},
   "source": [
    "3.3 Split data"
   ]
  },
  {
   "cell_type": "code",
   "execution_count": 43,
   "id": "98cc65bb",
   "metadata": {},
   "outputs": [],
   "source": [
    "x_train, x_test, y_train, y_test = train_test_split(x, y, test_size=0.2, random_state=42)\n"
   ]
  },
  {
   "cell_type": "code",
   "execution_count": 44,
   "id": "24c980f3",
   "metadata": {},
   "outputs": [],
   "source": [
    "scaler = StandardScaler()\n",
    "x_train = scaler.fit_transform(x_train)\n",
    "x_test = scaler.transform(x_test)"
   ]
  },
  {
   "cell_type": "markdown",
   "id": "4c6415fe",
   "metadata": {},
   "source": [
    "### 4.Visulization"
   ]
  },
  {
   "cell_type": "markdown",
   "id": "f46cd1c4",
   "metadata": {},
   "source": [
    "### 5.Train model"
   ]
  },
  {
   "cell_type": "code",
   "execution_count": 45,
   "id": "05df45e3",
   "metadata": {},
   "outputs": [],
   "source": [
    "results = {}\n",
    "# models from 1.1 part\n",
    "for name, model in models.items():\n",
    "    model.fit(x_train, y_train)\n",
    "    y_pred = model.predict(x_test)\n",
    "    results[name] = {\n",
    "        'Accuracy': accuracy_score(y_test, y_pred),\n",
    "        'Precision': precision_score(y_test, y_pred),\n",
    "        'Recall': recall_score(y_test, y_pred),\n",
    "        'F1-Score': f1_score(y_test, y_pred)\n",
    "    }"
   ]
  },
  {
   "cell_type": "code",
   "execution_count": 46,
   "id": "7d01807b",
   "metadata": {},
   "outputs": [
    {
     "name": "stdout",
     "output_type": "stream",
     "text": [
      "\n",
      "Performance Metrics:\n",
      "                          Accuracy  Precision    Recall  F1-Score\n",
      "Model                                                           \n",
      "Logistic Regression      0.952000   0.944444  0.956522  0.950445\n",
      "Naive Bayes (Gaussian)   0.921846   0.909887  0.929668  0.919671\n",
      "Naive Bayes (Bernoulli)  0.895385   0.960843  0.815857  0.882434\n"
     ]
    }
   ],
   "source": [
    "metrics_df = pd.DataFrame(results).T\n",
    "metrics_df.index.name = 'Model'\n",
    "print(\"\\nPerformance Metrics:\\n\", metrics_df)"
   ]
  },
  {
   "cell_type": "code",
   "execution_count": 47,
   "id": "3ae23a6d",
   "metadata": {},
   "outputs": [
    {
     "name": "stdout",
     "output_type": "stream",
     "text": [
      "\n",
      "Best Model based on F1-Score: Logistic Regression\n",
      "\n"
     ]
    }
   ],
   "source": [
    "best_model_name = metrics_df['F1-Score'].idxmax()\n",
    "best_model = models[best_model_name]\n",
    "print(f\"\\nBest Model based on F1-Score: {best_model_name}\\n\")"
   ]
  },
  {
   "cell_type": "markdown",
   "id": "6b6822d8",
   "metadata": {},
   "source": [
    "### confusion Matrix & Classification Report for Best Model"
   ]
  },
  {
   "cell_type": "code",
   "execution_count": 48,
   "id": "337362d6",
   "metadata": {},
   "outputs": [],
   "source": [
    "y_pred_best = best_model.predict(x_test)\n",
    "cm = confusion_matrix(y_test, y_pred_best)"
   ]
  },
  {
   "cell_type": "code",
   "execution_count": 49,
   "id": "2863217e",
   "metadata": {},
   "outputs": [
    {
     "data": {
      "image/png": "[encoded data removed]",
      "text/plain": [
       "<Figure size 640x480 with 2 Axes>"
      ]
     },
     "metadata": {},
     "output_type": "display_data"
    },
    {
     "name": "stdout",
     "output_type": "stream",
     "text": [
      "Classification Report:\n",
      "               precision    recall  f1-score   support\n",
      "\n",
      "           0       0.96      0.95      0.95       843\n",
      "           1       0.94      0.96      0.95       782\n",
      "\n",
      "    accuracy                           0.95      1625\n",
      "   macro avg       0.95      0.95      0.95      1625\n",
      "weighted avg       0.95      0.95      0.95      1625\n",
      "\n"
     ]
    }
   ],
   "source": [
    "plt.figure()\n",
    "sns.heatmap(cm, annot=True, fmt='d', cmap='Blues')\n",
    "plt.title(f'Confusion Matrix - {best_model_name}')\n",
    "plt.xlabel('Predicted')\n",
    "plt.ylabel('Actual')\n",
    "plt.show()\n",
    "print(\"Classification Report:\\n\", classification_report(y_test, y_pred_best))"
   ]
  }
 ],
 "metadata": {
  "kernelspec": {
   "display_name": "base",
   "language": "python",
   "name": "python3"
  },
  "language_info": {
   "codemirror_mode": {
    "name": "ipython",
    "version": 3
   },
   "file_extension": ".py",
   "mimetype": "text/x-python",
   "name": "python",
   "nbconvert_exporter": "python",
   "pygments_lexer": "ipython3",
   "version": "3.12.7"
  }
 },
 "nbformat": 4,
 "nbformat_minor": 5
}
