{
 "cells": [
  {
   "cell_type": "markdown",
   "id": "49a96cce",
   "metadata": {},
   "source": [
    "Libraries"
   ]
  },
  {
   "cell_type": "code",
   "execution_count": 92,
   "id": "b3ba7f39",
   "metadata": {},
   "outputs": [],
   "source": [
    "import numpy as np\n",
    "import pandas as pd\n",
    "import seaborn as sns\n",
    "import matplotlib.pyplot as plt\n",
    "from sklearn.neighbors import KNeighborsClassifier\n",
    "from sklearn.metrics import accuracy_score, classification_report, confusion_matrix\n",
    "from sklearn.model_selection import train_test_split, cross_val_score, KFold\n",
    "from sklearn.preprocessing import StandardScaler\n",
    "from imblearn.over_sampling import SMOTE"
   ]
  },
  {
   "cell_type": "markdown",
   "id": "ca8b5b2a",
   "metadata": {},
   "source": [
    "Read Data"
   ]
  },
  {
   "cell_type": "code",
   "execution_count": 93,
   "id": "bf919339",
   "metadata": {},
   "outputs": [
    {
     "data": {
      "application/vnd.microsoft.datawrangler.viewer.v0+json": {
       "columns": [
        {
         "name": "index",
         "rawType": "int64",
         "type": "integer"
        },
        {
         "name": "InvoiceNo",
         "rawType": "object",
         "type": "string"
        },
        {
         "name": "StockCode",
         "rawType": "object",
         "type": "string"
        },
        {
         "name": "Description",
         "rawType": "object",
         "type": "string"
        },
        {
         "name": "Quantity",
         "rawType": "int64",
         "type": "integer"
        },
        {
         "name": "InvoiceDate",
         "rawType": "datetime64[ns]",
         "type": "datetime"
        },
        {
         "name": "UnitPrice",
         "rawType": "float64",
         "type": "float"
        },
        {
         "name": "CustomerID",
         "rawType": "float64",
         "type": "float"
        },
        {
         "name": "Country",
         "rawType": "object",
         "type": "string"
        }
       ],
       "ref": "fcb85e78-8b5c-4ecb-b9fe-9d20283b1b98",
       "rows": [
        [
         "0",
         "536365",
         "85123A",
         "WHITE HANGING HEART T-LIGHT HOLDER",
         "6",
         "2010-12-01 08:26:00",
         "2.55",
         "17850.0",
         "United Kingdom"
        ],
        [
         "1",
         "536365",
         "71053",
         "WHITE METAL LANTERN",
         "6",
         "2010-12-01 08:26:00",
         "3.39",
         "17850.0",
         "United Kingdom"
        ],
        [
         "2",
         "536365",
         "84406B",
         "CREAM CUPID HEARTS COAT HANGER",
         "8",
         "2010-12-01 08:26:00",
         "2.75",
         "17850.0",
         "United Kingdom"
        ],
        [
         "3",
         "536365",
         "84029G",
         "KNITTED UNION FLAG HOT WATER BOTTLE",
         "6",
         "2010-12-01 08:26:00",
         "3.39",
         "17850.0",
         "United Kingdom"
        ],
        [
         "4",
         "536365",
         "84029E",
         "RED WOOLLY HOTTIE WHITE HEART.",
         "6",
         "2010-12-01 08:26:00",
         "3.39",
         "17850.0",
         "United Kingdom"
        ]
       ],
       "shape": {
        "columns": 8,
        "rows": 5
       }
      },
      "text/html": [
       "<div>\n",
       "<style scoped>\n",
       "    .dataframe tbody tr th:only-of-type {\n",
       "        vertical-align: middle;\n",
       "    }\n",
       "\n",
       "    .dataframe tbody tr th {\n",
       "        vertical-align: top;\n",
       "    }\n",
       "\n",
       "    .dataframe thead th {\n",
       "        text-align: right;\n",
       "    }\n",
       "</style>\n",
       "<table border=\"1\" class=\"dataframe\">\n",
       "  <thead>\n",
       "    <tr style=\"text-align: right;\">\n",
       "      <th></th>\n",
       "      <th>InvoiceNo</th>\n",
       "      <th>StockCode</th>\n",
       "      <th>Description</th>\n",
       "      <th>Quantity</th>\n",
       "      <th>InvoiceDate</th>\n",
       "      <th>UnitPrice</th>\n",
       "      <th>CustomerID</th>\n",
       "      <th>Country</th>\n",
       "    </tr>\n",
       "  </thead>\n",
       "  <tbody>\n",
       "    <tr>\n",
       "      <th>0</th>\n",
       "      <td>536365</td>\n",
       "      <td>85123A</td>\n",
       "      <td>WHITE HANGING HEART T-LIGHT HOLDER</td>\n",
       "      <td>6</td>\n",
       "      <td>2010-12-01 08:26:00</td>\n",
       "      <td>2.55</td>\n",
       "      <td>17850.0</td>\n",
       "      <td>United Kingdom</td>\n",
       "    </tr>\n",
       "    <tr>\n",
       "      <th>1</th>\n",
       "      <td>536365</td>\n",
       "      <td>71053</td>\n",
       "      <td>WHITE METAL LANTERN</td>\n",
       "      <td>6</td>\n",
       "      <td>2010-12-01 08:26:00</td>\n",
       "      <td>3.39</td>\n",
       "      <td>17850.0</td>\n",
       "      <td>United Kingdom</td>\n",
       "    </tr>\n",
       "    <tr>\n",
       "      <th>2</th>\n",
       "      <td>536365</td>\n",
       "      <td>84406B</td>\n",
       "      <td>CREAM CUPID HEARTS COAT HANGER</td>\n",
       "      <td>8</td>\n",
       "      <td>2010-12-01 08:26:00</td>\n",
       "      <td>2.75</td>\n",
       "      <td>17850.0</td>\n",
       "      <td>United Kingdom</td>\n",
       "    </tr>\n",
       "    <tr>\n",
       "      <th>3</th>\n",
       "      <td>536365</td>\n",
       "      <td>84029G</td>\n",
       "      <td>KNITTED UNION FLAG HOT WATER BOTTLE</td>\n",
       "      <td>6</td>\n",
       "      <td>2010-12-01 08:26:00</td>\n",
       "      <td>3.39</td>\n",
       "      <td>17850.0</td>\n",
       "      <td>United Kingdom</td>\n",
       "    </tr>\n",
       "    <tr>\n",
       "      <th>4</th>\n",
       "      <td>536365</td>\n",
       "      <td>84029E</td>\n",
       "      <td>RED WOOLLY HOTTIE WHITE HEART.</td>\n",
       "      <td>6</td>\n",
       "      <td>2010-12-01 08:26:00</td>\n",
       "      <td>3.39</td>\n",
       "      <td>17850.0</td>\n",
       "      <td>United Kingdom</td>\n",
       "    </tr>\n",
       "  </tbody>\n",
       "</table>\n",
       "</div>"
      ],
      "text/plain": [
       "  InvoiceNo StockCode                          Description  Quantity  \\\n",
       "0    536365    85123A   WHITE HANGING HEART T-LIGHT HOLDER         6   \n",
       "1    536365     71053                  WHITE METAL LANTERN         6   \n",
       "2    536365    84406B       CREAM CUPID HEARTS COAT HANGER         8   \n",
       "3    536365    84029G  KNITTED UNION FLAG HOT WATER BOTTLE         6   \n",
       "4    536365    84029E       RED WOOLLY HOTTIE WHITE HEART.         6   \n",
       "\n",
       "          InvoiceDate  UnitPrice  CustomerID         Country  \n",
       "0 2010-12-01 08:26:00       2.55     17850.0  United Kingdom  \n",
       "1 2010-12-01 08:26:00       3.39     17850.0  United Kingdom  \n",
       "2 2010-12-01 08:26:00       2.75     17850.0  United Kingdom  \n",
       "3 2010-12-01 08:26:00       3.39     17850.0  United Kingdom  \n",
       "4 2010-12-01 08:26:00       3.39     17850.0  United Kingdom  "
      ]
     },
     "execution_count": 93,
     "metadata": {},
     "output_type": "execute_result"
    }
   ],
   "source": [
    "# Path to the dataset file\n",
    "path = r\"C:\\Users\\mrtat\\Downloads\\NTI\\Data\\dataEDA.csv\" \n",
    "df = pd.read_csv(path, encoding='latin1') # Load the dataset\n",
    "# Convert 'InvoiceDate' to datetime\n",
    "df['InvoiceDate'] = pd.to_datetime(df['InvoiceDate'], errors='coerce')\n",
    "df.head(5) # Display the first 5 rows of the dataset"
   ]
  },
  {
   "cell_type": "code",
   "execution_count": 94,
   "id": "e00a6b5b",
   "metadata": {},
   "outputs": [
    {
     "name": "stdout",
     "output_type": "stream",
     "text": [
      "<class 'pandas.core.frame.DataFrame'>\n",
      "RangeIndex: 541909 entries, 0 to 541908\n",
      "Data columns (total 8 columns):\n",
      " #   Column       Non-Null Count   Dtype         \n",
      "---  ------       --------------   -----         \n",
      " 0   InvoiceNo    541909 non-null  object        \n",
      " 1   StockCode    541909 non-null  object        \n",
      " 2   Description  540455 non-null  object        \n",
      " 3   Quantity     541909 non-null  int64         \n",
      " 4   InvoiceDate  541909 non-null  datetime64[ns]\n",
      " 5   UnitPrice    541909 non-null  float64       \n",
      " 6   CustomerID   406829 non-null  float64       \n",
      " 7   Country      541909 non-null  object        \n",
      "dtypes: datetime64[ns](1), float64(2), int64(1), object(4)\n",
      "memory usage: 33.1+ MB\n"
     ]
    }
   ],
   "source": [
    "df.info() # Display information about the dataset"
   ]
  },
  {
   "cell_type": "markdown",
   "id": "5bff3219",
   "metadata": {},
   "source": [
    "Preprocessing"
   ]
  },
  {
   "cell_type": "code",
   "execution_count": 95,
   "id": "1f0b771c",
   "metadata": {},
   "outputs": [
    {
     "name": "stdout",
     "output_type": "stream",
     "text": [
      "NULL values in each column: 136534\n",
      "Duplicate rows: 5268\n"
     ]
    }
   ],
   "source": [
    "print(\"NULL values in each column:\",df.isnull().sum().sum()) # Check for NULL values in the dataset\n",
    "print(\"Duplicate rows:\", df.duplicated().sum()) # Check for duplicate rows in the dataset"
   ]
  },
  {
   "cell_type": "code",
   "execution_count": 96,
   "id": "e3cb94fd",
   "metadata": {},
   "outputs": [],
   "source": [
    "cols = ['Quantity', 'UnitPrice']\n",
    "df['Quantity']= df['Quantity'].astype(int) # Convert 'Quantity' to integer type\n",
    "for col in cols:\n",
    "    df[col] = pd.to_numeric(df[col], errors='coerce')  # Ensure numeric\n",
    "    df[col] = np.where(df[col] > 0,df[col], np.nan)          # Replace 0 or negative with NaN\n",
    "df = df[df['Quantity'].notna()] "
   ]
  },
  {
   "cell_type": "code",
   "execution_count": 97,
   "id": "2a171e62",
   "metadata": {},
   "outputs": [],
   "source": [
    "df.dropna(subset=['CustomerID'], inplace=True)\n",
    "\n",
    "# Fill missing values\n",
    "for col in df.columns : \n",
    "    if col == 'Country':\n",
    "         df[col] = df[col].fillna(df.groupby('CustomerID')[col].transform(\n",
    "            lambda x:x.mode()[0] \n",
    "        ))\n",
    "         df[col] = df.groupby('CustomerID')[col].transform(\n",
    "            lambda x:x.mode()[0] \n",
    "        )\n",
    "    elif col == 'InvoiceDate':   \n",
    "        df[col] = df[col].fillna(df.groupby('InvoiceNo')[col].transform(\n",
    "            lambda x:x.mode()[0] \n",
    "        ))\n",
    "        df[col] = df.groupby('InvoiceNo')[col].transform(\n",
    "            lambda x:x.mode()[0] \n",
    "        )\n",
    "    elif col == 'UnitPrice': \n",
    "         \n",
    "        df[col] = df[col].fillna(df.groupby('StockCode')[col].transform(\n",
    "           lambda x: x.mode()[0] if not x.mode().empty else x.median()\n",
    "        ))\n",
    "        df[col] = df.groupby('StockCode')[col].transform(\n",
    "           lambda x: x.mode()[0] if not x.mode().empty else x.median()\n",
    "        )\n",
    "        df['UnitPrice'] = df['UnitPrice'].round(\n",
    "        decimals=2)  # Round the UnitPrice to 2 decimal places\n",
    "        df[col] = np.where(df[col] > 0,df[col], np.nan)\n",
    "    \n",
    "    df = df[df['UnitPrice'].notna()]  # Drop rows where UnitPrice is NaN"
   ]
  },
  {
   "cell_type": "code",
   "execution_count": 98,
   "id": "ee6f7f7e",
   "metadata": {},
   "outputs": [],
   "source": [
    "df.drop_duplicates(inplace=True) # Remove duplicate rows\n",
    "df.reset_index(drop=True, inplace=True) # Reset index after dropping duplicates"
   ]
  },
  {
   "cell_type": "code",
   "execution_count": 99,
   "id": "ffd46edf",
   "metadata": {},
   "outputs": [
    {
     "name": "stdout",
     "output_type": "stream",
     "text": [
      "NULL values in each column:\n",
      " InvoiceNo      0\n",
      "StockCode      0\n",
      "Description    0\n",
      "Quantity       0\n",
      "InvoiceDate    0\n",
      "UnitPrice      0\n",
      "CustomerID     0\n",
      "Country        0\n",
      "dtype: int64\n",
      "Duplicate rows: 0\n"
     ]
    }
   ],
   "source": [
    "print(\"NULL values in each column:\\n\",df.isnull().sum().sort_values(ascending=False)) # Check for NULL values in the dataset\n",
    "print(\"Duplicate rows:\", df.duplicated().sum()) # Check for duplicate rows in the dataset"
   ]
  },
  {
   "cell_type": "code",
   "execution_count": 100,
   "id": "5aa2bb32",
   "metadata": {},
   "outputs": [],
   "source": [
    "df.drop(['CustomerID'],axis=1 ,inplace=True) # Drop 'CustomerID' "
   ]
  },
  {
   "cell_type": "code",
   "execution_count": 101,
   "id": "929c3993",
   "metadata": {},
   "outputs": [],
   "source": [
    "df['TotalPrice'] = df['Quantity'] * df['UnitPrice'] # Create a new column 'TotalPrice'"
   ]
  },
  {
   "cell_type": "code",
   "execution_count": 102,
   "id": "04fc16e5",
   "metadata": {},
   "outputs": [
    {
     "data": {
      "application/vnd.microsoft.datawrangler.viewer.v0+json": {
       "columns": [
        {
         "name": "index",
         "rawType": "object",
         "type": "string"
        },
        {
         "name": "Quantity",
         "rawType": "float64",
         "type": "float"
        },
        {
         "name": "UnitPrice",
         "rawType": "float64",
         "type": "float"
        },
        {
         "name": "TotalPrice",
         "rawType": "float64",
         "type": "float"
        }
       ],
       "ref": "85db2cb4-f1d1-4d4a-a7bd-e18eec91d924",
       "rows": [
        [
         "count",
         "392668.0",
         "392668.0",
         "392668.0"
        ],
        [
         "mean",
         "13.120042886102254",
         "2.935145695600355",
         "24.19548672160706"
        ],
        [
         "std",
         "180.49820465238014",
         "3.9802731804024503",
         "318.6957551860737"
        ],
        [
         "min",
         "1.0",
         "0.04",
         "0.06"
        ],
        [
         "25%",
         "2.0",
         "1.25",
         "4.8"
        ],
        [
         "50%",
         "6.0",
         "1.95",
         "11.9"
        ],
        [
         "75%",
         "12.0",
         "3.75",
         "19.799999999999997"
        ],
        [
         "max",
         "80995.0",
         "165.0",
         "168469.6"
        ]
       ],
       "shape": {
        "columns": 3,
        "rows": 8
       }
      },
      "text/html": [
       "<div>\n",
       "<style scoped>\n",
       "    .dataframe tbody tr th:only-of-type {\n",
       "        vertical-align: middle;\n",
       "    }\n",
       "\n",
       "    .dataframe tbody tr th {\n",
       "        vertical-align: top;\n",
       "    }\n",
       "\n",
       "    .dataframe thead th {\n",
       "        text-align: right;\n",
       "    }\n",
       "</style>\n",
       "<table border=\"1\" class=\"dataframe\">\n",
       "  <thead>\n",
       "    <tr style=\"text-align: right;\">\n",
       "      <th></th>\n",
       "      <th>Quantity</th>\n",
       "      <th>UnitPrice</th>\n",
       "      <th>TotalPrice</th>\n",
       "    </tr>\n",
       "  </thead>\n",
       "  <tbody>\n",
       "    <tr>\n",
       "      <th>count</th>\n",
       "      <td>392668.000000</td>\n",
       "      <td>392668.000000</td>\n",
       "      <td>392668.000000</td>\n",
       "    </tr>\n",
       "    <tr>\n",
       "      <th>mean</th>\n",
       "      <td>13.120043</td>\n",
       "      <td>2.935146</td>\n",
       "      <td>24.195487</td>\n",
       "    </tr>\n",
       "    <tr>\n",
       "      <th>std</th>\n",
       "      <td>180.498205</td>\n",
       "      <td>3.980273</td>\n",
       "      <td>318.695755</td>\n",
       "    </tr>\n",
       "    <tr>\n",
       "      <th>min</th>\n",
       "      <td>1.000000</td>\n",
       "      <td>0.040000</td>\n",
       "      <td>0.060000</td>\n",
       "    </tr>\n",
       "    <tr>\n",
       "      <th>25%</th>\n",
       "      <td>2.000000</td>\n",
       "      <td>1.250000</td>\n",
       "      <td>4.800000</td>\n",
       "    </tr>\n",
       "    <tr>\n",
       "      <th>50%</th>\n",
       "      <td>6.000000</td>\n",
       "      <td>1.950000</td>\n",
       "      <td>11.900000</td>\n",
       "    </tr>\n",
       "    <tr>\n",
       "      <th>75%</th>\n",
       "      <td>12.000000</td>\n",
       "      <td>3.750000</td>\n",
       "      <td>19.800000</td>\n",
       "    </tr>\n",
       "    <tr>\n",
       "      <th>max</th>\n",
       "      <td>80995.000000</td>\n",
       "      <td>165.000000</td>\n",
       "      <td>168469.600000</td>\n",
       "    </tr>\n",
       "  </tbody>\n",
       "</table>\n",
       "</div>"
      ],
      "text/plain": [
       "            Quantity      UnitPrice     TotalPrice\n",
       "count  392668.000000  392668.000000  392668.000000\n",
       "mean       13.120043       2.935146      24.195487\n",
       "std       180.498205       3.980273     318.695755\n",
       "min         1.000000       0.040000       0.060000\n",
       "25%         2.000000       1.250000       4.800000\n",
       "50%         6.000000       1.950000      11.900000\n",
       "75%        12.000000       3.750000      19.800000\n",
       "max     80995.000000     165.000000  168469.600000"
      ]
     },
     "execution_count": 102,
     "metadata": {},
     "output_type": "execute_result"
    }
   ],
   "source": [
    "desc=df.drop(columns=['InvoiceNo', 'StockCode', 'Description', 'Country', 'InvoiceDate'], axis=1) # Drop non-numeric columns for description\n",
    "desc.describe() # Display descriptive statistics of the dataset"
   ]
  },
  {
   "cell_type": "code",
   "execution_count": 103,
   "id": "08b754bc",
   "metadata": {},
   "outputs": [
    {
     "data": {
      "application/vnd.microsoft.datawrangler.viewer.v0+json": {
       "columns": [
        {
         "name": "index",
         "rawType": "int64",
         "type": "integer"
        },
        {
         "name": "Quantity",
         "rawType": "float64",
         "type": "float"
        }
       ],
       "ref": "90ae8d27-e255-41d6-8c2b-a1898a0ac32c",
       "rows": [
        [
         "392202",
         "80995.0"
        ],
        [
         "36516",
         "74215.0"
        ],
        [
         "304632",
         "4800.0"
        ],
        [
         "141547",
         "4300.0"
        ],
        [
         "60682",
         "3906.0"
        ],
        [
         "186653",
         "3186.0"
        ],
        [
         "32194",
         "3114.0"
        ],
        [
         "108193",
         "3114.0"
        ],
        [
         "314486",
         "3000.0"
        ],
        [
         "201774",
         "2880.0"
        ]
       ],
       "shape": {
        "columns": 1,
        "rows": 10
       }
      },
      "text/plain": [
       "392202    80995.0\n",
       "36516     74215.0\n",
       "304632     4800.0\n",
       "141547     4300.0\n",
       "60682      3906.0\n",
       "186653     3186.0\n",
       "32194      3114.0\n",
       "108193     3114.0\n",
       "314486     3000.0\n",
       "201774     2880.0\n",
       "Name: Quantity, dtype: float64"
      ]
     },
     "execution_count": 103,
     "metadata": {},
     "output_type": "execute_result"
    }
   ],
   "source": [
    "df['Quantity'].sort_values(ascending=False).head(10) # Display the top 10 highest quantities"
   ]
  },
  {
   "cell_type": "code",
   "execution_count": 104,
   "id": "cd183693",
   "metadata": {},
   "outputs": [
    {
     "name": "stdout",
     "output_type": "stream",
     "text": [
      "Total revenue =  9500793.38\n"
     ]
    }
   ],
   "source": [
    "print(\"Total revenue = \",df['TotalPrice'].sum().round(\n",
    "        decimals=2))  # Round the UnitPrice to 2 decimal places) # Calculate the total price of all transactions"
   ]
  },
  {
   "cell_type": "code",
   "execution_count": 105,
   "id": "6e00fbe8",
   "metadata": {},
   "outputs": [
    {
     "name": "stdout",
     "output_type": "stream",
     "text": [
      "Number of transactions. 18532\n"
     ]
    }
   ],
   "source": [
    "print(\"Number of transactions.\",df['InvoiceNo'].nunique()) # Display the number of unique transactions"
   ]
  }
 ],
 "metadata": {
  "kernelspec": {
   "display_name": "base",
   "language": "python",
   "name": "python3"
  },
  "language_info": {
   "codemirror_mode": {
    "name": "ipython",
    "version": 3
   },
   "file_extension": ".py",
   "mimetype": "text/x-python",
   "name": "python",
   "nbconvert_exporter": "python",
   "pygments_lexer": "ipython3",
   "version": "3.12.7"
  }
 },
 "nbformat": 4,
 "nbformat_minor": 5
}
