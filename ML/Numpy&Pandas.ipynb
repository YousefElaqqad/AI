{
 "cells": [
  {
   "cell_type": "code",
   "execution_count": 30,
   "id": "5e9d7cfe",
   "metadata": {},
   "outputs": [],
   "source": [
    "import numpy as np\n",
    "import pandas as pd"
   ]
  },
  {
   "cell_type": "code",
   "execution_count": 31,
   "id": "633043c2",
   "metadata": {},
   "outputs": [
    {
     "name": "stdout",
     "output_type": "stream",
     "text": [
      "[[140 210 476 356 305 359 106]\n",
      " [155 175 273 288 107 152 108]\n",
      " [119 263 332 380 287 227 408]\n",
      " [447 390 415 401 246 245 147]]\n"
     ]
    }
   ],
   "source": [
    "numbers = np.random.randint(100, 500, size=(4, 7))\n",
    "print(numbers)"
   ]
  },
  {
   "cell_type": "code",
   "execution_count": 32,
   "id": "3597ebf3",
   "metadata": {},
   "outputs": [
    {
     "name": "stdout",
     "output_type": "stream",
     "text": [
      "[[140.  210.  523.6 391.6 335.5 394.9 106. ]\n",
      " [155.  175.  273.  288.  107.  152.  108. ]\n",
      " [119.  263.  365.2 418.  287.  227.  448.8]\n",
      " [491.7 429.  456.5 441.1 246.  245.  147. ]]\n"
     ]
    }
   ],
   "source": [
    "numbers = np.where(numbers > 300, numbers * 1.1, numbers)\n",
    "print(numbers)"
   ]
  },
  {
   "cell_type": "code",
   "execution_count": 33,
   "id": "61c7c585",
   "metadata": {},
   "outputs": [
    {
     "name": "stdout",
     "output_type": "stream",
     "text": [
      "[[133.   199.5  523.6  391.6  335.5  394.9  100.7 ]\n",
      " [147.25 166.25 259.35 273.6  101.65 144.4  102.6 ]\n",
      " [113.05 249.85 365.2  418.   272.65 215.65 448.8 ]\n",
      " [491.7  429.   456.5  441.1  233.7  232.75 139.65]]\n"
     ]
    }
   ],
   "source": [
    "numbers = np.where(numbers < 300, numbers * .95, numbers)\n",
    "print(numbers)"
   ]
  },
  {
   "cell_type": "code",
   "execution_count": 34,
   "id": "bba0af40",
   "metadata": {},
   "outputs": [
    {
     "data": {
      "text/plain": [
       "222.43124999999998"
      ]
     },
     "execution_count": 34,
     "metadata": {},
     "output_type": "execute_result"
    }
   ],
   "source": [
    "np.average(numbers[:,-2:])"
   ]
  },
  {
   "cell_type": "code",
   "execution_count": 35,
   "id": "c068338e",
   "metadata": {},
   "outputs": [
    {
     "data": {
      "text/plain": [
       "array([[False, False,  True, False, False, False, False],\n",
       "       [False, False, False, False, False, False, False],\n",
       "       [False, False, False,  True, False, False,  True],\n",
       "       [ True,  True,  True,  True, False, False, False]])"
      ]
     },
     "execution_count": 35,
     "metadata": {},
     "output_type": "execute_result"
    }
   ],
   "source": [
    "numbers>400"
   ]
  },
  {
   "cell_type": "code",
   "execution_count": 36,
   "id": "eccf48a2",
   "metadata": {},
   "outputs": [
    {
     "data": {
      "application/vnd.microsoft.datawrangler.viewer.v0+json": {
       "columns": [
        {
         "name": "index",
         "rawType": "int64",
         "type": "integer"
        },
        {
         "name": "A",
         "rawType": "float64",
         "type": "float"
        },
        {
         "name": "B",
         "rawType": "float64",
         "type": "float"
        },
        {
         "name": "C",
         "rawType": "float64",
         "type": "float"
        },
        {
         "name": "D",
         "rawType": "float64",
         "type": "float"
        },
        {
         "name": "E",
         "rawType": "float64",
         "type": "float"
        },
        {
         "name": "F",
         "rawType": "float64",
         "type": "float"
        },
        {
         "name": "G",
         "rawType": "float64",
         "type": "float"
        }
       ],
       "ref": "5b214c66-4422-4bf7-b957-54f4cfe3d3d1",
       "rows": [
        [
         "0",
         "133.0",
         "199.5",
         "523.6",
         "391.6",
         "335.5",
         "394.90000000000003",
         "100.69999999999999"
        ],
        [
         "1",
         "147.25",
         "166.25",
         "259.34999999999997",
         "273.59999999999997",
         "101.64999999999999",
         "144.4",
         "102.6"
        ],
        [
         "2",
         "113.05",
         "249.85",
         "365.20000000000005",
         "418.00000000000006",
         "272.65",
         "215.64999999999998",
         "448.8"
        ],
        [
         "3",
         "491.70000000000005",
         "429.00000000000006",
         "456.50000000000006",
         "441.1",
         "233.7",
         "232.75",
         "139.65"
        ]
       ],
       "shape": {
        "columns": 7,
        "rows": 4
       }
      },
      "text/html": [
       "<div>\n",
       "<style scoped>\n",
       "    .dataframe tbody tr th:only-of-type {\n",
       "        vertical-align: middle;\n",
       "    }\n",
       "\n",
       "    .dataframe tbody tr th {\n",
       "        vertical-align: top;\n",
       "    }\n",
       "\n",
       "    .dataframe thead th {\n",
       "        text-align: right;\n",
       "    }\n",
       "</style>\n",
       "<table border=\"1\" class=\"dataframe\">\n",
       "  <thead>\n",
       "    <tr style=\"text-align: right;\">\n",
       "      <th></th>\n",
       "      <th>A</th>\n",
       "      <th>B</th>\n",
       "      <th>C</th>\n",
       "      <th>D</th>\n",
       "      <th>E</th>\n",
       "      <th>F</th>\n",
       "      <th>G</th>\n",
       "    </tr>\n",
       "  </thead>\n",
       "  <tbody>\n",
       "    <tr>\n",
       "      <th>0</th>\n",
       "      <td>133.00</td>\n",
       "      <td>199.50</td>\n",
       "      <td>523.60</td>\n",
       "      <td>391.6</td>\n",
       "      <td>335.50</td>\n",
       "      <td>394.90</td>\n",
       "      <td>100.70</td>\n",
       "    </tr>\n",
       "    <tr>\n",
       "      <th>1</th>\n",
       "      <td>147.25</td>\n",
       "      <td>166.25</td>\n",
       "      <td>259.35</td>\n",
       "      <td>273.6</td>\n",
       "      <td>101.65</td>\n",
       "      <td>144.40</td>\n",
       "      <td>102.60</td>\n",
       "    </tr>\n",
       "    <tr>\n",
       "      <th>2</th>\n",
       "      <td>113.05</td>\n",
       "      <td>249.85</td>\n",
       "      <td>365.20</td>\n",
       "      <td>418.0</td>\n",
       "      <td>272.65</td>\n",
       "      <td>215.65</td>\n",
       "      <td>448.80</td>\n",
       "    </tr>\n",
       "    <tr>\n",
       "      <th>3</th>\n",
       "      <td>491.70</td>\n",
       "      <td>429.00</td>\n",
       "      <td>456.50</td>\n",
       "      <td>441.1</td>\n",
       "      <td>233.70</td>\n",
       "      <td>232.75</td>\n",
       "      <td>139.65</td>\n",
       "    </tr>\n",
       "  </tbody>\n",
       "</table>\n",
       "</div>"
      ],
      "text/plain": [
       "        A       B       C      D       E       F       G\n",
       "0  133.00  199.50  523.60  391.6  335.50  394.90  100.70\n",
       "1  147.25  166.25  259.35  273.6  101.65  144.40  102.60\n",
       "2  113.05  249.85  365.20  418.0  272.65  215.65  448.80\n",
       "3  491.70  429.00  456.50  441.1  233.70  232.75  139.65"
      ]
     },
     "execution_count": 36,
     "metadata": {},
     "output_type": "execute_result"
    }
   ],
   "source": [
    "df = pd.DataFrame(numbers, columns=['A', 'B', 'C', 'D', 'E', 'F', 'G'])\n",
    "df.head()"
   ]
  }
 ],
 "metadata": {
  "kernelspec": {
   "display_name": "base",
   "language": "python",
   "name": "python3"
  },
  "language_info": {
   "codemirror_mode": {
    "name": "ipython",
    "version": 3
   },
   "file_extension": ".py",
   "mimetype": "text/x-python",
   "name": "python",
   "nbconvert_exporter": "python",
   "pygments_lexer": "ipython3",
   "version": "3.12.7"
  }
 },
 "nbformat": 4,
 "nbformat_minor": 5
}
