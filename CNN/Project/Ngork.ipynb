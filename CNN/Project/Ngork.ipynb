{
 "cells": [
  {
   "cell_type": "code",
   "execution_count": 1,
   "id": "b5cccca7",
   "metadata": {},
   "outputs": [
    {
     "ename": "ModuleNotFoundError",
     "evalue": "No module named 'ngrok_key'",
     "output_type": "error",
     "traceback": [
      "\u001b[31m---------------------------------------------------------------------------\u001b[39m",
      "\u001b[31mModuleNotFoundError\u001b[39m                       Traceback (most recent call last)",
      "\u001b[36mCell\u001b[39m\u001b[36m \u001b[39m\u001b[32mIn[1]\u001b[39m\u001b[32m, line 7\u001b[39m\n\u001b[32m      5\u001b[39m \u001b[38;5;28;01mimport\u001b[39;00m\u001b[38;5;250m \u001b[39m\u001b[34;01mstreamlit\u001b[39;00m\u001b[38;5;250m \u001b[39m\u001b[38;5;28;01mas\u001b[39;00m\u001b[38;5;250m \u001b[39m\u001b[34;01mst\u001b[39;00m\n\u001b[32m      6\u001b[39m \u001b[38;5;28;01mfrom\u001b[39;00m\u001b[38;5;250m \u001b[39m\u001b[34;01mpyngrok\u001b[39;00m\u001b[38;5;250m \u001b[39m\u001b[38;5;28;01mimport\u001b[39;00m ngrok, conf\n\u001b[32m----> \u001b[39m\u001b[32m7\u001b[39m \u001b[38;5;28;01mimport\u001b[39;00m\u001b[38;5;250m \u001b[39m\u001b[34;01mngrok_key\u001b[39;00m  \u001b[38;5;66;03m# File contain: NGROK_AUTH_TOKEN\u001b[39;00m\n\u001b[32m      8\u001b[39m \u001b[38;5;28;01mimport\u001b[39;00m\u001b[38;5;250m \u001b[39m\u001b[34;01mos\u001b[39;00m\n\u001b[32m      9\u001b[39m \u001b[38;5;28;01mimport\u001b[39;00m\u001b[38;5;250m \u001b[39m\u001b[34;01mthreading\u001b[39;00m\n",
      "\u001b[31mModuleNotFoundError\u001b[39m: No module named 'ngrok_key'"
     ]
    }
   ],
   "source": [
    "import tensorflow as tf\n",
    "import numpy as np\n",
    "from PIL import Image\n",
    "from tensorflow.keras.models import load_model\n",
    "import streamlit as st\n",
    "from pyngrok import ngrok, conf\n",
    "import ngrok_key  # File contain: NGROK_AUTH_TOKEN\n",
    "import os\n",
    "import threading\n",
    "import time\n"
   ]
  },
  {
   "cell_type": "code",
   "execution_count": null,
   "id": "8dc6e9f4",
   "metadata": {},
   "outputs": [],
   "source": [
    "conf.get_default().auth_token = ngrok_key.NGROK_AUTH_TOKEN\n",
    "public_url = ngrok.connect(8501)\n",
    "print(\"🔗 Public URL:\", public_url)"
   ]
  },
  {
   "cell_type": "code",
   "execution_count": null,
   "id": "f4a7debc",
   "metadata": {},
   "outputs": [],
   "source": [
    "model = load_model(r\"C:\\Users\\mrtat\\Downloads\\NTI\\Project\\my_model.h5\")\n",
    "class_names = [\"Normal\", \"Pneumonia\"]"
   ]
  },
  {
   "cell_type": "code",
   "execution_count": null,
   "id": "08e4ec44",
   "metadata": {},
   "outputs": [],
   "source": [
    "def preprocess_image(image):\n",
    "    image = image.convert(\"RGB\")  # Ensure it's 3-channel\n",
    "    img = image.resize((64, 64))\n",
    "    img_array = np.array(img) / 255.0\n",
    "    img_array = np.expand_dims(img_array, axis=0)\n",
    "    return img_array"
   ]
  },
  {
   "cell_type": "code",
   "execution_count": null,
   "id": "6c4e509c",
   "metadata": {},
   "outputs": [],
   "source": [
    "st.set_page_config(page_title=\"Pneumonia Detection\", layout=\"centered\")\n",
    "st.title(\" Pneumonia Detection from X-ray (via ngrok)\")\n",
    "\n",
    "uploaded_files = st.file_uploader(\n",
    "    \"Upload one or more X-ray images (PNG, JPG, JPEG)\",\n",
    "    type=[\"png\", \"jpg\", \"jpeg\"],\n",
    "    accept_multiple_files=True\n",
    ")\n"
   ]
  },
  {
   "cell_type": "code",
   "execution_count": null,
   "id": "ce7a6de8",
   "metadata": {},
   "outputs": [],
   "source": [
    "if uploaded_files:\n",
    "    for uploaded_file in uploaded_files:\n",
    "        image = Image.open(uploaded_file)\n",
    "        st.image(image, caption=f\"Uploaded: {uploaded_file.name}\", use_container_width=True)\n",
    "\n",
    "        input_array = preprocess_image(image)\n",
    "        prediction = model.predict(input_array)\n",
    "        predicted_class = class_names[np.argmax(prediction)]\n",
    "        accuracy = np.max(prediction) * 100\n",
    "\n",
    "        st.markdown(f\"### Prediction: **{predicted_class}**\")\n",
    "        st.markdown(f\"Accuracy: `{accuracy:.2f}%`\")\n",
    "        st.divider()"
   ]
  },
  {
   "cell_type": "code",
   "execution_count": null,
   "id": "24565016",
   "metadata": {},
   "outputs": [],
   "source": [
    "def run_streamlit():\n",
    "    os.system('streamlit run \"C:/Users/mrtat/Downloads/NTI/Project/app.py\"')\n"
   ]
  }
 ],
 "metadata": {
  "kernelspec": {
   "display_name": "Python 3",
   "language": "python",
   "name": "python3"
  },
  "language_info": {
   "codemirror_mode": {
    "name": "ipython",
    "version": 3
   },
   "file_extension": ".py",
   "mimetype": "text/x-python",
   "name": "python",
   "nbconvert_exporter": "python",
   "pygments_lexer": "ipython3",
   "version": "3.13.5"
  }
 },
 "nbformat": 4,
 "nbformat_minor": 5
}
